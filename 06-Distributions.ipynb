{
 "cells": [
  {
   "cell_type": "code",
   "execution_count": 1,
   "id": "e0a02af6",
   "metadata": {},
   "outputs": [],
   "source": [
    "# Libraries\n",
    "import numpy as np\n",
    "import pandas as pd\n",
    "from datetime import datetime as dt\n",
    "from scipy import stats\n",
    "import statsmodels.formula.api as sm_formula\n",
    "import statsmodels.api as sm\n",
    "from scipy import stats\n",
    "import scipy\n",
    "import math\n",
    "import matplotlib.pyplot as plt\n",
    "%matplotlib inline"
   ]
  },
  {
   "cell_type": "markdown",
   "id": "4f574ed2",
   "metadata": {},
   "source": [
    "### Check that the sum of squares of N(0,1) follows a chi-square distribution"
   ]
  },
  {
   "cell_type": "code",
   "execution_count": 2,
   "id": "2dbe651e",
   "metadata": {},
   "outputs": [],
   "source": [
    "m=5000 # samples of N(0,1)\n",
    "n=7   # degrees of freedom"
   ]
  },
  {
   "cell_type": "code",
   "execution_count": 3,
   "id": "bb897c86",
   "metadata": {},
   "outputs": [],
   "source": [
    "sample = np.random.normal(0, 1, m*n).reshape(m,n)\n",
    "sample2 = sample*sample"
   ]
  },
  {
   "cell_type": "code",
   "execution_count": 4,
   "id": "0a288332",
   "metadata": {},
   "outputs": [
    {
     "data": {
      "text/plain": [
       "count    5000.000000\n",
       "mean        6.991455\n",
       "std         3.699069\n",
       "min         0.099089\n",
       "25%         4.246220\n",
       "50%         6.333327\n",
       "75%         9.047932\n",
       "max        28.406071\n",
       "dtype: float64"
      ]
     },
     "execution_count": 4,
     "metadata": {},
     "output_type": "execute_result"
    },
    {
     "data": {
      "image/png": "[encoded data removed]",
      "text/plain": [
       "<Figure size 432x288 with 1 Axes>"
      ]
     },
     "metadata": {
      "needs_background": "light"
     },
     "output_type": "display_data"
    }
   ],
   "source": [
    "sums = sample2.sum(axis=1)\n",
    "pd.Series(sums).hist(bins=25)\n",
    "pd.Series(sums).describe()"
   ]
  },
  {
   "cell_type": "code",
   "execution_count": 5,
   "id": "bc412071",
   "metadata": {},
   "outputs": [
    {
     "data": {
      "text/plain": [
       "count    5000.000000\n",
       "mean        6.927249\n",
       "std         3.713117\n",
       "min         0.158118\n",
       "25%         4.203886\n",
       "50%         6.252757\n",
       "75%         9.012420\n",
       "max        26.281320\n",
       "dtype: float64"
      ]
     },
     "execution_count": 5,
     "metadata": {},
     "output_type": "execute_result"
    },
    {
     "data": {
      "image/png": "[encoded data removed]",
      "text/plain": [
       "<Figure size 432x288 with 1 Axes>"
      ]
     },
     "metadata": {
      "needs_background": "light"
     },
     "output_type": "display_data"
    }
   ],
   "source": [
    "sample3 = np.random.chisquare(n,m)\n",
    "pd.Series(sample3).hist(bins=25)\n",
    "pd.Series(sample3).describe()"
   ]
  },
  {
   "cell_type": "markdown",
   "id": "77039514",
   "metadata": {},
   "source": [
    "### Check that from the ratio of a z distribution and the root of a chi-square distribution we obtain a t distribution"
   ]
  },
  {
   "cell_type": "code",
   "execution_count": 6,
   "id": "f137cb71",
   "metadata": {},
   "outputs": [],
   "source": [
    "m=5000 # samples of N(0,1)\n",
    "n=7   # degrees of freedom"
   ]
  },
  {
   "cell_type": "code",
   "execution_count": 7,
   "id": "40cfb1e9",
   "metadata": {},
   "outputs": [],
   "source": [
    "samplez = np.random.normal(0, 1, m)\n",
    "samplechi2 = np.random.chisquare(n,m)\n",
    "samplechi2n = np.sqrt(np.random.chisquare(n,m)/n)\n",
    "t = samplez / samplechi2n"
   ]
  },
  {
   "cell_type": "code",
   "execution_count": 8,
   "id": "09ae9c2b",
   "metadata": {},
   "outputs": [
    {
     "data": {
      "text/plain": [
       "count    5000.000000\n",
       "mean        0.012007\n",
       "std         1.176430\n",
       "min        -6.654343\n",
       "25%        -0.727111\n",
       "50%         0.016790\n",
       "75%         0.724746\n",
       "max         6.826378\n",
       "dtype: float64"
      ]
     },
     "execution_count": 8,
     "metadata": {},
     "output_type": "execute_result"
    },
    {
     "data": {
      "image/png": "[encoded data removed]",
      "text/plain": [
       "<Figure size 432x288 with 1 Axes>"
      ]
     },
     "metadata": {
      "needs_background": "light"
     },
     "output_type": "display_data"
    }
   ],
   "source": [
    "pd.Series(t).hist(bins=25)\n",
    "pd.Series(t).describe()"
   ]
  },
  {
   "cell_type": "code",
   "execution_count": 9,
   "id": "47381815",
   "metadata": {},
   "outputs": [],
   "source": [
    "samplet = np.random.standard_t(n, m)"
   ]
  },
  {
   "cell_type": "code",
   "execution_count": 10,
   "id": "218e9e45",
   "metadata": {},
   "outputs": [
    {
     "data": {
      "text/plain": [
       "count    5000.000000\n",
       "mean        0.015669\n",
       "std         1.212696\n",
       "min        -7.896950\n",
       "25%        -0.717326\n",
       "50%         0.007816\n",
       "75%         0.741830\n",
       "max        12.190787\n",
       "dtype: float64"
      ]
     },
     "execution_count": 10,
     "metadata": {},
     "output_type": "execute_result"
    },
    {
     "data": {
      "image/png": "[encoded data removed]",
      "text/plain": [
       "<Figure size 432x288 with 1 Axes>"
      ]
     },
     "metadata": {
      "needs_background": "light"
     },
     "output_type": "display_data"
    }
   ],
   "source": [
    "pd.Series(samplet).hist(bins=25)\n",
    "pd.Series(samplet).describe()"
   ]
  },
  {
   "cell_type": "markdown",
   "id": "b8168624",
   "metadata": {},
   "source": [
    "### Punctual estimation"
   ]
  },
  {
   "cell_type": "code",
   "execution_count": 11,
   "id": "f97d16f6",
   "metadata": {},
   "outputs": [],
   "source": [
    "nterm = [587,470,676,451,436,672,584,697,408]"
   ]
  },
  {
   "cell_type": "code",
   "execution_count": 12,
   "id": "2b4ac14a",
   "metadata": {},
   "outputs": [
    {
     "data": {
      "text/plain": [
       "553.4444444444445"
      ]
     },
     "execution_count": 12,
     "metadata": {},
     "output_type": "execute_result"
    }
   ],
   "source": [
    "np.mean(nterm)"
   ]
  },
  {
   "cell_type": "code",
   "execution_count": 13,
   "id": "602a2df1",
   "metadata": {},
   "outputs": [
    {
     "data": {
      "text/plain": [
       "114.09876326138587"
      ]
     },
     "execution_count": 13,
     "metadata": {},
     "output_type": "execute_result"
    }
   ],
   "source": [
    "np.std(nterm,ddof=1)"
   ]
  },
  {
   "cell_type": "code",
   "execution_count": 14,
   "id": "f8045206",
   "metadata": {},
   "outputs": [
    {
     "data": {
      "text/plain": [
       "38.03292108712862"
      ]
     },
     "execution_count": 14,
     "metadata": {},
     "output_type": "execute_result"
    }
   ],
   "source": [
    "np.std(nterm,ddof=1)/np.sqrt(len(nterm))"
   ]
  },
  {
   "cell_type": "markdown",
   "id": "c2272cf1",
   "metadata": {},
   "source": [
    "### Confidence interval for the mean, stdev unknown"
   ]
  },
  {
   "cell_type": "code",
   "execution_count": 15,
   "id": "754dce56",
   "metadata": {},
   "outputs": [],
   "source": [
    "nterm = [587,470,676,451,436,672,584,697,408]\n",
    "n = 9\n",
    "sigma = 100"
   ]
  },
  {
   "cell_type": "code",
   "execution_count": 16,
   "id": "3ce6a4e5",
   "metadata": {},
   "outputs": [
    {
     "data": {
      "text/plain": [
       "1.959963984540054"
      ]
     },
     "execution_count": 16,
     "metadata": {},
     "output_type": "execute_result"
    }
   ],
   "source": [
    "scipy.stats.norm.ppf(0.975)"
   ]
  },
  {
   "cell_type": "code",
   "execution_count": 17,
   "id": "64fd0c64",
   "metadata": {},
   "outputs": [
    {
     "data": {
      "text/plain": [
       "618.7765772624463"
      ]
     },
     "execution_count": 17,
     "metadata": {},
     "output_type": "execute_result"
    }
   ],
   "source": [
    "np.mean(nterm) + scipy.stats.norm.ppf(0.975)*sigma/np.sqrt(n)"
   ]
  },
  {
   "cell_type": "code",
   "execution_count": 18,
   "id": "1a041ce1",
   "metadata": {},
   "outputs": [
    {
     "data": {
      "text/plain": [
       "641.1485177387609"
      ]
     },
     "execution_count": 18,
     "metadata": {},
     "output_type": "execute_result"
    }
   ],
   "source": [
    "np.mean(nterm) + scipy.stats.t.ppf(0.975,8)*np.std(nterm,ddof=1)/np.sqrt(n)"
   ]
  },
  {
   "cell_type": "code",
   "execution_count": 19,
   "id": "e64d05a2",
   "metadata": {},
   "outputs": [
    {
     "data": {
      "text/plain": [
       "0.9914641593831087"
      ]
     },
     "execution_count": 19,
     "metadata": {},
     "output_type": "execute_result"
    }
   ],
   "source": [
    "scipy.stats.t.cdf(3,8)"
   ]
  },
  {
   "cell_type": "markdown",
   "id": "820b1dd7",
   "metadata": {},
   "source": [
    "### Check that the quotient of two chi-square distributions divided by its degrees of freedom is a F distribution"
   ]
  },
  {
   "cell_type": "code",
   "execution_count": 20,
   "id": "8da50123",
   "metadata": {},
   "outputs": [],
   "source": [
    "m=5000 # samples of N(0,1)\n",
    "n1=5   # degrees of freedom\n",
    "n2=7 "
   ]
  },
  {
   "cell_type": "code",
   "execution_count": 21,
   "id": "7c30db40",
   "metadata": {},
   "outputs": [],
   "source": [
    "samplechi2n1 = np.random.chisquare(n1,m)\n",
    "samplechi2n2 = np.random.chisquare(n2,m)\n",
    "f = (samplechi2n1 / n1) / (samplechi2n2 / n2)"
   ]
  },
  {
   "cell_type": "code",
   "execution_count": 22,
   "id": "03fdb740",
   "metadata": {},
   "outputs": [
    {
     "data": {
      "text/plain": [
       "count    5000.000000\n",
       "mean        1.411335\n",
       "std         1.589890\n",
       "min         0.007822\n",
       "25%         0.534849\n",
       "50%         0.979947\n",
       "75%         1.734913\n",
       "max        32.869273\n",
       "dtype: float64"
      ]
     },
     "execution_count": 22,
     "metadata": {},
     "output_type": "execute_result"
    },
    {
     "data": {
      "image/png": "[encoded data removed]",
      "text/plain": [
       "<Figure size 432x288 with 1 Axes>"
      ]
     },
     "metadata": {
      "needs_background": "light"
     },
     "output_type": "display_data"
    }
   ],
   "source": [
    "pd.Series(f).hist(bins=25)\n",
    "pd.Series(f).describe()"
   ]
  },
  {
   "cell_type": "code",
   "execution_count": 23,
   "id": "6ff59d1b",
   "metadata": {},
   "outputs": [
    {
     "data": {
      "text/plain": [
       "count    5000.000000\n",
       "mean        1.405677\n",
       "std         1.782557\n",
       "min         0.010438\n",
       "25%         0.533694\n",
       "50%         0.946614\n",
       "75%         1.715853\n",
       "max        53.928547\n",
       "dtype: float64"
      ]
     },
     "execution_count": 23,
     "metadata": {},
     "output_type": "execute_result"
    },
    {
     "data": {
      "image/png": "[encoded data removed]",
      "text/plain": [
       "<Figure size 432x288 with 1 Axes>"
      ]
     },
     "metadata": {
      "needs_background": "light"
     },
     "output_type": "display_data"
    }
   ],
   "source": [
    "samplef = np.random.f(n1, n2, m)\n",
    "pd.Series(samplef).hist(bins=25)\n",
    "pd.Series(samplef).describe()"
   ]
  },
  {
   "cell_type": "code",
   "execution_count": 24,
   "id": "a302f1ed",
   "metadata": {},
   "outputs": [
    {
     "data": {
      "text/plain": [
       "10.05101721957127"
      ]
     },
     "execution_count": 24,
     "metadata": {},
     "output_type": "execute_result"
    }
   ],
   "source": [
    "scipy.stats.f.ppf(0.99,10,5)"
   ]
  },
  {
   "cell_type": "code",
   "execution_count": 25,
   "id": "1a6cfede",
   "metadata": {},
   "outputs": [
    {
     "data": {
      "text/plain": [
       "0.01000227680994581"
      ]
     },
     "execution_count": 25,
     "metadata": {},
     "output_type": "execute_result"
    }
   ],
   "source": [
    "1-scipy.stats.f.cdf(10.05,10,5)"
   ]
  },
  {
   "cell_type": "code",
   "execution_count": 26,
   "id": "f0c18b47",
   "metadata": {},
   "outputs": [
    {
     "data": {
      "text/plain": [
       "0.9945733337151855"
      ]
     },
     "execution_count": 26,
     "metadata": {},
     "output_type": "execute_result"
    }
   ],
   "source": [
    "scipy.stats.t.cdf(2.58,148)"
   ]
  },
  {
   "cell_type": "code",
   "execution_count": null,
   "id": "a2303e07",
   "metadata": {},
   "outputs": [],
   "source": []
  }
 ],
 "metadata": {
  "kernelspec": {
   "display_name": "Python 3",
   "language": "python",
   "name": "python3"
  },
  "language_info": {
   "codemirror_mode": {
    "name": "ipython",
    "version": 3
   },
   "file_extension": ".py",
   "mimetype": "text/x-python",
   "name": "python",
   "nbconvert_exporter": "python",
   "pygments_lexer": "ipython3",
   "version": "3.7.5"
  }
 },
 "nbformat": 4,
 "nbformat_minor": 5
}
