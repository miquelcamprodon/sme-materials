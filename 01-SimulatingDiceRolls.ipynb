{
 "cells": [
  {
   "cell_type": "markdown",
   "id": "7a03e6ec",
   "metadata": {},
   "source": [
    "# Simulating dice rolls"
   ]
  },
  {
   "cell_type": "markdown",
   "id": "753bb52e",
   "metadata": {},
   "source": [
    "- This lab is an introduction to <b>simulation and experimentation with Python</b>\n",
    "- We will simulate <b>m dice rolls n times</b>\n",
    "- We will observe and extract conclusions about the <b>distribution of the results</b>\n",
    "- Results follow the <b>law of large numbers</b>"
   ]
  },
  {
   "cell_type": "markdown",
   "id": "dfb302d7",
   "metadata": {},
   "source": [
    "## Libraries"
   ]
  },
  {
   "cell_type": "code",
   "execution_count": 5,
   "id": "0537e10d",
   "metadata": {},
   "outputs": [],
   "source": [
    "# Libraries\n",
    "from random import seed\n",
    "from random import randint\n",
    "import matplotlib.pyplot as plt\n",
    "%matplotlib inline"
   ]
  },
  {
   "cell_type": "markdown",
   "id": "baf94a26",
   "metadata": {},
   "source": [
    "## Random numbers"
   ]
  },
  {
   "cell_type": "code",
   "execution_count": 7,
   "id": "75b4ecd3",
   "metadata": {},
   "outputs": [
    {
     "data": {
      "text/plain": [
       "4"
      ]
     },
     "execution_count": 7,
     "metadata": {},
     "output_type": "execute_result"
    }
   ],
   "source": [
    "# Function to generate a random number between min an max (included)\n",
    "randint(0,10)"
   ]
  },
  {
   "cell_type": "code",
   "execution_count": 11,
   "id": "5c1281ab",
   "metadata": {},
   "outputs": [
    {
     "name": "stdout",
     "output_type": "stream",
     "text": [
      "4\n",
      "10\n",
      "7\n",
      "4\n",
      "9\n",
      "2\n",
      "9\n",
      "10\n",
      "7\n",
      "2\n",
      "2\n",
      "3\n",
      "4\n",
      "9\n",
      "8\n",
      "6\n",
      "3\n",
      "4\n",
      "5\n",
      "3\n",
      "9\n",
      "1\n",
      "4\n",
      "7\n",
      "2\n"
     ]
    }
   ],
   "source": [
    "# In a loop\n",
    "for i in range(0,25): # included\n",
    "    print(randint(0,10))"
   ]
  },
  {
   "cell_type": "markdown",
   "id": "91ee6ed9",
   "metadata": {},
   "source": [
    "### Exercise\n",
    "- Experiment with the min and max values\n",
    "- What happens when repeating the experiment?"
   ]
  },
  {
   "cell_type": "markdown",
   "id": "e3001c6b",
   "metadata": {},
   "source": [
    "## One dice (m=1)\n",
    "We roll one dice n times and store the result in an array"
   ]
  },
  {
   "cell_type": "code",
   "execution_count": 24,
   "id": "c23a2db7",
   "metadata": {},
   "outputs": [],
   "source": [
    "result = []\n",
    "m = 1\n",
    "n = 10\n",
    "for i in range(0,n):\n",
    "    roll_result = randint(1,6)\n",
    "    result.append(roll_result)"
   ]
  },
  {
   "cell_type": "code",
   "execution_count": 25,
   "id": "10b974b0",
   "metadata": {
    "scrolled": true
   },
   "outputs": [
    {
     "data": {
      "text/plain": [
       "[4, 5, 3, 5, 5, 2, 1, 4, 6, 2]"
      ]
     },
     "execution_count": 25,
     "metadata": {},
     "output_type": "execute_result"
    }
   ],
   "source": [
    "# Show (part of) the result\n",
    "result[0:min(10,n)]"
   ]
  },
  {
   "cell_type": "code",
   "execution_count": 26,
   "id": "be1ea7f2",
   "metadata": {},
   "outputs": [
    {
     "data": {
      "text/plain": [
       "(array([1., 0., 2., 0., 1., 0., 2., 0., 3., 1.]),\n",
       " array([1. , 1.5, 2. , 2.5, 3. , 3.5, 4. , 4.5, 5. , 5.5, 6. ]),\n",
       " <BarContainer object of 10 artists>)"
      ]
     },
     "execution_count": 26,
     "metadata": {},
     "output_type": "execute_result"
    },
    {
     "data": {
      "image/png": "[encoded data removed]",
      "text/plain": [
       "<Figure size 640x480 with 1 Axes>"
      ]
     },
     "metadata": {},
     "output_type": "display_data"
    }
   ],
   "source": [
    "# Plot the result\n",
    "plt.hist(result)"
   ]
  },
  {
   "cell_type": "markdown",
   "id": "c213352a",
   "metadata": {},
   "source": [
    "### Exercise\n",
    "- Experiment with different values for n. What happens with the result?"
   ]
  },
  {
   "cell_type": "markdown",
   "id": "cd54be01",
   "metadata": {},
   "source": [
    "## Two dice (m=2)\n",
    "We roll two dice n times and store the result (sum of results of each dice) in an array"
   ]
  },
  {
   "cell_type": "code",
   "execution_count": 33,
   "id": "4d463353",
   "metadata": {},
   "outputs": [],
   "source": [
    "result = []\n",
    "m=2\n",
    "n=1000\n",
    "for i in range(0,n):\n",
    "    roll_result = randint(1,6) + randint(1,6)\n",
    "    result.append(roll_result)"
   ]
  },
  {
   "cell_type": "code",
   "execution_count": 34,
   "id": "bc180ecf",
   "metadata": {},
   "outputs": [
    {
     "data": {
      "text/plain": [
       "[5, 4, 7, 7, 5, 8, 11, 12, 10, 6]"
      ]
     },
     "execution_count": 34,
     "metadata": {},
     "output_type": "execute_result"
    }
   ],
   "source": [
    "# Showing the result\n",
    "result[0:min(10,n)]"
   ]
  },
  {
   "cell_type": "code",
   "execution_count": 35,
   "id": "f93731f2",
   "metadata": {},
   "outputs": [
    {
     "data": {
      "text/plain": [
       "(array([ 28.,  59.,  83., 115., 129., 174., 158., 114.,  88.,  39.,  13.]),\n",
       " array([ 2.        ,  2.90909091,  3.81818182,  4.72727273,  5.63636364,\n",
       "         6.54545455,  7.45454545,  8.36363636,  9.27272727, 10.18181818,\n",
       "        11.09090909, 12.        ]),\n",
       " <BarContainer object of 11 artists>)"
      ]
     },
     "execution_count": 35,
     "metadata": {},
     "output_type": "execute_result"
    },
    {
     "data": {
      "image/png": "[encoded data removed]",
      "text/plain": [
       "<Figure size 640x480 with 1 Axes>"
      ]
     },
     "metadata": {},
     "output_type": "display_data"
    }
   ],
   "source": [
    "# Plotting the result\n",
    "plt.hist(result, bins=11)"
   ]
  },
  {
   "cell_type": "markdown",
   "id": "15d4614a",
   "metadata": {},
   "source": [
    "### Exercise \n",
    "- Experiment with different values for n. What happens with the result?"
   ]
  },
  {
   "cell_type": "markdown",
   "id": "98178462",
   "metadata": {},
   "source": [
    "## M dice"
   ]
  },
  {
   "cell_type": "markdown",
   "id": "1cc05d4c",
   "metadata": {},
   "source": [
    "### Exercise \n",
    "- Repeat the experiment of rolling m dice n times with m equal to 4, 10, 100\n",
    "- What is the distribution of the results histogram?"
   ]
  },
  {
   "cell_type": "code",
   "execution_count": 42,
   "id": "ff23694d",
   "metadata": {},
   "outputs": [],
   "source": [
    "result = []\n",
    "m=1000\n",
    "n=10000\n",
    "for i in range(0,n):\n",
    "    roll_result = 0\n",
    "    for j in range(0,m):\n",
    "        roll_result = roll_result + randint(1,6)\n",
    "    result.append(roll_result)"
   ]
  },
  {
   "cell_type": "code",
   "execution_count": 43,
   "id": "fc1a25da",
   "metadata": {},
   "outputs": [
    {
     "data": {
      "text/plain": [
       "(array([  1.,   0.,   0.,   0.,   0.,   0.,   0.,   0.,   1.,   2.,   0.,\n",
       "          0.,   0.,   2.,   2.,   0.,   0.,   2.,   2.,   2.,   4.,   3.,\n",
       "          4.,   6.,   3.,   3.,   6.,   6.,   2.,   2.,   7.,  10.,   5.,\n",
       "          4.,   9.,  13.,  12.,  13.,  12.,  14.,  15.,  15.,  14.,  24.,\n",
       "         17.,  16.,  22.,  23.,  35.,  27.,  22.,  17.,  50.,  47.,  42.,\n",
       "         49.,  39.,  29.,  52.,  50.,  66.,  64.,  66.,  63.,  67.,  73.,\n",
       "         79.,  63.,  80., 126., 104.,  86., 109.,  84.,  87., 101., 114.,\n",
       "         95., 198., 130., 130., 120., 125., 123., 145., 122., 202., 142.,\n",
       "        150., 145., 119., 158., 143., 150., 161., 199., 135., 156., 155.,\n",
       "        136., 156., 153., 143., 153., 205., 153., 138., 148., 118., 128.,\n",
       "        134., 148., 112., 191., 122., 113.,  97., 117.,  80.,  95.,  99.,\n",
       "        127.,  70.,  79.,  70.,  77.,  68.,  72.,  65.,  58.,  99.,  64.,\n",
       "         59.,  49.,  43.,  30.,  43.,  36.,  34.,  66.,  45.,  40.,  20.,\n",
       "         21.,  30.,  22.,  25.,  35.,  18.,  15.,  21.,  18.,  17.,   9.,\n",
       "          4.,   8.,  20.,   9.,  10.,   4.,   8.,   6.,   6.,   6.,   5.,\n",
       "          3.,   2.,   3.,   3.,   3.,   2.,   0.,   1.,   3.,   4.,   1.,\n",
       "          2.,   0.,   0.,   3.,   1.,   1.,   1.,   0.,   0.,   2.,   1.,\n",
       "          0.,   1.,   0.,   0.,   0.,   0.,   0.,   0.,   0.,   0.,   0.,\n",
       "          0.,   1.]),\n",
       " array([3296.   , 3298.115, 3300.23 , 3302.345, 3304.46 , 3306.575,\n",
       "        3308.69 , 3310.805, 3312.92 , 3315.035, 3317.15 , 3319.265,\n",
       "        3321.38 , 3323.495, 3325.61 , 3327.725, 3329.84 , 3331.955,\n",
       "        3334.07 , 3336.185, 3338.3  , 3340.415, 3342.53 , 3344.645,\n",
       "        3346.76 , 3348.875, 3350.99 , 3353.105, 3355.22 , 3357.335,\n",
       "        3359.45 , 3361.565, 3363.68 , 3365.795, 3367.91 , 3370.025,\n",
       "        3372.14 , 3374.255, 3376.37 , 3378.485, 3380.6  , 3382.715,\n",
       "        3384.83 , 3386.945, 3389.06 , 3391.175, 3393.29 , 3395.405,\n",
       "        3397.52 , 3399.635, 3401.75 , 3403.865, 3405.98 , 3408.095,\n",
       "        3410.21 , 3412.325, 3414.44 , 3416.555, 3418.67 , 3420.785,\n",
       "        3422.9  , 3425.015, 3427.13 , 3429.245, 3431.36 , 3433.475,\n",
       "        3435.59 , 3437.705, 3439.82 , 3441.935, 3444.05 , 3446.165,\n",
       "        3448.28 , 3450.395, 3452.51 , 3454.625, 3456.74 , 3458.855,\n",
       "        3460.97 , 3463.085, 3465.2  , 3467.315, 3469.43 , 3471.545,\n",
       "        3473.66 , 3475.775, 3477.89 , 3480.005, 3482.12 , 3484.235,\n",
       "        3486.35 , 3488.465, 3490.58 , 3492.695, 3494.81 , 3496.925,\n",
       "        3499.04 , 3501.155, 3503.27 , 3505.385, 3507.5  , 3509.615,\n",
       "        3511.73 , 3513.845, 3515.96 , 3518.075, 3520.19 , 3522.305,\n",
       "        3524.42 , 3526.535, 3528.65 , 3530.765, 3532.88 , 3534.995,\n",
       "        3537.11 , 3539.225, 3541.34 , 3543.455, 3545.57 , 3547.685,\n",
       "        3549.8  , 3551.915, 3554.03 , 3556.145, 3558.26 , 3560.375,\n",
       "        3562.49 , 3564.605, 3566.72 , 3568.835, 3570.95 , 3573.065,\n",
       "        3575.18 , 3577.295, 3579.41 , 3581.525, 3583.64 , 3585.755,\n",
       "        3587.87 , 3589.985, 3592.1  , 3594.215, 3596.33 , 3598.445,\n",
       "        3600.56 , 3602.675, 3604.79 , 3606.905, 3609.02 , 3611.135,\n",
       "        3613.25 , 3615.365, 3617.48 , 3619.595, 3621.71 , 3623.825,\n",
       "        3625.94 , 3628.055, 3630.17 , 3632.285, 3634.4  , 3636.515,\n",
       "        3638.63 , 3640.745, 3642.86 , 3644.975, 3647.09 , 3649.205,\n",
       "        3651.32 , 3653.435, 3655.55 , 3657.665, 3659.78 , 3661.895,\n",
       "        3664.01 , 3666.125, 3668.24 , 3670.355, 3672.47 , 3674.585,\n",
       "        3676.7  , 3678.815, 3680.93 , 3683.045, 3685.16 , 3687.275,\n",
       "        3689.39 , 3691.505, 3693.62 , 3695.735, 3697.85 , 3699.965,\n",
       "        3702.08 , 3704.195, 3706.31 , 3708.425, 3710.54 , 3712.655,\n",
       "        3714.77 , 3716.885, 3719.   ]),\n",
       " <BarContainer object of 200 artists>)"
      ]
     },
     "execution_count": 43,
     "metadata": {},
     "output_type": "execute_result"
    },
    {
     "data": {
      "image/png": "[encoded data removed]",
      "text/plain": [
       "<Figure size 640x480 with 1 Axes>"
      ]
     },
     "metadata": {},
     "output_type": "display_data"
    }
   ],
   "source": [
    "# Plotting the result\n",
    "plt.hist(result, bins=200)"
   ]
  },
  {
   "cell_type": "markdown",
   "id": "e41b4a8b",
   "metadata": {},
   "source": [
    "## Recap\n",
    "- What conclusions can you extract from the experiments in terms of n and m?\n",
    "- Results are explained by the law of large numbers. We will see it soon in class"
   ]
  },
  {
   "cell_type": "markdown",
   "id": "0cc724b5",
   "metadata": {},
   "source": [
    "## Bonus exercise\n",
    "- Create your own dice: a dice with possible results 1..6 but with different probabilities of the classic dice\n",
    "\n",
    "- Repeat the exercise with this dice and compare the results with the previous ones\n",
    "\n",
    "- Hint: Build a function that simulates your own dice"
   ]
  },
  {
   "cell_type": "code",
   "execution_count": 38,
   "id": "1b982203",
   "metadata": {},
   "outputs": [],
   "source": [
    "# Example\n",
    "def mydice():\n",
    "    tmp = randint(1,6)\n",
    "    if tmp == 6:\n",
    "        tmp = 4\n",
    "    return tmp"
   ]
  },
  {
   "cell_type": "code",
   "execution_count": 39,
   "id": "0af758a5",
   "metadata": {},
   "outputs": [
    {
     "name": "stdout",
     "output_type": "stream",
     "text": [
      "4\n",
      "2\n",
      "3\n",
      "1\n",
      "4\n",
      "3\n",
      "2\n",
      "3\n",
      "1\n",
      "4\n",
      "5\n",
      "3\n",
      "4\n",
      "2\n",
      "5\n",
      "4\n",
      "1\n",
      "2\n",
      "1\n",
      "4\n",
      "3\n",
      "5\n",
      "5\n",
      "4\n"
     ]
    }
   ],
   "source": [
    "for i in range(1,25):\n",
    "    print(mydice())"
   ]
  },
  {
   "cell_type": "code",
   "execution_count": 40,
   "id": "6602cdcd",
   "metadata": {},
   "outputs": [],
   "source": [
    "result = []\n",
    "m = 1\n",
    "n = 100000\n",
    "for i in range(0,n):\n",
    "    roll_result = 0\n",
    "    for j in range(0,m):\n",
    "      roll_result = roll_result + mydice()\n",
    "    result.append(roll_result)"
   ]
  },
  {
   "cell_type": "code",
   "execution_count": 41,
   "id": "bac51e99",
   "metadata": {},
   "outputs": [
    {
     "data": {
      "text/plain": [
       "(array([16795.,     0., 16454.,     0.,     0., 16699.,     0., 33294.,\n",
       "            0., 16758.]),\n",
       " array([1. , 1.4, 1.8, 2.2, 2.6, 3. , 3.4, 3.8, 4.2, 4.6, 5. ]),\n",
       " <BarContainer object of 10 artists>)"
      ]
     },
     "execution_count": 41,
     "metadata": {},
     "output_type": "execute_result"
    },
    {
     "data": {
      "image/png": "[encoded data removed]",
      "text/plain": [
       "<Figure size 640x480 with 1 Axes>"
      ]
     },
     "metadata": {},
     "output_type": "display_data"
    }
   ],
   "source": [
    "# Plot the result\n",
    "plt.hist(result)"
   ]
  },
  {
   "cell_type": "code",
   "execution_count": null,
   "id": "7897c37a",
   "metadata": {},
   "outputs": [],
   "source": []
  }
 ],
 "metadata": {
  "kernelspec": {
   "display_name": "Python 3 (ipykernel)",
   "language": "python",
   "name": "python3"
  },
  "language_info": {
   "codemirror_mode": {
    "name": "ipython",
    "version": 3
   },
   "file_extension": ".py",
   "mimetype": "text/x-python",
   "name": "python",
   "nbconvert_exporter": "python",
   "pygments_lexer": "ipython3",
   "version": "3.10.9"
  }
 },
 "nbformat": 4,
 "nbformat_minor": 5
}
