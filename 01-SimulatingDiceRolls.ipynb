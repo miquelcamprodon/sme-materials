{
 "cells": [
  {
   "cell_type": "markdown",
   "id": "97149b2d",
   "metadata": {},
   "source": [
    "# Simulating dice rolls"
   ]
  },
  {
   "cell_type": "markdown",
   "id": "0e945eef",
   "metadata": {},
   "source": [
    "- This lab is an introduction to <b>simulation and experimentation with Python</b>\n",
    "- We will simulate <b>m dice rolls n times</b>\n",
    "- We will observe and extract conclusions about the <b>distribution of the results</b>\n",
    "- Results follow the <b>law of large numbers</b>"
   ]
  },
  {
   "cell_type": "markdown",
   "id": "dab0742d",
   "metadata": {},
   "source": [
    "## Libraries"
   ]
  },
  {
   "cell_type": "code",
   "execution_count": 5,
   "id": "8f8f898b",
   "metadata": {},
   "outputs": [],
   "source": [
    "# Libraries\n",
    "from random import seed\n",
    "from random import randint\n",
    "import matplotlib.pyplot as plt\n",
    "%matplotlib inline"
   ]
  },
  {
   "cell_type": "markdown",
   "id": "9391f04f",
   "metadata": {},
   "source": [
    "## Random numbers"
   ]
  },
  {
   "cell_type": "code",
   "execution_count": 12,
   "id": "3351d1bb",
   "metadata": {},
   "outputs": [
    {
     "data": {
      "text/plain": [
       "3"
      ]
     },
     "execution_count": 12,
     "metadata": {},
     "output_type": "execute_result"
    }
   ],
   "source": [
    "# Function to generate a random number between min an max (included)\n",
    "randint(0,10)"
   ]
  },
  {
   "cell_type": "code",
   "execution_count": 14,
   "id": "b9ff2787",
   "metadata": {},
   "outputs": [
    {
     "name": "stdout",
     "output_type": "stream",
     "text": [
      "4\n",
      "5\n",
      "4\n",
      "4\n",
      "5\n",
      "0\n",
      "4\n",
      "6\n",
      "8\n",
      "2\n",
      "9\n",
      "2\n",
      "4\n",
      "8\n",
      "7\n",
      "1\n",
      "5\n",
      "5\n",
      "9\n",
      "4\n",
      "10\n",
      "5\n",
      "9\n",
      "9\n",
      "8\n"
     ]
    }
   ],
   "source": [
    "# In a loop\n",
    "for i in range(0,25): # included\n",
    "    print(randint(0,10))"
   ]
  },
  {
   "cell_type": "markdown",
   "id": "aa3ddd27",
   "metadata": {},
   "source": [
    "### Exercise\n",
    "- Experiment with the min and max values\n",
    "- Observe what happens when repeating the experiment"
   ]
  },
  {
   "cell_type": "markdown",
   "id": "f898e388",
   "metadata": {},
   "source": [
    "## One dice (m=1)\n",
    "We roll one dice n times and store the result in an array"
   ]
  },
  {
   "cell_type": "code",
   "execution_count": 21,
   "id": "d260ab62",
   "metadata": {},
   "outputs": [],
   "source": [
    "result = []\n",
    "m = 1\n",
    "n = 10\n",
    "for i in range(0,n):\n",
    "    roll_result = randint(1,6)\n",
    "    result.append(roll_result)"
   ]
  },
  {
   "cell_type": "code",
   "execution_count": 22,
   "id": "18aead1a",
   "metadata": {
    "scrolled": true
   },
   "outputs": [
    {
     "data": {
      "text/plain": [
       "[2, 6, 1, 1, 3, 4, 4, 4, 1, 2]"
      ]
     },
     "execution_count": 22,
     "metadata": {},
     "output_type": "execute_result"
    }
   ],
   "source": [
    "# Show (part of) the result\n",
    "result[0:min(10,n)]"
   ]
  },
  {
   "cell_type": "code",
   "execution_count": 23,
   "id": "accddfb5",
   "metadata": {},
   "outputs": [
    {
     "data": {
      "text/plain": [
       "(array([3., 0., 2., 0., 1., 0., 3., 0., 0., 1.]),\n",
       " array([1. , 1.5, 2. , 2.5, 3. , 3.5, 4. , 4.5, 5. , 5.5, 6. ]),\n",
       " <BarContainer object of 10 artists>)"
      ]
     },
     "execution_count": 23,
     "metadata": {},
     "output_type": "execute_result"
    },
    {
     "data": {
      "image/png": "[encoded data removed]",
      "text/plain": [
       "<Figure size 432x288 with 1 Axes>"
      ]
     },
     "metadata": {
      "needs_background": "light"
     },
     "output_type": "display_data"
    }
   ],
   "source": [
    "# Plot the result\n",
    "plt.hist(result)"
   ]
  },
  {
   "cell_type": "markdown",
   "id": "6cdff933",
   "metadata": {},
   "source": [
    "### Exercise\n",
    "- Experiment with different values for n. What happens with the result?"
   ]
  },
  {
   "cell_type": "markdown",
   "id": "35c21a91",
   "metadata": {},
   "source": [
    "## Two dice (m=2)\n",
    "We roll two dice n times and store the result (sum of results of each dice) in an array"
   ]
  },
  {
   "cell_type": "code",
   "execution_count": 7,
   "id": "c6289ed6",
   "metadata": {},
   "outputs": [],
   "source": [
    "result = []\n",
    "m=2\n",
    "n=10\n",
    "for i in range(0,n):\n",
    "    roll_result = randint(1,6) + randint(1,6)\n",
    "    result.append(roll_result)"
   ]
  },
  {
   "cell_type": "code",
   "execution_count": 8,
   "id": "4427f382",
   "metadata": {},
   "outputs": [
    {
     "data": {
      "text/plain": [
       "[6, 7, 9, 7, 7, 4, 7, 6, 7, 8]"
      ]
     },
     "execution_count": 8,
     "metadata": {},
     "output_type": "execute_result"
    }
   ],
   "source": [
    "# Showing the result\n",
    "result[0:min(10,n)]"
   ]
  },
  {
   "cell_type": "code",
   "execution_count": 9,
   "id": "1505b1f8",
   "metadata": {},
   "outputs": [
    {
     "data": {
      "text/plain": [
       "(array([1., 0., 0., 0., 2., 0., 5., 0., 1., 0., 1.]),\n",
       " array([4.        , 4.45454545, 4.90909091, 5.36363636, 5.81818182,\n",
       "        6.27272727, 6.72727273, 7.18181818, 7.63636364, 8.09090909,\n",
       "        8.54545455, 9.        ]),\n",
       " <BarContainer object of 11 artists>)"
      ]
     },
     "execution_count": 9,
     "metadata": {},
     "output_type": "execute_result"
    },
    {
     "data": {
      "image/png": "[encoded data removed]",
      "text/plain": [
       "<Figure size 432x288 with 1 Axes>"
      ]
     },
     "metadata": {
      "needs_background": "light"
     },
     "output_type": "display_data"
    }
   ],
   "source": [
    "# Plotting the result\n",
    "plt.hist(result, bins=11)"
   ]
  },
  {
   "cell_type": "markdown",
   "id": "83781409",
   "metadata": {},
   "source": [
    "### Exercise \n",
    "- Experiment with different values for n. What happens with the result?"
   ]
  },
  {
   "cell_type": "markdown",
   "id": "50fd5d3f",
   "metadata": {},
   "source": [
    "## M dice"
   ]
  },
  {
   "cell_type": "markdown",
   "id": "bd6574be",
   "metadata": {},
   "source": [
    "### Exercise \n",
    "- Repeat the experiment of rolling m dice n times with m equal to 4, 10, 100\n",
    "- Which is the distribution of the results histogram?"
   ]
  },
  {
   "cell_type": "code",
   "execution_count": 10,
   "id": "fd7a0e95",
   "metadata": {},
   "outputs": [],
   "source": [
    "result = []\n",
    "m=100\n",
    "n=10000\n",
    "for i in range(0,n):\n",
    "    roll_result = 0\n",
    "    for j in range(0,m):\n",
    "        roll_result = roll_result + randint(1,6)\n",
    "    result.append(roll_result)"
   ]
  },
  {
   "cell_type": "code",
   "execution_count": 11,
   "id": "d6e5308c",
   "metadata": {},
   "outputs": [
    {
     "data": {
      "text/plain": [
       "(array([  1.,   0.,   0.,   0.,   0.,   0.,   0.,   1.,   0.,   0.,   0.,\n",
       "          0.,   0.,   3.,   0.,   0.,   0.,   1.,   0.,   0.,   3.,   0.,\n",
       "          2.,   1.,   0.,   3.,   4.,   4.,   0.,   4.,   7.,   0.,   2.,\n",
       "          5.,   0.,   9.,   9.,   0.,  12.,  10.,   0.,  15.,  19.,   0.,\n",
       "         21.,  22.,   0.,  21.,  40.,   0.,  26.,  35.,  42.,   0.,  55.,\n",
       "         48.,   0.,  60.,  54.,   0.,  72.,  73.,   0.,  78.,  78.,   0.,\n",
       "         88., 102.,   0., 116., 121.,   0., 122., 147.,   0., 146., 136.,\n",
       "        162.,   0., 169., 155.,   0., 165., 165.,   0., 184., 226.,   0.,\n",
       "        232., 244.,   0., 199., 224.,   0., 228., 263.,   0., 246., 234.,\n",
       "          0., 221., 246., 217.,   0., 215., 245.,   0., 192., 232.,   0.,\n",
       "        221., 202.,   0., 214., 170.,   0., 197., 166.,   0., 155., 165.,\n",
       "          0., 160., 158.,   0., 131., 135., 143.,   0., 114., 113.,   0.,\n",
       "        109.,  80.,   0.,  87.,  94.,   0.,  87.,  55.,   0.,  78.,  57.,\n",
       "          0.,  45.,  50.,   0.,  46.,  32.,   0.,  23.,  33.,  21.,   0.,\n",
       "         27.,  25.,   0.,  15.,  11.,   0.,  14.,  13.,   0.,   9.,   8.,\n",
       "          0.,  11.,   6.,   0.,   4.,   4.,   0.,   1.,   9.,   0.,   2.,\n",
       "          2.,   1.,   0.,   1.,   2.,   0.,   1.,   2.,   0.,   1.,   2.,\n",
       "          0.,   1.,   0.,   0.,   0.,   0.,   0.,   0.,   2.,   0.,   1.,\n",
       "          1.,   1.]),\n",
       " array([282.  , 282.68, 283.36, 284.04, 284.72, 285.4 , 286.08, 286.76,\n",
       "        287.44, 288.12, 288.8 , 289.48, 290.16, 290.84, 291.52, 292.2 ,\n",
       "        292.88, 293.56, 294.24, 294.92, 295.6 , 296.28, 296.96, 297.64,\n",
       "        298.32, 299.  , 299.68, 300.36, 301.04, 301.72, 302.4 , 303.08,\n",
       "        303.76, 304.44, 305.12, 305.8 , 306.48, 307.16, 307.84, 308.52,\n",
       "        309.2 , 309.88, 310.56, 311.24, 311.92, 312.6 , 313.28, 313.96,\n",
       "        314.64, 315.32, 316.  , 316.68, 317.36, 318.04, 318.72, 319.4 ,\n",
       "        320.08, 320.76, 321.44, 322.12, 322.8 , 323.48, 324.16, 324.84,\n",
       "        325.52, 326.2 , 326.88, 327.56, 328.24, 328.92, 329.6 , 330.28,\n",
       "        330.96, 331.64, 332.32, 333.  , 333.68, 334.36, 335.04, 335.72,\n",
       "        336.4 , 337.08, 337.76, 338.44, 339.12, 339.8 , 340.48, 341.16,\n",
       "        341.84, 342.52, 343.2 , 343.88, 344.56, 345.24, 345.92, 346.6 ,\n",
       "        347.28, 347.96, 348.64, 349.32, 350.  , 350.68, 351.36, 352.04,\n",
       "        352.72, 353.4 , 354.08, 354.76, 355.44, 356.12, 356.8 , 357.48,\n",
       "        358.16, 358.84, 359.52, 360.2 , 360.88, 361.56, 362.24, 362.92,\n",
       "        363.6 , 364.28, 364.96, 365.64, 366.32, 367.  , 367.68, 368.36,\n",
       "        369.04, 369.72, 370.4 , 371.08, 371.76, 372.44, 373.12, 373.8 ,\n",
       "        374.48, 375.16, 375.84, 376.52, 377.2 , 377.88, 378.56, 379.24,\n",
       "        379.92, 380.6 , 381.28, 381.96, 382.64, 383.32, 384.  , 384.68,\n",
       "        385.36, 386.04, 386.72, 387.4 , 388.08, 388.76, 389.44, 390.12,\n",
       "        390.8 , 391.48, 392.16, 392.84, 393.52, 394.2 , 394.88, 395.56,\n",
       "        396.24, 396.92, 397.6 , 398.28, 398.96, 399.64, 400.32, 401.  ,\n",
       "        401.68, 402.36, 403.04, 403.72, 404.4 , 405.08, 405.76, 406.44,\n",
       "        407.12, 407.8 , 408.48, 409.16, 409.84, 410.52, 411.2 , 411.88,\n",
       "        412.56, 413.24, 413.92, 414.6 , 415.28, 415.96, 416.64, 417.32,\n",
       "        418.  ]),\n",
       " <BarContainer object of 200 artists>)"
      ]
     },
     "execution_count": 11,
     "metadata": {},
     "output_type": "execute_result"
    },
    {
     "data": {
      "image/png": "[encoded data removed]",
      "text/plain": [
       "<Figure size 432x288 with 1 Axes>"
      ]
     },
     "metadata": {
      "needs_background": "light"
     },
     "output_type": "display_data"
    }
   ],
   "source": [
    "# Plotting the result\n",
    "plt.hist(result, bins=200)"
   ]
  },
  {
   "cell_type": "markdown",
   "id": "f159df5b",
   "metadata": {},
   "source": [
    "## Recap\n",
    "- Which conclusions can you extract from the experiments in terms of n and m?\n",
    "- Results are explained by the law of large numbers. We will see it soon in class"
   ]
  },
  {
   "cell_type": "markdown",
   "id": "4e24a487",
   "metadata": {},
   "source": [
    "## Bonus exercise\n",
    "- Create your own dice: a dice with possible results 1..6 but with different probabilities of the classic dice\n",
    "\n",
    "- Repeat the exercise with this dice and compare the results with the previous ones\n",
    "\n",
    "- Hint: Build a function that simulates your own dice"
   ]
  },
  {
   "cell_type": "code",
   "execution_count": 24,
   "id": "a64d5ec1",
   "metadata": {},
   "outputs": [],
   "source": [
    "def elmeudau():\n",
    "    tmp = randint(1,6)\n",
    "    if tmp == 6:\n",
    "        tmp = 4\n",
    "    return tmp"
   ]
  },
  {
   "cell_type": "code",
   "execution_count": 25,
   "id": "ead4e87c",
   "metadata": {},
   "outputs": [
    {
     "name": "stdout",
     "output_type": "stream",
     "text": [
      "4\n",
      "1\n",
      "5\n",
      "4\n",
      "4\n",
      "5\n",
      "4\n",
      "2\n",
      "3\n",
      "4\n",
      "4\n",
      "1\n",
      "1\n",
      "2\n",
      "4\n",
      "4\n",
      "4\n",
      "4\n",
      "4\n",
      "4\n",
      "5\n",
      "5\n",
      "1\n",
      "4\n"
     ]
    }
   ],
   "source": [
    "for i in range(1,25):\n",
    "    print(elmeudau())"
   ]
  },
  {
   "cell_type": "code",
   "execution_count": 33,
   "id": "3c1a6fcb",
   "metadata": {},
   "outputs": [],
   "source": [
    "result = []\n",
    "m = 100\n",
    "n = 100000\n",
    "for i in range(0,n):\n",
    "    roll_result = 0\n",
    "    for j in range(0,m):\n",
    "      roll_result = roll_result + elmeudau()\n",
    "    result.append(roll_result)"
   ]
  },
  {
   "cell_type": "code",
   "execution_count": 34,
   "id": "b0ad70af",
   "metadata": {},
   "outputs": [
    {
     "data": {
      "text/plain": [
       "(array([2.2000e+01, 2.7700e+02, 2.8570e+03, 1.1355e+04, 2.8820e+04,\n",
       "        3.0873e+04, 1.9897e+04, 5.0890e+03, 7.7100e+02, 3.9000e+01]),\n",
       " array([257. , 268.5, 280. , 291.5, 303. , 314.5, 326. , 337.5, 349. ,\n",
       "        360.5, 372. ]),\n",
       " <BarContainer object of 10 artists>)"
      ]
     },
     "execution_count": 34,
     "metadata": {},
     "output_type": "execute_result"
    },
    {
     "data": {
      "image/png": "[encoded data removed]",
      "text/plain": [
       "<Figure size 432x288 with 1 Axes>"
      ]
     },
     "metadata": {
      "needs_background": "light"
     },
     "output_type": "display_data"
    }
   ],
   "source": [
    "# Plot the result\n",
    "plt.hist(result)"
   ]
  },
  {
   "cell_type": "code",
   "execution_count": null,
   "id": "4539df30",
   "metadata": {},
   "outputs": [],
   "source": []
  }
 ],
 "metadata": {
  "kernelspec": {
   "display_name": "Python 3",
   "language": "python",
   "name": "python3"
  },
  "language_info": {
   "codemirror_mode": {
    "name": "ipython",
    "version": 3
   },
   "file_extension": ".py",
   "mimetype": "text/x-python",
   "name": "python",
   "nbconvert_exporter": "python",
   "pygments_lexer": "ipython3",
   "version": "3.7.5"
  }
 },
 "nbformat": 4,
 "nbformat_minor": 5
}
