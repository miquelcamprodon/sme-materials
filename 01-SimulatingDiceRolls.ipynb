{
 "cells": [
  {
   "cell_type": "markdown",
   "id": "662c0f4f",
   "metadata": {},
   "source": [
    "# Simulating dice rolls"
   ]
  },
  {
   "cell_type": "markdown",
   "id": "4376d698",
   "metadata": {},
   "source": [
    "- This lab is an introduction to <b>simulation and experimentation with Python</b>\n",
    "- We will simulate <b>m dice rolls n times</b>\n",
    "- We will observe and extract conclusions about the <b>distribution of the results</b>\n",
    "- Results follow the <b>law of large numbers</b>"
   ]
  },
  {
   "cell_type": "markdown",
   "id": "3fc881e2",
   "metadata": {},
   "source": [
    "## Libraries"
   ]
  },
  {
   "cell_type": "code",
   "execution_count": 1,
   "id": "fc5d3364",
   "metadata": {},
   "outputs": [],
   "source": [
    "# Libraries\n",
    "from random import seed\n",
    "from random import randint\n",
    "import matplotlib.pyplot as plt\n",
    "%matplotlib inline"
   ]
  },
  {
   "cell_type": "markdown",
   "id": "b21303f2",
   "metadata": {},
   "source": [
    "## Random numbers"
   ]
  },
  {
   "cell_type": "code",
   "execution_count": 2,
   "id": "e8d76f3e",
   "metadata": {},
   "outputs": [
    {
     "data": {
      "text/plain": [
       "8"
      ]
     },
     "execution_count": 2,
     "metadata": {},
     "output_type": "execute_result"
    }
   ],
   "source": [
    "# Function to generate a random number between min an max (included)\n",
    "randint(0,10)"
   ]
  },
  {
   "cell_type": "code",
   "execution_count": 3,
   "id": "20b90934",
   "metadata": {},
   "outputs": [
    {
     "name": "stdout",
     "output_type": "stream",
     "text": [
      "9\n",
      "6\n",
      "4\n",
      "5\n",
      "2\n",
      "9\n",
      "6\n",
      "8\n",
      "3\n",
      "4\n",
      "1\n",
      "1\n",
      "4\n",
      "3\n",
      "8\n",
      "7\n",
      "3\n",
      "8\n",
      "3\n",
      "1\n",
      "1\n",
      "6\n",
      "10\n",
      "2\n",
      "9\n"
     ]
    }
   ],
   "source": [
    "# In a loop\n",
    "for i in range(0,25): # included\n",
    "    print(randint(0,10))"
   ]
  },
  {
   "cell_type": "markdown",
   "id": "7db0a658",
   "metadata": {},
   "source": [
    "### Exercise\n",
    "- Experiment with the min and max values\n",
    "- Observe what happens when repeating the experiment"
   ]
  },
  {
   "cell_type": "markdown",
   "id": "c032d063",
   "metadata": {},
   "source": [
    "## One dice (m=1)\n",
    "We roll one dice n times and store the result in an array"
   ]
  },
  {
   "cell_type": "code",
   "execution_count": 4,
   "id": "289a6ac4",
   "metadata": {},
   "outputs": [],
   "source": [
    "result = []\n",
    "m = 1\n",
    "n = 10\n",
    "for i in range(0,n):\n",
    "    roll_result = randint(1,6)\n",
    "    result.append(roll_result)"
   ]
  },
  {
   "cell_type": "code",
   "execution_count": 5,
   "id": "f7187bf3",
   "metadata": {
    "scrolled": true
   },
   "outputs": [
    {
     "data": {
      "text/plain": [
       "[1, 4, 1, 2, 6, 5, 2, 2, 2, 4]"
      ]
     },
     "execution_count": 5,
     "metadata": {},
     "output_type": "execute_result"
    }
   ],
   "source": [
    "# Show (part of) the result\n",
    "result[0:min(10,n)]"
   ]
  },
  {
   "cell_type": "code",
   "execution_count": 6,
   "id": "b290fd9b",
   "metadata": {},
   "outputs": [
    {
     "data": {
      "text/plain": [
       "(array([2., 4., 0., 2., 1., 1.]),\n",
       " array([1.        , 1.83333333, 2.66666667, 3.5       , 4.33333333,\n",
       "        5.16666667, 6.        ]),\n",
       " <BarContainer object of 6 artists>)"
      ]
     },
     "execution_count": 6,
     "metadata": {},
     "output_type": "execute_result"
    },
    {
     "data": {
      "image/png": "[encoded data removed]",
      "text/plain": [
       "<Figure size 432x288 with 1 Axes>"
      ]
     },
     "metadata": {
      "needs_background": "light"
     },
     "output_type": "display_data"
    }
   ],
   "source": [
    "# Plot the result\n",
    "plt.hist(result, bins = 6*m -(m-1))"
   ]
  },
  {
   "cell_type": "markdown",
   "id": "7a181ad3",
   "metadata": {},
   "source": [
    "### Exercise\n",
    "- Experiment with different values for n. What happens with the result?"
   ]
  },
  {
   "cell_type": "markdown",
   "id": "4173fc53",
   "metadata": {},
   "source": [
    "## Two dice (m=2)\n",
    "We roll two dice n times and store the result (sum of results of each dice) in an array"
   ]
  },
  {
   "cell_type": "code",
   "execution_count": 7,
   "id": "7ec21f0b",
   "metadata": {},
   "outputs": [],
   "source": [
    "result = []\n",
    "m=2\n",
    "n=10\n",
    "for i in range(0,n):\n",
    "    roll_result = randint(1,6) + randint(1,6)\n",
    "    result.append(roll_result)"
   ]
  },
  {
   "cell_type": "code",
   "execution_count": 8,
   "id": "d5811db2",
   "metadata": {},
   "outputs": [
    {
     "data": {
      "text/plain": [
       "[7, 9, 10, 9, 11, 8, 6, 2, 11, 3]"
      ]
     },
     "execution_count": 8,
     "metadata": {},
     "output_type": "execute_result"
    }
   ],
   "source": [
    "# Showing the result\n",
    "result[0:min(10,n)]"
   ]
  },
  {
   "cell_type": "code",
   "execution_count": 9,
   "id": "e40fb6c0",
   "metadata": {},
   "outputs": [
    {
     "data": {
      "text/plain": [
       "(array([1., 1., 0., 0., 1., 0., 1., 1., 2., 1., 2.]),\n",
       " array([ 2.        ,  2.81818182,  3.63636364,  4.45454545,  5.27272727,\n",
       "         6.09090909,  6.90909091,  7.72727273,  8.54545455,  9.36363636,\n",
       "        10.18181818, 11.        ]),\n",
       " <BarContainer object of 11 artists>)"
      ]
     },
     "execution_count": 9,
     "metadata": {},
     "output_type": "execute_result"
    },
    {
     "data": {
      "image/png": "[encoded data removed]",
      "text/plain": [
       "<Figure size 432x288 with 1 Axes>"
      ]
     },
     "metadata": {
      "needs_background": "light"
     },
     "output_type": "display_data"
    }
   ],
   "source": [
    "# Plotting the result\n",
    "plt.hist(result, 6*m -(m-1))"
   ]
  },
  {
   "cell_type": "markdown",
   "id": "ede60777",
   "metadata": {},
   "source": [
    "### Exercise \n",
    "- Experiment with different values for n. What happens with the result?"
   ]
  },
  {
   "cell_type": "markdown",
   "id": "381354dd",
   "metadata": {},
   "source": [
    "## M dice"
   ]
  },
  {
   "cell_type": "markdown",
   "id": "6c3866e3",
   "metadata": {},
   "source": [
    "### Exercise \n",
    "- Repeat the experiment of rolling m dice n times with m equal to 4, 10, 100\n",
    "- Which is the distribution of the results histogram?"
   ]
  },
  {
   "cell_type": "code",
   "execution_count": 10,
   "id": "eeb02143",
   "metadata": {},
   "outputs": [],
   "source": [
    "result = []\n",
    "m=4\n",
    "n=10\n"
   ]
  },
  {
   "cell_type": "code",
   "execution_count": 11,
   "id": "9d092782",
   "metadata": {},
   "outputs": [
    {
     "data": {
      "text/plain": [
       "(array([0., 0., 0., 0., 0., 0., 0., 0., 0., 0., 0., 0., 0., 0., 0., 0., 0.,\n",
       "        0., 0., 0., 0.]),\n",
       " array([0.        , 0.04761905, 0.0952381 , 0.14285714, 0.19047619,\n",
       "        0.23809524, 0.28571429, 0.33333333, 0.38095238, 0.42857143,\n",
       "        0.47619048, 0.52380952, 0.57142857, 0.61904762, 0.66666667,\n",
       "        0.71428571, 0.76190476, 0.80952381, 0.85714286, 0.9047619 ,\n",
       "        0.95238095, 1.        ]),\n",
       " <BarContainer object of 21 artists>)"
      ]
     },
     "execution_count": 11,
     "metadata": {},
     "output_type": "execute_result"
    },
    {
     "data": {
      "image/png": "[encoded data removed]",
      "text/plain": [
       "<Figure size 432x288 with 1 Axes>"
      ]
     },
     "metadata": {
      "needs_background": "light"
     },
     "output_type": "display_data"
    }
   ],
   "source": [
    "# Plotting the result\n",
    "plt.hist(result, min(50,6*m -(m-1)))"
   ]
  },
  {
   "cell_type": "markdown",
   "id": "282efc6c",
   "metadata": {},
   "source": [
    "## Recap\n",
    "- Which conclusions can you extract from the experiments in terms of n and m?\n",
    "- Results are explained by the law of large numbers. We will see it soon in class"
   ]
  },
  {
   "cell_type": "markdown",
   "id": "0babc340",
   "metadata": {},
   "source": [
    "## Bonus exercise\n",
    "- Create your own dice: a dice with possible results 1..6 but with different probabilities for each number\n",
    "\n",
    "- Repeat the exercise with this dice and compare the results with the previous ones\n",
    "\n",
    "- Hint: Build a function that simulates your own dice"
   ]
  },
  {
   "cell_type": "code",
   "execution_count": null,
   "id": "4c5a386b",
   "metadata": {},
   "outputs": [],
   "source": []
  }
 ],
 "metadata": {
  "kernelspec": {
   "display_name": "Python 3",
   "language": "python",
   "name": "python3"
  },
  "language_info": {
   "codemirror_mode": {
    "name": "ipython",
    "version": 3
   },
   "file_extension": ".py",
   "mimetype": "text/x-python",
   "name": "python",
   "nbconvert_exporter": "python",
   "pygments_lexer": "ipython3",
   "version": "3.7.5"
  }
 },
 "nbformat": 4,
 "nbformat_minor": 5
}
