{
 "cells": [
  {
   "cell_type": "markdown",
   "id": "1d026042",
   "metadata": {},
   "source": [
    "# Simulating dice rolls"
   ]
  },
  {
   "cell_type": "markdown",
   "id": "3c58a69e",
   "metadata": {},
   "source": [
    "- This lab is an introduction to <b>simulation and experimentation with Python</b>\n",
    "- We will simulate <b>m dice rolls n times</b>\n",
    "- We will observe and extract conclusions about the <b>distribution of the results</b>\n",
    "- Results follow the <b>law of large numbers</b>"
   ]
  },
  {
   "cell_type": "markdown",
   "id": "da1f4cf9",
   "metadata": {},
   "source": [
    "## Libraries"
   ]
  },
  {
   "cell_type": "code",
   "execution_count": 1,
   "id": "26a21862",
   "metadata": {},
   "outputs": [],
   "source": [
    "# Libraries\n",
    "from random import seed\n",
    "from random import randint\n",
    "import matplotlib.pyplot as plt\n",
    "%matplotlib inline"
   ]
  },
  {
   "cell_type": "markdown",
   "id": "9ffdee20",
   "metadata": {},
   "source": [
    "## Random numbers"
   ]
  },
  {
   "cell_type": "code",
   "execution_count": 6,
   "id": "b4e68daa",
   "metadata": {},
   "outputs": [
    {
     "data": {
      "text/plain": [
       "4"
      ]
     },
     "execution_count": 6,
     "metadata": {},
     "output_type": "execute_result"
    }
   ],
   "source": [
    "# Function to generate a random number between min an max (included)\n",
    "randint(0,10)"
   ]
  },
  {
   "cell_type": "code",
   "execution_count": 11,
   "id": "cac523fa",
   "metadata": {},
   "outputs": [
    {
     "name": "stdout",
     "output_type": "stream",
     "text": [
      "9\n",
      "1\n",
      "10\n",
      "8\n",
      "0\n",
      "1\n",
      "8\n",
      "3\n",
      "7\n",
      "5\n",
      "6\n",
      "3\n",
      "2\n",
      "10\n",
      "6\n",
      "1\n",
      "9\n",
      "4\n",
      "4\n",
      "2\n",
      "4\n",
      "2\n",
      "5\n",
      "6\n",
      "5\n"
     ]
    }
   ],
   "source": [
    "# In a loop\n",
    "for i in range(0,25): # included\n",
    "    print(randint(0,10))"
   ]
  },
  {
   "cell_type": "markdown",
   "id": "ab945876",
   "metadata": {},
   "source": [
    "### Exercise\n",
    "- Experiment with the min and max values\n",
    "- Observe what happens when repeating the experiment"
   ]
  },
  {
   "cell_type": "markdown",
   "id": "df58d4ba",
   "metadata": {},
   "source": [
    "## One dice (m=1)\n",
    "We roll one dice n times and store the result in an array"
   ]
  },
  {
   "cell_type": "code",
   "execution_count": 39,
   "id": "2665e80a",
   "metadata": {},
   "outputs": [],
   "source": [
    "result = []\n",
    "m = 1\n",
    "n = 10\n",
    "for i in range(0,n):\n",
    "    roll_result = randint(1,6)\n",
    "    result.append(roll_result)"
   ]
  },
  {
   "cell_type": "code",
   "execution_count": 40,
   "id": "85f556a5",
   "metadata": {
    "scrolled": true
   },
   "outputs": [
    {
     "data": {
      "text/plain": [
       "[1, 5, 1, 3, 3, 3, 5, 4, 2, 2]"
      ]
     },
     "execution_count": 40,
     "metadata": {},
     "output_type": "execute_result"
    }
   ],
   "source": [
    "# Show (part of) the result\n",
    "result[0:min(10,n)]"
   ]
  },
  {
   "cell_type": "code",
   "execution_count": 41,
   "id": "9b65aa6c",
   "metadata": {},
   "outputs": [
    {
     "data": {
      "text/plain": [
       "(array([2., 0., 2., 0., 0., 3., 0., 1., 0., 2.]),\n",
       " array([1. , 1.4, 1.8, 2.2, 2.6, 3. , 3.4, 3.8, 4.2, 4.6, 5. ]),\n",
       " <BarContainer object of 10 artists>)"
      ]
     },
     "execution_count": 41,
     "metadata": {},
     "output_type": "execute_result"
    },
    {
     "data": {
      "image/png": "[encoded data removed]",
      "text/plain": [
       "<Figure size 432x288 with 1 Axes>"
      ]
     },
     "metadata": {
      "needs_background": "light"
     },
     "output_type": "display_data"
    }
   ],
   "source": [
    "# Plot the result\n",
    "plt.hist(result)"
   ]
  },
  {
   "cell_type": "markdown",
   "id": "9de2efb4",
   "metadata": {},
   "source": [
    "### Exercise\n",
    "- Experiment with different values for n. What happens with the result?"
   ]
  },
  {
   "cell_type": "markdown",
   "id": "5d07e45b",
   "metadata": {},
   "source": [
    "## Two dice (m=2)\n",
    "We roll two dice n times and store the result (sum of results of each dice) in an array"
   ]
  },
  {
   "cell_type": "code",
   "execution_count": 48,
   "id": "e0744539",
   "metadata": {},
   "outputs": [],
   "source": [
    "result = []\n",
    "m=2\n",
    "n=10\n",
    "for i in range(0,n):\n",
    "    roll_result = randint(1,6) + randint(1,6)\n",
    "    result.append(roll_result)"
   ]
  },
  {
   "cell_type": "code",
   "execution_count": 49,
   "id": "afdecc70",
   "metadata": {},
   "outputs": [
    {
     "data": {
      "text/plain": [
       "[7, 8, 3, 6, 9, 2, 9, 6, 7, 4]"
      ]
     },
     "execution_count": 49,
     "metadata": {},
     "output_type": "execute_result"
    }
   ],
   "source": [
    "# Showing the result\n",
    "result[0:min(10,n)]"
   ]
  },
  {
   "cell_type": "code",
   "execution_count": 50,
   "id": "ed7096a3",
   "metadata": {},
   "outputs": [
    {
     "data": {
      "text/plain": [
       "(array([1., 1., 0., 1., 0., 0., 2., 2., 0., 1., 2.]),\n",
       " array([2.        , 2.63636364, 3.27272727, 3.90909091, 4.54545455,\n",
       "        5.18181818, 5.81818182, 6.45454545, 7.09090909, 7.72727273,\n",
       "        8.36363636, 9.        ]),\n",
       " <BarContainer object of 11 artists>)"
      ]
     },
     "execution_count": 50,
     "metadata": {},
     "output_type": "execute_result"
    },
    {
     "data": {
      "image/png": "[encoded data removed]",
      "text/plain": [
       "<Figure size 432x288 with 1 Axes>"
      ]
     },
     "metadata": {
      "needs_background": "light"
     },
     "output_type": "display_data"
    }
   ],
   "source": [
    "# Plotting the result\n",
    "plt.hist(result, bins=11)"
   ]
  },
  {
   "cell_type": "markdown",
   "id": "7220a2ac",
   "metadata": {},
   "source": [
    "### Exercise \n",
    "- Experiment with different values for n. What happens with the result?"
   ]
  },
  {
   "cell_type": "markdown",
   "id": "a7812e1f",
   "metadata": {},
   "source": [
    "## M dice"
   ]
  },
  {
   "cell_type": "markdown",
   "id": "3e687418",
   "metadata": {},
   "source": [
    "### Exercise \n",
    "- Repeat the experiment of rolling m dice n times with m equal to 4, 10, 100\n",
    "- Which is the distribution of the results histogram?"
   ]
  },
  {
   "cell_type": "code",
   "execution_count": 59,
   "id": "087f5d4a",
   "metadata": {},
   "outputs": [],
   "source": [
    "result = []\n",
    "m=100\n",
    "n=10000\n",
    "for i in range(0,n):\n",
    "    roll_result = 0\n",
    "    for j in range(0,m):\n",
    "        roll_result = roll_result + randint(1,6)\n",
    "    result.append(roll_result)"
   ]
  },
  {
   "cell_type": "code",
   "execution_count": 62,
   "id": "35ed247a",
   "metadata": {},
   "outputs": [
    {
     "data": {
      "text/plain": [
       "(array([  1.,   1.,   0.,   0.,   0.,   0.,   0.,   0.,   0.,   0.,   0.,\n",
       "          1.,   0.,   1.,   3.,   0.,   1.,   3.,   0.,   2.,   2.,   0.,\n",
       "          3.,   5.,   0.,   6.,   3.,   0.,   3.,   5.,   0.,   6.,  11.,\n",
       "          0.,   5.,   9.,   0.,  13.,  14.,   0.,  22.,  17.,  26.,   0.,\n",
       "         25.,  27.,   0.,  33.,  45.,   0.,  41.,  43.,   0.,  46.,  56.,\n",
       "          0.,  58.,  46.,   0.,  72.,  75.,   0.,  84.,  82.,   0., 113.,\n",
       "        105.,   0., 126., 139.,   0., 125., 127.,   0., 154., 180.,   0.,\n",
       "        164., 198.,   0., 177., 182., 221.,   0., 185., 199.,   0., 223.,\n",
       "        206.,   0., 198., 210.,   0., 236., 268.,   0., 227., 204.,   0.,\n",
       "        242., 233.,   0., 231., 251.,   0., 230., 230.,   0., 246., 212.,\n",
       "          0., 192., 195.,   0., 174., 188.,   0., 204., 181.,   0., 131.,\n",
       "        159., 134.,   0., 113., 109.,   0., 126., 112.,   0.,  94.,  87.,\n",
       "          0.,  89.,  61.,   0.,  70.,  74.,   0.,  68.,  77.,   0.,  39.,\n",
       "         39.,   0.,  43.,  35.,   0.,  42.,  39.,   0.,  19.,  27.,   0.,\n",
       "         21.,  20.,   0.,  13.,  11.,   0.,  12.,  11.,   4.,   0.,   5.,\n",
       "          7.,   0.,   6.,   8.,   0.,   3.,   1.,   0.,   6.,   1.,   0.,\n",
       "          2.,   1.,   0.,   3.,   3.,   0.,   1.,   0.,   0.,   0.,   1.,\n",
       "          0.,   0.,   0.,   0.,   0.,   0.,   0.,   0.,   0.,   0.,   0.,\n",
       "          0.,   1.]),\n",
       " array([284.   , 284.675, 285.35 , 286.025, 286.7  , 287.375, 288.05 ,\n",
       "        288.725, 289.4  , 290.075, 290.75 , 291.425, 292.1  , 292.775,\n",
       "        293.45 , 294.125, 294.8  , 295.475, 296.15 , 296.825, 297.5  ,\n",
       "        298.175, 298.85 , 299.525, 300.2  , 300.875, 301.55 , 302.225,\n",
       "        302.9  , 303.575, 304.25 , 304.925, 305.6  , 306.275, 306.95 ,\n",
       "        307.625, 308.3  , 308.975, 309.65 , 310.325, 311.   , 311.675,\n",
       "        312.35 , 313.025, 313.7  , 314.375, 315.05 , 315.725, 316.4  ,\n",
       "        317.075, 317.75 , 318.425, 319.1  , 319.775, 320.45 , 321.125,\n",
       "        321.8  , 322.475, 323.15 , 323.825, 324.5  , 325.175, 325.85 ,\n",
       "        326.525, 327.2  , 327.875, 328.55 , 329.225, 329.9  , 330.575,\n",
       "        331.25 , 331.925, 332.6  , 333.275, 333.95 , 334.625, 335.3  ,\n",
       "        335.975, 336.65 , 337.325, 338.   , 338.675, 339.35 , 340.025,\n",
       "        340.7  , 341.375, 342.05 , 342.725, 343.4  , 344.075, 344.75 ,\n",
       "        345.425, 346.1  , 346.775, 347.45 , 348.125, 348.8  , 349.475,\n",
       "        350.15 , 350.825, 351.5  , 352.175, 352.85 , 353.525, 354.2  ,\n",
       "        354.875, 355.55 , 356.225, 356.9  , 357.575, 358.25 , 358.925,\n",
       "        359.6  , 360.275, 360.95 , 361.625, 362.3  , 362.975, 363.65 ,\n",
       "        364.325, 365.   , 365.675, 366.35 , 367.025, 367.7  , 368.375,\n",
       "        369.05 , 369.725, 370.4  , 371.075, 371.75 , 372.425, 373.1  ,\n",
       "        373.775, 374.45 , 375.125, 375.8  , 376.475, 377.15 , 377.825,\n",
       "        378.5  , 379.175, 379.85 , 380.525, 381.2  , 381.875, 382.55 ,\n",
       "        383.225, 383.9  , 384.575, 385.25 , 385.925, 386.6  , 387.275,\n",
       "        387.95 , 388.625, 389.3  , 389.975, 390.65 , 391.325, 392.   ,\n",
       "        392.675, 393.35 , 394.025, 394.7  , 395.375, 396.05 , 396.725,\n",
       "        397.4  , 398.075, 398.75 , 399.425, 400.1  , 400.775, 401.45 ,\n",
       "        402.125, 402.8  , 403.475, 404.15 , 404.825, 405.5  , 406.175,\n",
       "        406.85 , 407.525, 408.2  , 408.875, 409.55 , 410.225, 410.9  ,\n",
       "        411.575, 412.25 , 412.925, 413.6  , 414.275, 414.95 , 415.625,\n",
       "        416.3  , 416.975, 417.65 , 418.325, 419.   ]),\n",
       " <BarContainer object of 200 artists>)"
      ]
     },
     "execution_count": 62,
     "metadata": {},
     "output_type": "execute_result"
    },
    {
     "data": {
      "image/png": "[encoded data removed]",
      "text/plain": [
       "<Figure size 432x288 with 1 Axes>"
      ]
     },
     "metadata": {
      "needs_background": "light"
     },
     "output_type": "display_data"
    }
   ],
   "source": [
    "# Plotting the result\n",
    "plt.hist(result, bins=200)"
   ]
  },
  {
   "cell_type": "markdown",
   "id": "5f260e69",
   "metadata": {},
   "source": [
    "## Recap\n",
    "- Which conclusions can you extract from the experiments in terms of n and m?\n",
    "- Results are explained by the law of large numbers. We will see it soon in class"
   ]
  },
  {
   "cell_type": "markdown",
   "id": "3d24b801",
   "metadata": {},
   "source": [
    "## Bonus exercise\n",
    "- Create your own dice: a dice with possible results 1..6 but with different probabilities of the classic dice\n",
    "\n",
    "- Repeat the exercise with this dice and compare the results with the previous ones\n",
    "\n",
    "- Hint: Build a function that simulates your own dice"
   ]
  },
  {
   "cell_type": "code",
   "execution_count": 67,
   "id": "8a37958a",
   "metadata": {},
   "outputs": [],
   "source": [
    "def elmeudau():\n",
    "    tmp = randint(1,6)\n",
    "    if tmp == 6:\n",
    "        tmp = 4\n",
    "    return tmp"
   ]
  },
  {
   "cell_type": "code",
   "execution_count": 69,
   "id": "8647b59c",
   "metadata": {},
   "outputs": [
    {
     "name": "stdout",
     "output_type": "stream",
     "text": [
      "5\n",
      "4\n",
      "5\n",
      "5\n",
      "1\n",
      "1\n",
      "5\n",
      "5\n",
      "4\n",
      "1\n",
      "5\n",
      "3\n",
      "2\n",
      "3\n",
      "5\n",
      "5\n",
      "4\n",
      "4\n",
      "5\n",
      "2\n",
      "3\n",
      "4\n",
      "2\n",
      "4\n"
     ]
    }
   ],
   "source": [
    "for i in range(1,25):\n",
    "    print(elmeudau())"
   ]
  },
  {
   "cell_type": "code",
   "execution_count": 72,
   "id": "1c0760b1",
   "metadata": {},
   "outputs": [],
   "source": [
    "result = []\n",
    "m = 1\n",
    "n = 100000\n",
    "for i in range(0,n):\n",
    "    roll_result = elmeudau()\n",
    "    result.append(roll_result)"
   ]
  },
  {
   "cell_type": "code",
   "execution_count": 73,
   "id": "725279c6",
   "metadata": {},
   "outputs": [
    {
     "data": {
      "text/plain": [
       "(array([16734.,     0., 16760.,     0.,     0., 16701.,     0., 33312.,\n",
       "            0., 16493.]),\n",
       " array([1. , 1.4, 1.8, 2.2, 2.6, 3. , 3.4, 3.8, 4.2, 4.6, 5. ]),\n",
       " <BarContainer object of 10 artists>)"
      ]
     },
     "execution_count": 73,
     "metadata": {},
     "output_type": "execute_result"
    },
    {
     "data": {
      "image/png": "[encoded data removed]",
      "text/plain": [
       "<Figure size 432x288 with 1 Axes>"
      ]
     },
     "metadata": {
      "needs_background": "light"
     },
     "output_type": "display_data"
    }
   ],
   "source": [
    "# Plot the result\n",
    "plt.hist(result)"
   ]
  },
  {
   "cell_type": "code",
   "execution_count": null,
   "id": "8a054304",
   "metadata": {},
   "outputs": [],
   "source": []
  }
 ],
 "metadata": {
  "kernelspec": {
   "display_name": "Python 3",
   "language": "python",
   "name": "python3"
  },
  "language_info": {
   "codemirror_mode": {
    "name": "ipython",
    "version": 3
   },
   "file_extension": ".py",
   "mimetype": "text/x-python",
   "name": "python",
   "nbconvert_exporter": "python",
   "pygments_lexer": "ipython3",
   "version": "3.7.5"
  }
 },
 "nbformat": 4,
 "nbformat_minor": 5
}
