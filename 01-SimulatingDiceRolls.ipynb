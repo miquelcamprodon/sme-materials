{
 "cells": [
  {
   "cell_type": "markdown",
   "id": "2cf6fa68",
   "metadata": {},
   "source": [
    "# Simulating dice rolls"
   ]
  },
  {
   "cell_type": "markdown",
   "id": "49983884",
   "metadata": {},
   "source": [
    "- This lab is an introduction to <b>simulation and experimentation with Python</b>\n",
    "- We will simulate <b>m dice rolls n times</b>\n",
    "- We will observe and extract conclusions about the <b>distribution of the results</b>\n",
    "- Results follow the <b>law of large numbers</b>. We will see it soon"
   ]
  },
  {
   "cell_type": "markdown",
   "id": "3d675b16",
   "metadata": {},
   "source": [
    "## Libraries"
   ]
  },
  {
   "cell_type": "code",
   "execution_count": 10,
   "id": "0a29c500",
   "metadata": {},
   "outputs": [],
   "source": [
    "# Libraries\n",
    "from random import seed\n",
    "from random import randint\n",
    "import matplotlib.pyplot as plt\n",
    "%matplotlib inline"
   ]
  },
  {
   "cell_type": "markdown",
   "id": "b5444433",
   "metadata": {},
   "source": [
    "## Random numbers"
   ]
  },
  {
   "cell_type": "code",
   "execution_count": 11,
   "id": "6c338eb8",
   "metadata": {},
   "outputs": [
    {
     "data": {
      "text/plain": [
       "5"
      ]
     },
     "execution_count": 11,
     "metadata": {},
     "output_type": "execute_result"
    }
   ],
   "source": [
    "# Function to generate a random number between min an max (included)\n",
    "randint(0,10)"
   ]
  },
  {
   "cell_type": "code",
   "execution_count": 12,
   "id": "cdac29ce",
   "metadata": {},
   "outputs": [
    {
     "name": "stdout",
     "output_type": "stream",
     "text": [
      "10\n",
      "10\n",
      "2\n",
      "2\n",
      "6\n",
      "6\n",
      "7\n",
      "4\n",
      "0\n",
      "2\n",
      "2\n",
      "1\n",
      "10\n",
      "7\n",
      "7\n",
      "2\n",
      "6\n",
      "1\n",
      "4\n",
      "2\n",
      "4\n",
      "2\n",
      "3\n",
      "9\n",
      "3\n"
     ]
    }
   ],
   "source": [
    "# In a loop\n",
    "for i in range(0,25): # included\n",
    "    print(randint(0,10))"
   ]
  },
  {
   "cell_type": "markdown",
   "id": "677c68ef",
   "metadata": {},
   "source": [
    "### Exercise\n",
    "- Experiment with the min and max values\n",
    "- Observe what happens when repeating the experiment"
   ]
  },
  {
   "cell_type": "markdown",
   "id": "937730a5",
   "metadata": {},
   "source": [
    "## One dice (m=1)\n",
    "We roll one dice n times and store the result in an array"
   ]
  },
  {
   "cell_type": "code",
   "execution_count": 13,
   "id": "54c3a197",
   "metadata": {},
   "outputs": [],
   "source": [
    "result = []\n",
    "m = 1\n",
    "n = 100\n",
    "for i in range(0,n):\n",
    "    roll_result = randint(1,6)\n",
    "    result.append(roll_result)"
   ]
  },
  {
   "cell_type": "code",
   "execution_count": 14,
   "id": "9e4a9490",
   "metadata": {
    "scrolled": true
   },
   "outputs": [
    {
     "data": {
      "text/plain": [
       "[6, 1, 5, 6, 6, 3, 1, 4, 6, 1]"
      ]
     },
     "execution_count": 14,
     "metadata": {},
     "output_type": "execute_result"
    }
   ],
   "source": [
    "# Show (part of) the result\n",
    "result[0:min(10,n)]"
   ]
  },
  {
   "cell_type": "code",
   "execution_count": 15,
   "id": "699971a4",
   "metadata": {},
   "outputs": [
    {
     "data": {
      "text/plain": [
       "(array([18., 16., 13., 18., 17., 18.]),\n",
       " array([1.        , 1.83333333, 2.66666667, 3.5       , 4.33333333,\n",
       "        5.16666667, 6.        ]),\n",
       " <BarContainer object of 6 artists>)"
      ]
     },
     "execution_count": 15,
     "metadata": {},
     "output_type": "execute_result"
    },
    {
     "data": {
      "image/png": "[encoded data removed]",
      "text/plain": [
       "<Figure size 432x288 with 1 Axes>"
      ]
     },
     "metadata": {
      "needs_background": "light"
     },
     "output_type": "display_data"
    }
   ],
   "source": [
    "# Plot the result\n",
    "plt.hist(result, bins = 6*m -(m-1))"
   ]
  },
  {
   "cell_type": "markdown",
   "id": "66719d3b",
   "metadata": {},
   "source": [
    "### Exercise: \n",
    "- Experiment with different values for n. What happens with the result?"
   ]
  },
  {
   "cell_type": "markdown",
   "id": "41cca2df",
   "metadata": {},
   "source": [
    "## Two dice (m=2)\n",
    "We roll two dice n times and store the result (sum of results of each dice) in an array"
   ]
  },
  {
   "cell_type": "code",
   "execution_count": 16,
   "id": "f1c772d3",
   "metadata": {},
   "outputs": [],
   "source": [
    "result = []\n",
    "n = 10\n",
    "for i in range(0,n):\n",
    "    roll_result = randint(1,6) + randint(1,6)\n",
    "    result.append(roll_result)"
   ]
  },
  {
   "cell_type": "code",
   "execution_count": 17,
   "id": "b1e8efad",
   "metadata": {},
   "outputs": [
    {
     "data": {
      "text/plain": [
       "[6, 9, 4, 10, 3, 6, 12, 6, 5, 9]"
      ]
     },
     "execution_count": 17,
     "metadata": {},
     "output_type": "execute_result"
    }
   ],
   "source": [
    "# Showing the result\n",
    "result[0:min(10,n)]"
   ]
  },
  {
   "cell_type": "code",
   "execution_count": 18,
   "id": "e9f86942",
   "metadata": {},
   "outputs": [
    {
     "data": {
      "text/plain": [
       "(array([2., 1., 3., 0., 3., 1.]),\n",
       " array([ 3. ,  4.5,  6. ,  7.5,  9. , 10.5, 12. ]),\n",
       " <BarContainer object of 6 artists>)"
      ]
     },
     "execution_count": 18,
     "metadata": {},
     "output_type": "execute_result"
    },
    {
     "data": {
      "image/png": "[encoded data removed]",
      "text/plain": [
       "<Figure size 432x288 with 1 Axes>"
      ]
     },
     "metadata": {
      "needs_background": "light"
     },
     "output_type": "display_data"
    }
   ],
   "source": [
    "# Plotting the result\n",
    "plt.hist(result, 6*m -(m-1))"
   ]
  },
  {
   "cell_type": "markdown",
   "id": "ef948ccf",
   "metadata": {},
   "source": [
    "### Exercise: \n",
    "- Experiment with different values for n. What happens with the result?"
   ]
  },
  {
   "cell_type": "markdown",
   "id": "eb9b6add",
   "metadata": {},
   "source": [
    "## M dice"
   ]
  },
  {
   "cell_type": "markdown",
   "id": "084b553e",
   "metadata": {},
   "source": [
    "### Exercise: \n",
    "- Repeat the experiment of rolling m dice n times with m equal to 4, 10, 100\n",
    "- Which is the distribution of the results histogram?"
   ]
  },
  {
   "cell_type": "code",
   "execution_count": null,
   "id": "3c45177e",
   "metadata": {},
   "outputs": [],
   "source": []
  },
  {
   "cell_type": "markdown",
   "id": "2fb84854",
   "metadata": {},
   "source": [
    "## Recap\n",
    "- Which conclusions can you extract from the experiments in terms of n and m?\n",
    "- Results are explained by the law of large numbers. We will see it soon in class"
   ]
  },
  {
   "cell_type": "code",
   "execution_count": null,
   "id": "7682411d",
   "metadata": {},
   "outputs": [],
   "source": []
  }
 ],
 "metadata": {
  "kernelspec": {
   "display_name": "Python 3",
   "language": "python",
   "name": "python3"
  },
  "language_info": {
   "codemirror_mode": {
    "name": "ipython",
    "version": 3
   },
   "file_extension": ".py",
   "mimetype": "text/x-python",
   "name": "python",
   "nbconvert_exporter": "python",
   "pygments_lexer": "ipython3",
   "version": "3.7.5"
  }
 },
 "nbformat": 4,
 "nbformat_minor": 5
}
