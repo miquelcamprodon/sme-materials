{
 "cells": [
  {
   "cell_type": "markdown",
   "id": "7a03e6ec",
   "metadata": {},
   "source": [
    "# Simulating dice rolls"
   ]
  },
  {
   "cell_type": "markdown",
   "id": "753bb52e",
   "metadata": {},
   "source": [
    "- This lab is an introduction to <b>simulation and experimentation with Python</b>\n",
    "- We will simulate <b>m dice rolls n times</b>\n",
    "- We will observe and extract conclusions about the <b>distribution of the results</b>\n",
    "- Results follow the <b>law of large numbers</b>"
   ]
  },
  {
   "cell_type": "markdown",
   "id": "dfb302d7",
   "metadata": {},
   "source": [
    "## Libraries"
   ]
  },
  {
   "cell_type": "code",
   "execution_count": 1,
   "id": "0537e10d",
   "metadata": {},
   "outputs": [],
   "source": [
    "# Libraries\n",
    "from random import seed\n",
    "from random import randint\n",
    "import matplotlib.pyplot as plt\n",
    "%matplotlib inline"
   ]
  },
  {
   "cell_type": "markdown",
   "id": "baf94a26",
   "metadata": {},
   "source": [
    "## Random numbers"
   ]
  },
  {
   "cell_type": "code",
   "execution_count": 2,
   "id": "75b4ecd3",
   "metadata": {},
   "outputs": [
    {
     "data": {
      "text/plain": [
       "10"
      ]
     },
     "execution_count": 2,
     "metadata": {},
     "output_type": "execute_result"
    }
   ],
   "source": [
    "# Function to generate a random number between min an max (included)\n",
    "randint(0,10)"
   ]
  },
  {
   "cell_type": "code",
   "execution_count": 3,
   "id": "5c1281ab",
   "metadata": {},
   "outputs": [
    {
     "name": "stdout",
     "output_type": "stream",
     "text": [
      "9\n",
      "8\n",
      "8\n",
      "0\n",
      "7\n",
      "6\n",
      "1\n",
      "5\n",
      "0\n",
      "7\n",
      "2\n",
      "3\n",
      "8\n",
      "8\n",
      "0\n",
      "6\n",
      "0\n",
      "6\n",
      "4\n",
      "7\n",
      "3\n",
      "4\n",
      "3\n",
      "7\n",
      "0\n"
     ]
    }
   ],
   "source": [
    "# In a loop\n",
    "for i in range(0,25): # included\n",
    "    print(randint(0,10))"
   ]
  },
  {
   "cell_type": "markdown",
   "id": "91ee6ed9",
   "metadata": {},
   "source": [
    "### Exercise\n",
    "- Experiment with the min and max values\n",
    "- What happens when repeating the experiment?"
   ]
  },
  {
   "cell_type": "markdown",
   "id": "e3001c6b",
   "metadata": {},
   "source": [
    "## One dice (m=1)\n",
    "We roll one dice n times and store the result in an array"
   ]
  },
  {
   "cell_type": "code",
   "execution_count": 4,
   "id": "c23a2db7",
   "metadata": {},
   "outputs": [],
   "source": [
    "result = []\n",
    "m = 1\n",
    "n = 10\n",
    "for i in range(0,n):\n",
    "    roll_result = randint(1,6)\n",
    "    result.append(roll_result)"
   ]
  },
  {
   "cell_type": "code",
   "execution_count": 5,
   "id": "10b974b0",
   "metadata": {
    "scrolled": true
   },
   "outputs": [
    {
     "data": {
      "text/plain": [
       "[1, 2, 2, 6, 3, 1, 1, 5, 1, 1]"
      ]
     },
     "execution_count": 5,
     "metadata": {},
     "output_type": "execute_result"
    }
   ],
   "source": [
    "# Show (part of) the result\n",
    "result[0:min(10,n)]"
   ]
  },
  {
   "cell_type": "code",
   "execution_count": 6,
   "id": "be1ea7f2",
   "metadata": {},
   "outputs": [
    {
     "data": {
      "text/plain": [
       "(array([5., 0., 2., 0., 1., 0., 0., 0., 1., 1.]),\n",
       " array([1. , 1.5, 2. , 2.5, 3. , 3.5, 4. , 4.5, 5. , 5.5, 6. ]),\n",
       " <BarContainer object of 10 artists>)"
      ]
     },
     "execution_count": 6,
     "metadata": {},
     "output_type": "execute_result"
    },
    {
     "data": {
      "image/png": "[encoded data removed]",
      "text/plain": [
       "<Figure size 432x288 with 1 Axes>"
      ]
     },
     "metadata": {
      "needs_background": "light"
     },
     "output_type": "display_data"
    }
   ],
   "source": [
    "# Plot the result\n",
    "plt.hist(result)"
   ]
  },
  {
   "cell_type": "markdown",
   "id": "c213352a",
   "metadata": {},
   "source": [
    "### Exercise\n",
    "- Experiment with different values for n. What happens with the result?"
   ]
  },
  {
   "cell_type": "markdown",
   "id": "cd54be01",
   "metadata": {},
   "source": [
    "## Two dice (m=2)\n",
    "We roll two dice n times and store the result (sum of results of each dice) in an array"
   ]
  },
  {
   "cell_type": "code",
   "execution_count": 7,
   "id": "4d463353",
   "metadata": {},
   "outputs": [],
   "source": [
    "result = []\n",
    "m=2\n",
    "n=10\n",
    "for i in range(0,n):\n",
    "    roll_result = randint(1,6) + randint(1,6)\n",
    "    result.append(roll_result)"
   ]
  },
  {
   "cell_type": "code",
   "execution_count": 8,
   "id": "bc180ecf",
   "metadata": {},
   "outputs": [
    {
     "data": {
      "text/plain": [
       "[8, 2, 9, 10, 8, 8, 5, 5, 7, 6]"
      ]
     },
     "execution_count": 8,
     "metadata": {},
     "output_type": "execute_result"
    }
   ],
   "source": [
    "# Showing the result\n",
    "result[0:min(10,n)]"
   ]
  },
  {
   "cell_type": "code",
   "execution_count": 9,
   "id": "f93731f2",
   "metadata": {},
   "outputs": [
    {
     "data": {
      "text/plain": [
       "(array([1., 0., 0., 0., 2., 1., 1., 0., 3., 1., 1.]),\n",
       " array([ 2.        ,  2.72727273,  3.45454545,  4.18181818,  4.90909091,\n",
       "         5.63636364,  6.36363636,  7.09090909,  7.81818182,  8.54545455,\n",
       "         9.27272727, 10.        ]),\n",
       " <BarContainer object of 11 artists>)"
      ]
     },
     "execution_count": 9,
     "metadata": {},
     "output_type": "execute_result"
    },
    {
     "data": {
      "image/png": "[encoded data removed]",
      "text/plain": [
       "<Figure size 432x288 with 1 Axes>"
      ]
     },
     "metadata": {
      "needs_background": "light"
     },
     "output_type": "display_data"
    }
   ],
   "source": [
    "# Plotting the result\n",
    "plt.hist(result, bins=11)"
   ]
  },
  {
   "cell_type": "markdown",
   "id": "15d4614a",
   "metadata": {},
   "source": [
    "### Exercise \n",
    "- Experiment with different values for n. What happens with the result?"
   ]
  },
  {
   "cell_type": "markdown",
   "id": "98178462",
   "metadata": {},
   "source": [
    "## M dice"
   ]
  },
  {
   "cell_type": "markdown",
   "id": "1cc05d4c",
   "metadata": {},
   "source": [
    "### Exercise \n",
    "- Repeat the experiment of rolling m dice n times with m equal to 4, 10, 100\n",
    "- What is the distribution of the results histogram?"
   ]
  },
  {
   "cell_type": "code",
   "execution_count": 10,
   "id": "ff23694d",
   "metadata": {},
   "outputs": [],
   "source": [
    "result = []\n",
    "m=100\n",
    "n=10000\n",
    "for i in range(0,n):\n",
    "    roll_result = 0\n",
    "    for j in range(0,m):\n",
    "        roll_result = roll_result + randint(1,6)\n",
    "    result.append(roll_result)"
   ]
  },
  {
   "cell_type": "code",
   "execution_count": 11,
   "id": "fc1a25da",
   "metadata": {},
   "outputs": [
    {
     "data": {
      "text/plain": [
       "(array([  2.,   0.,   0.,   4.,   0.,   1.,   0.,   0.,   1.,   0.,   3.,\n",
       "          2.,   0.,   2.,   0.,   5.,   3.,   0.,  11.,   0.,   6.,  15.,\n",
       "          0.,   7.,   0.,  12.,  21.,   0.,  15.,   0.,  18.,  21.,   0.,\n",
       "         32.,   0.,  18.,  25.,   0.,  27.,   0.,  37.,   0.,  39.,  33.,\n",
       "          0.,  52.,   0.,  52.,  49.,   0.,  49.,   0.,  83.,  73.,   0.,\n",
       "         84.,   0.,  87., 105.,   0., 114.,   0., 126., 143.,   0., 156.,\n",
       "          0., 148., 144.,   0., 168.,   0., 143., 190.,   0., 184.,   0.,\n",
       "        214., 204.,   0., 205.,   0., 203.,   0., 222., 234.,   0., 221.,\n",
       "          0., 199., 242.,   0., 239.,   0., 238., 215.,   0., 218.,   0.,\n",
       "        243., 230.,   0., 242.,   0., 214., 215.,   0., 198.,   0., 196.,\n",
       "        236.,   0., 184.,   0., 170., 173.,   0., 176.,   0., 172.,   0.,\n",
       "        152., 163.,   0., 137.,   0., 140., 119.,   0., 130.,   0., 110.,\n",
       "         90.,   0.,  89.,   0.,  83.,  68.,   0.,  69.,   0.,  79.,  80.,\n",
       "          0.,  59.,   0.,  54.,  36.,   0.,  35.,   0.,  37.,  35.,   0.,\n",
       "         24.,   0.,  25.,  33.,   0.,  17.,   0.,  15.,   0.,  16.,  13.,\n",
       "          0.,  14.,   0.,  11.,   5.,   0.,   6.,   0.,  11.,   3.,   0.,\n",
       "          4.,   0.,   4.,   2.,   0.,   2.,   0.,   3.,   1.,   0.,   3.,\n",
       "          0.,   4.,   1.,   0.,   2.,   0.,   1.,   1.,   0.,   0.,   0.,\n",
       "          0.,   1.]),\n",
       " array([293.   , 293.595, 294.19 , 294.785, 295.38 , 295.975, 296.57 ,\n",
       "        297.165, 297.76 , 298.355, 298.95 , 299.545, 300.14 , 300.735,\n",
       "        301.33 , 301.925, 302.52 , 303.115, 303.71 , 304.305, 304.9  ,\n",
       "        305.495, 306.09 , 306.685, 307.28 , 307.875, 308.47 , 309.065,\n",
       "        309.66 , 310.255, 310.85 , 311.445, 312.04 , 312.635, 313.23 ,\n",
       "        313.825, 314.42 , 315.015, 315.61 , 316.205, 316.8  , 317.395,\n",
       "        317.99 , 318.585, 319.18 , 319.775, 320.37 , 320.965, 321.56 ,\n",
       "        322.155, 322.75 , 323.345, 323.94 , 324.535, 325.13 , 325.725,\n",
       "        326.32 , 326.915, 327.51 , 328.105, 328.7  , 329.295, 329.89 ,\n",
       "        330.485, 331.08 , 331.675, 332.27 , 332.865, 333.46 , 334.055,\n",
       "        334.65 , 335.245, 335.84 , 336.435, 337.03 , 337.625, 338.22 ,\n",
       "        338.815, 339.41 , 340.005, 340.6  , 341.195, 341.79 , 342.385,\n",
       "        342.98 , 343.575, 344.17 , 344.765, 345.36 , 345.955, 346.55 ,\n",
       "        347.145, 347.74 , 348.335, 348.93 , 349.525, 350.12 , 350.715,\n",
       "        351.31 , 351.905, 352.5  , 353.095, 353.69 , 354.285, 354.88 ,\n",
       "        355.475, 356.07 , 356.665, 357.26 , 357.855, 358.45 , 359.045,\n",
       "        359.64 , 360.235, 360.83 , 361.425, 362.02 , 362.615, 363.21 ,\n",
       "        363.805, 364.4  , 364.995, 365.59 , 366.185, 366.78 , 367.375,\n",
       "        367.97 , 368.565, 369.16 , 369.755, 370.35 , 370.945, 371.54 ,\n",
       "        372.135, 372.73 , 373.325, 373.92 , 374.515, 375.11 , 375.705,\n",
       "        376.3  , 376.895, 377.49 , 378.085, 378.68 , 379.275, 379.87 ,\n",
       "        380.465, 381.06 , 381.655, 382.25 , 382.845, 383.44 , 384.035,\n",
       "        384.63 , 385.225, 385.82 , 386.415, 387.01 , 387.605, 388.2  ,\n",
       "        388.795, 389.39 , 389.985, 390.58 , 391.175, 391.77 , 392.365,\n",
       "        392.96 , 393.555, 394.15 , 394.745, 395.34 , 395.935, 396.53 ,\n",
       "        397.125, 397.72 , 398.315, 398.91 , 399.505, 400.1  , 400.695,\n",
       "        401.29 , 401.885, 402.48 , 403.075, 403.67 , 404.265, 404.86 ,\n",
       "        405.455, 406.05 , 406.645, 407.24 , 407.835, 408.43 , 409.025,\n",
       "        409.62 , 410.215, 410.81 , 411.405, 412.   ]),\n",
       " <BarContainer object of 200 artists>)"
      ]
     },
     "execution_count": 11,
     "metadata": {},
     "output_type": "execute_result"
    },
    {
     "data": {
      "image/png": "[encoded data removed]",
      "text/plain": [
       "<Figure size 432x288 with 1 Axes>"
      ]
     },
     "metadata": {
      "needs_background": "light"
     },
     "output_type": "display_data"
    }
   ],
   "source": [
    "# Plotting the result\n",
    "plt.hist(result, bins=200)"
   ]
  },
  {
   "cell_type": "markdown",
   "id": "e41b4a8b",
   "metadata": {},
   "source": [
    "## Recap\n",
    "- What conclusions can you extract from the experiments in terms of n and m?\n",
    "- Results are explained by the law of large numbers. We will see it soon in class"
   ]
  },
  {
   "cell_type": "markdown",
   "id": "0cc724b5",
   "metadata": {},
   "source": [
    "## Bonus exercise\n",
    "- Create your own dice: a dice with possible results 1..6 but with different probabilities of the classic dice\n",
    "\n",
    "- Repeat the exercise with this dice and compare the results with the previous ones\n",
    "\n",
    "- Hint: Build a function that simulates your own dice"
   ]
  },
  {
   "cell_type": "code",
   "execution_count": 12,
   "id": "1b982203",
   "metadata": {},
   "outputs": [],
   "source": [
    "# Example\n",
    "def mydice():\n",
    "    tmp = randint(1,6)\n",
    "    if tmp == 6:\n",
    "        tmp = 4\n",
    "    return tmp"
   ]
  },
  {
   "cell_type": "code",
   "execution_count": 13,
   "id": "0af758a5",
   "metadata": {},
   "outputs": [
    {
     "name": "stdout",
     "output_type": "stream",
     "text": [
      "4\n",
      "4\n",
      "4\n",
      "1\n",
      "3\n",
      "2\n",
      "4\n",
      "1\n",
      "4\n",
      "5\n",
      "4\n",
      "5\n",
      "5\n",
      "4\n",
      "2\n",
      "4\n",
      "1\n",
      "4\n",
      "1\n",
      "4\n",
      "2\n",
      "2\n",
      "4\n",
      "3\n"
     ]
    }
   ],
   "source": [
    "for i in range(1,25):\n",
    "    print(mydice())"
   ]
  },
  {
   "cell_type": "code",
   "execution_count": 14,
   "id": "6602cdcd",
   "metadata": {},
   "outputs": [],
   "source": [
    "result = []\n",
    "m = 100\n",
    "n = 100000\n",
    "for i in range(0,n):\n",
    "    roll_result = 0\n",
    "    for j in range(0,m):\n",
    "      roll_result = roll_result + mydice()\n",
    "    result.append(roll_result)"
   ]
  },
  {
   "cell_type": "code",
   "execution_count": 15,
   "id": "bac51e99",
   "metadata": {},
   "outputs": [
    {
     "data": {
      "text/plain": [
       "(array([4.7000e+01, 6.6200e+02, 5.1840e+03, 1.6624e+04, 3.2802e+04,\n",
       "        2.9507e+04, 1.2066e+04, 2.8310e+03, 2.6200e+02, 1.5000e+01]),\n",
       " array([260. , 271.7, 283.4, 295.1, 306.8, 318.5, 330.2, 341.9, 353.6,\n",
       "        365.3, 377. ]),\n",
       " <BarContainer object of 10 artists>)"
      ]
     },
     "execution_count": 15,
     "metadata": {},
     "output_type": "execute_result"
    },
    {
     "data": {
      "image/png": "[encoded data removed]",
      "text/plain": [
       "<Figure size 432x288 with 1 Axes>"
      ]
     },
     "metadata": {
      "needs_background": "light"
     },
     "output_type": "display_data"
    }
   ],
   "source": [
    "# Plot the result\n",
    "plt.hist(result)"
   ]
  },
  {
   "cell_type": "code",
   "execution_count": null,
   "id": "7897c37a",
   "metadata": {},
   "outputs": [],
   "source": []
  }
 ],
 "metadata": {
  "kernelspec": {
   "display_name": "Python 3",
   "language": "python",
   "name": "python3"
  },
  "language_info": {
   "codemirror_mode": {
    "name": "ipython",
    "version": 3
   },
   "file_extension": ".py",
   "mimetype": "text/x-python",
   "name": "python",
   "nbconvert_exporter": "python",
   "pygments_lexer": "ipython3",
   "version": "3.7.5"
  }
 },
 "nbformat": 4,
 "nbformat_minor": 5
}
