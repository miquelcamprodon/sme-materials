{
 "cells": [
  {
   "cell_type": "markdown",
   "id": "a4a02f0f",
   "metadata": {},
   "source": [
    "# Probability Distribution Models"
   ]
  },
  {
   "cell_type": "code",
   "execution_count": 1,
   "id": "969c779e",
   "metadata": {},
   "outputs": [],
   "source": [
    "# Libraries\n",
    "import numpy as np\n",
    "import pandas as pd\n",
    "from datetime import datetime as dt\n",
    "from scipy import stats\n",
    "import scipy\n",
    "import matplotlib.pyplot as plt"
   ]
  },
  {
   "cell_type": "markdown",
   "id": "83d90097",
   "metadata": {},
   "source": [
    "# Discrete distributions"
   ]
  },
  {
   "cell_type": "markdown",
   "id": "3ce2b158",
   "metadata": {},
   "source": [
    "## Binomial Distribution\n",
    "\n",
    "https://docs.scipy.org/doc/scipy/reference/reference/generated/scipy.stats.binom.html#scipy.stats.binom"
   ]
  },
  {
   "cell_type": "code",
   "execution_count": 2,
   "id": "6fa738f6",
   "metadata": {},
   "outputs": [
    {
     "data": {
      "text/plain": [
       "0.03696441650390628"
      ]
     },
     "execution_count": 2,
     "metadata": {},
     "output_type": "execute_result"
    }
   ],
   "source": [
    "# Let X be a B(n=20, p=0.5)\n",
    "\n",
    "# Probability of X = 14?\n",
    "# Probability Mass Function\n",
    "scipy.stats.binom.pmf(14, 20, 0.5)"
   ]
  },
  {
   "cell_type": "code",
   "execution_count": 3,
   "id": "11b51fa8",
   "metadata": {},
   "outputs": [
    {
     "data": {
      "text/plain": [
       "0.9793052673339844"
      ]
     },
     "execution_count": 3,
     "metadata": {},
     "output_type": "execute_result"
    }
   ],
   "source": [
    "# Probability of X <= 14?\n",
    "# Cumulative Distribution Function\n",
    "scipy.stats.binom.cdf(14, 20, 0.5)"
   ]
  },
  {
   "cell_type": "code",
   "execution_count": 4,
   "id": "b7ceb32f",
   "metadata": {},
   "outputs": [
    {
     "data": {
      "text/plain": [
       "12.0"
      ]
     },
     "execution_count": 4,
     "metadata": {},
     "output_type": "execute_result"
    }
   ],
   "source": [
    "# Quantile 0.95?\n",
    "# Minimum value of x s.t. P(X<=x)>=0.95\n",
    "# Percent Point Function\n",
    "scipy.stats.binom.ppf(0.85, 20, 0.5)"
   ]
  },
  {
   "cell_type": "markdown",
   "id": "62935e96",
   "metadata": {},
   "source": [
    "## Geometric Distribution\n",
    "\n",
    "https://docs.scipy.org/doc/scipy/reference/reference/generated/scipy.stats.geom.html#scipy.stats.geom"
   ]
  },
  {
   "cell_type": "code",
   "execution_count": 5,
   "id": "2f933062",
   "metadata": {},
   "outputs": [
    {
     "data": {
      "text/plain": [
       "0.125"
      ]
     },
     "execution_count": 5,
     "metadata": {},
     "output_type": "execute_result"
    }
   ],
   "source": [
    "# Let X be a Geom(p=0.5)\n",
    "\n",
    "# Probability of X = 3?\n",
    "# Probability Mass Function\n",
    "scipy.stats.geom.pmf(3, 0.5)"
   ]
  },
  {
   "cell_type": "code",
   "execution_count": 6,
   "id": "920f80d4",
   "metadata": {},
   "outputs": [
    {
     "data": {
      "text/plain": [
       "0.875"
      ]
     },
     "execution_count": 6,
     "metadata": {},
     "output_type": "execute_result"
    }
   ],
   "source": [
    "# Probability of X <= 3?\n",
    "# Cumulative Distribution Function\n",
    "scipy.stats.geom.cdf(3, 0.5)"
   ]
  },
  {
   "cell_type": "code",
   "execution_count": 7,
   "id": "afc44526",
   "metadata": {},
   "outputs": [
    {
     "data": {
      "text/plain": [
       "5.0"
      ]
     },
     "execution_count": 7,
     "metadata": {},
     "output_type": "execute_result"
    }
   ],
   "source": [
    "# Quantile 0.95?\n",
    "# Minimum value of x s.t. P(X<=x)>=0.95\n",
    "# Percent Point Function\n",
    "scipy.stats.geom.ppf(0.95, 0.5)"
   ]
  },
  {
   "cell_type": "markdown",
   "id": "d29959bc",
   "metadata": {},
   "source": [
    "## Negative Binomial Distribution\n",
    "\n",
    "https://docs.scipy.org/doc/scipy/reference/reference/generated/scipy.stats.nbinom.html#scipy.stats.nbinom"
   ]
  },
  {
   "cell_type": "code",
   "execution_count": 8,
   "id": "489f83f6",
   "metadata": {},
   "outputs": [
    {
     "data": {
      "text/plain": [
       "0.048708319664001465"
      ]
     },
     "execution_count": 8,
     "metadata": {},
     "output_type": "execute_result"
    }
   ],
   "source": [
    "# Let X be a NB(r=10, p=0.5)\n",
    "\n",
    "# Probability of X = 14?\n",
    "# Probability Mass Function\n",
    "scipy.stats.nbinom.pmf(14, 10, 0.5)"
   ]
  },
  {
   "cell_type": "code",
   "execution_count": 9,
   "id": "77b2b5ef",
   "metadata": {},
   "outputs": [
    {
     "data": {
      "text/plain": [
       "0.8462718725204468"
      ]
     },
     "execution_count": 9,
     "metadata": {},
     "output_type": "execute_result"
    }
   ],
   "source": [
    "# Probability of X <= 14?\n",
    "# Cumulative Distribution Function\n",
    "scipy.stats.nbinom.cdf(14, 10, 0.5)"
   ]
  },
  {
   "cell_type": "code",
   "execution_count": 10,
   "id": "94b4eb88",
   "metadata": {},
   "outputs": [
    {
     "data": {
      "text/plain": [
       "18.0"
      ]
     },
     "execution_count": 10,
     "metadata": {},
     "output_type": "execute_result"
    }
   ],
   "source": [
    "# Quantile 0.95?\n",
    "# Minimum value of x s.t. P(X<=x)>=0.95\n",
    "# Percent Point Function\n",
    "scipy.stats.nbinom.ppf(0.95, 10, 0.5)"
   ]
  },
  {
   "cell_type": "markdown",
   "id": "a146317b",
   "metadata": {},
   "source": [
    "## Poisson Distribution\n",
    "\n",
    "https://docs.scipy.org/doc/scipy/reference/reference/generated/scipy.stats.poisson.html#scipy.stats.poisson"
   ]
  },
  {
   "cell_type": "code",
   "execution_count": 11,
   "id": "19656216",
   "metadata": {},
   "outputs": [
    {
     "data": {
      "text/plain": [
       "0.18044704431548356"
      ]
     },
     "execution_count": 11,
     "metadata": {},
     "output_type": "execute_result"
    }
   ],
   "source": [
    "# Let X be a Poiss(lambda = 2)\n",
    "\n",
    "# Probability of X = 3?\n",
    "scipy.stats.poisson.pmf(3,2)"
   ]
  },
  {
   "cell_type": "code",
   "execution_count": 12,
   "id": "0c7d0269",
   "metadata": {},
   "outputs": [
    {
     "data": {
      "text/plain": [
       "0.857123460498547"
      ]
     },
     "execution_count": 12,
     "metadata": {},
     "output_type": "execute_result"
    }
   ],
   "source": [
    "# Probability of X <= 3?\n",
    "scipy.stats.poisson.cdf(3,2)"
   ]
  },
  {
   "cell_type": "code",
   "execution_count": 13,
   "id": "80a7d39c",
   "metadata": {},
   "outputs": [
    {
     "data": {
      "text/plain": [
       "5.0"
      ]
     },
     "execution_count": 13,
     "metadata": {},
     "output_type": "execute_result"
    }
   ],
   "source": [
    "# Quantile 0.95?\n",
    "scipy.stats.poisson.ppf(0.95,2)"
   ]
  },
  {
   "cell_type": "markdown",
   "id": "8be2320f",
   "metadata": {},
   "source": [
    "# Continuous Distributions"
   ]
  },
  {
   "cell_type": "markdown",
   "id": "e4f02d02",
   "metadata": {},
   "source": [
    "## Exponential Distribution\n",
    "https://docs.scipy.org/doc/scipy/reference/reference/generated/scipy.stats.expon.html#scipy.stats.expon"
   ]
  },
  {
   "cell_type": "code",
   "execution_count": 14,
   "id": "99981f58",
   "metadata": {},
   "outputs": [
    {
     "data": {
      "text/plain": [
       "0.9816843611112658"
      ]
     },
     "execution_count": 14,
     "metadata": {},
     "output_type": "execute_result"
    }
   ],
   "source": [
    "# Let X be an Exp(lambda = 2)\n",
    "# Probability of X <= 2?\n",
    "scipy.stats.expon.cdf(2, 0, 1/2)"
   ]
  },
  {
   "cell_type": "code",
   "execution_count": 15,
   "id": "df2f1ee4",
   "metadata": {},
   "outputs": [
    {
     "data": {
      "text/plain": [
       "1.497866136776995"
      ]
     },
     "execution_count": 15,
     "metadata": {},
     "output_type": "execute_result"
    }
   ],
   "source": [
    "# Quantile 0.95?\n",
    "scipy.stats.expon.ppf(0.95, 0, 1/2)"
   ]
  },
  {
   "cell_type": "markdown",
   "id": "c0d423af",
   "metadata": {},
   "source": [
    "## Uniform Distribution\n",
    "https://docs.scipy.org/doc/scipy/reference/reference/generated/scipy.stats.uniform.html#scipy.stats.uniform"
   ]
  },
  {
   "cell_type": "code",
   "execution_count": 16,
   "id": "b31eedd5",
   "metadata": {},
   "outputs": [
    {
     "data": {
      "text/plain": [
       "0.5"
      ]
     },
     "execution_count": 16,
     "metadata": {},
     "output_type": "execute_result"
    }
   ],
   "source": [
    "# Let X be an Unif(a=1, b=3)\n",
    "# Probability of X <= 2?\n",
    "#In the standard form, the distribution is uniform on [0, 1]. \n",
    "# Using the parameters loc and scale, one obtains the uniform distribution on [loc, loc + scale].\n",
    "scipy.stats.uniform.cdf(2, 1, 2)"
   ]
  },
  {
   "cell_type": "code",
   "execution_count": 17,
   "id": "1f71aa25",
   "metadata": {},
   "outputs": [
    {
     "data": {
      "text/plain": [
       "2.9"
      ]
     },
     "execution_count": 17,
     "metadata": {},
     "output_type": "execute_result"
    }
   ],
   "source": [
    "# Quantile 0.95?\n",
    "scipy.stats.uniform.ppf(0.95, 1, 2)"
   ]
  },
  {
   "cell_type": "markdown",
   "id": "84dacaf3",
   "metadata": {},
   "source": [
    "## Normal Distribution\n",
    "https://docs.scipy.org/doc/scipy/reference/reference/generated/scipy.stats.norm.html#scipy.stats.norm"
   ]
  },
  {
   "cell_type": "code",
   "execution_count": 20,
   "id": "a707c091",
   "metadata": {},
   "outputs": [
    {
     "data": {
      "text/plain": [
       "0.006209665325776159"
      ]
     },
     "execution_count": 20,
     "metadata": {},
     "output_type": "execute_result"
    }
   ],
   "source": [
    "# Let X be a Norm(mu=5, sigma=2)\n",
    "# Probability of X <= 2?\n",
    "1-scipy.stats.norm.cdf(10, 5, 2)"
   ]
  },
  {
   "cell_type": "code",
   "execution_count": 21,
   "id": "2c68da25",
   "metadata": {},
   "outputs": [
    {
     "data": {
      "text/plain": [
       "8.289707253902945"
      ]
     },
     "execution_count": 21,
     "metadata": {},
     "output_type": "execute_result"
    }
   ],
   "source": [
    "# Quantile 0.95?\n",
    "scipy.stats.norm.ppf(0.95, 5, 2)"
   ]
  },
  {
   "cell_type": "markdown",
   "id": "8c7c3113",
   "metadata": {},
   "source": [
    "## Exercises"
   ]
  },
  {
   "cell_type": "markdown",
   "id": "7924a66d",
   "metadata": {},
   "source": [
    "Let X be a Binomial(n=20, p=0.2)\n",
    "- Which is the probability of exactly 10 successes?\n",
    "- Which is the probability of at most 10 successes?\n",
    "- Which is the probability of at least 10 successes?"
   ]
  },
  {
   "cell_type": "markdown",
   "id": "9b8adfbd",
   "metadata": {},
   "source": [
    "Let Y be a Poiss(lambda = 4 events per day)\n",
    "- Which is the probability of exactly 4 events?\n",
    "- Which is the variable representing events per week? (assume one week is composed of 7 days)\n",
    "- Which is the probability of at most 5 events per week?"
   ]
  },
  {
   "cell_type": "markdown",
   "id": "b2618618",
   "metadata": {},
   "source": [
    "Let Z be a Normal(mu=0, sigma=1)\n",
    "- Which is the probability that Z <= 3?\n",
    "- Which is the probability that 1 <= Z <= 2?\n",
    "- Which is the value corresponding to the percentile 90?"
   ]
  },
  {
   "cell_type": "code",
   "execution_count": null,
   "id": "92f3dd40",
   "metadata": {},
   "outputs": [],
   "source": []
  }
 ],
 "metadata": {
  "kernelspec": {
   "display_name": "Python 3 (ipykernel)",
   "language": "python",
   "name": "python3"
  },
  "language_info": {
   "codemirror_mode": {
    "name": "ipython",
    "version": 3
   },
   "file_extension": ".py",
   "mimetype": "text/x-python",
   "name": "python",
   "nbconvert_exporter": "python",
   "pygments_lexer": "ipython3",
   "version": "3.10.9"
  }
 },
 "nbformat": 4,
 "nbformat_minor": 5
}
