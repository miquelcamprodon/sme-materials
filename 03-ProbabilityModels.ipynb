{
 "cells": [
  {
   "cell_type": "markdown",
   "id": "32d09a65",
   "metadata": {},
   "source": [
    "# Probability Distribution Models"
   ]
  },
  {
   "cell_type": "code",
   "execution_count": 2,
   "id": "f7207ca4",
   "metadata": {},
   "outputs": [],
   "source": [
    "# Libraries\n",
    "import numpy as np\n",
    "import pandas as pd\n",
    "from datetime import datetime as dt\n",
    "from scipy import stats\n",
    "import scipy\n",
    "import matplotlib.pyplot as plt"
   ]
  },
  {
   "cell_type": "markdown",
   "id": "2a227862",
   "metadata": {},
   "source": [
    "# Discrete distributions"
   ]
  },
  {
   "cell_type": "markdown",
   "id": "e67a0835",
   "metadata": {},
   "source": [
    "## Binomial Distribution\n",
    "\n",
    "https://docs.scipy.org/doc/scipy/reference/reference/generated/scipy.stats.binom.html#scipy.stats.binom"
   ]
  },
  {
   "cell_type": "code",
   "execution_count": 2,
   "id": "81b78396",
   "metadata": {},
   "outputs": [
    {
     "data": {
      "text/plain": [
       "0.03696441650390614"
      ]
     },
     "execution_count": 2,
     "metadata": {},
     "output_type": "execute_result"
    }
   ],
   "source": [
    "# Let X be a B(n=20, p=0.5)\n",
    "\n",
    "# Probability of X = 14?\n",
    "# Probability Mass Function\n",
    "scipy.stats.binom.pmf(14, 20, 0.5)"
   ]
  },
  {
   "cell_type": "code",
   "execution_count": 3,
   "id": "13a27640",
   "metadata": {},
   "outputs": [
    {
     "data": {
      "text/plain": [
       "0.9793052673339844"
      ]
     },
     "execution_count": 3,
     "metadata": {},
     "output_type": "execute_result"
    }
   ],
   "source": [
    "# Probability of X <= 14?\n",
    "# Cumulative Distribution Function\n",
    "scipy.stats.binom.cdf(14, 20, 0.5)"
   ]
  },
  {
   "cell_type": "code",
   "execution_count": 5,
   "id": "e80efa59",
   "metadata": {},
   "outputs": [
    {
     "data": {
      "text/plain": [
       "12.0"
      ]
     },
     "execution_count": 5,
     "metadata": {},
     "output_type": "execute_result"
    }
   ],
   "source": [
    "# Quantile 0.95?\n",
    "# Minimum value of x s.t. P(X<=x)>=0.95\n",
    "# Percent Point Function\n",
    "scipy.stats.binom.ppf(0.85, 20, 0.5)"
   ]
  },
  {
   "cell_type": "markdown",
   "id": "35c27039",
   "metadata": {},
   "source": [
    "## Geometric Distribution\n",
    "\n",
    "https://docs.scipy.org/doc/scipy/reference/reference/generated/scipy.stats.geom.html#scipy.stats.geom"
   ]
  },
  {
   "cell_type": "code",
   "execution_count": 6,
   "id": "c3fb41fb",
   "metadata": {},
   "outputs": [
    {
     "data": {
      "text/plain": [
       "0.125"
      ]
     },
     "execution_count": 6,
     "metadata": {},
     "output_type": "execute_result"
    }
   ],
   "source": [
    "# Let X be a Geom(p=0.5)\n",
    "\n",
    "# Probability of X = 3?\n",
    "# Probability Mass Function\n",
    "scipy.stats.geom.pmf(3, 0.5)"
   ]
  },
  {
   "cell_type": "code",
   "execution_count": 7,
   "id": "7106d0e5",
   "metadata": {},
   "outputs": [
    {
     "data": {
      "text/plain": [
       "0.875"
      ]
     },
     "execution_count": 7,
     "metadata": {},
     "output_type": "execute_result"
    }
   ],
   "source": [
    "# Probability of X <= 3?\n",
    "# Cumulative Distribution Function\n",
    "scipy.stats.geom.cdf(3, 0.5)"
   ]
  },
  {
   "cell_type": "code",
   "execution_count": 8,
   "id": "936d83c2",
   "metadata": {},
   "outputs": [
    {
     "data": {
      "text/plain": [
       "5.0"
      ]
     },
     "execution_count": 8,
     "metadata": {},
     "output_type": "execute_result"
    }
   ],
   "source": [
    "# Quantile 0.95?\n",
    "# Minimum value of x s.t. P(X<=x)>=0.95\n",
    "# Percent Point Function\n",
    "scipy.stats.geom.ppf(0.95, 0.5)"
   ]
  },
  {
   "cell_type": "markdown",
   "id": "0c874d46",
   "metadata": {},
   "source": [
    "## Negative Binomial Distribution\n",
    "\n",
    "https://docs.scipy.org/doc/scipy/reference/reference/generated/scipy.stats.nbinom.html#scipy.stats.nbinom"
   ]
  },
  {
   "cell_type": "code",
   "execution_count": 9,
   "id": "f162ef81",
   "metadata": {},
   "outputs": [
    {
     "data": {
      "text/plain": [
       "0.04870831966400159"
      ]
     },
     "execution_count": 9,
     "metadata": {},
     "output_type": "execute_result"
    }
   ],
   "source": [
    "# Let X be a NB(r=10, p=0.5)\n",
    "\n",
    "# Probability of X = 14?\n",
    "# Probability Mass Function\n",
    "scipy.stats.nbinom.pmf(14, 10, 0.5)"
   ]
  },
  {
   "cell_type": "code",
   "execution_count": 10,
   "id": "ef40196a",
   "metadata": {},
   "outputs": [
    {
     "data": {
      "text/plain": [
       "0.8462718725204468"
      ]
     },
     "execution_count": 10,
     "metadata": {},
     "output_type": "execute_result"
    }
   ],
   "source": [
    "# Probability of X <= 14?\n",
    "# Cumulative Distribution Function\n",
    "scipy.stats.nbinom.cdf(14, 10, 0.5)"
   ]
  },
  {
   "cell_type": "code",
   "execution_count": 12,
   "id": "7f70f4e5",
   "metadata": {},
   "outputs": [
    {
     "data": {
      "text/plain": [
       "18.0"
      ]
     },
     "execution_count": 12,
     "metadata": {},
     "output_type": "execute_result"
    }
   ],
   "source": [
    "# Quantile 0.95?\n",
    "# Minimum value of x s.t. P(X<=x)>=0.95\n",
    "# Percent Point Function\n",
    "scipy.stats.nbinom.ppf(0.95, 10, 0.5)"
   ]
  },
  {
   "cell_type": "markdown",
   "id": "d882f72c",
   "metadata": {},
   "source": [
    "## Poisson Distribution\n",
    "\n",
    "https://docs.scipy.org/doc/scipy/reference/reference/generated/scipy.stats.poisson.html#scipy.stats.poisson"
   ]
  },
  {
   "cell_type": "code",
   "execution_count": 13,
   "id": "1e8c15ff",
   "metadata": {},
   "outputs": [
    {
     "data": {
      "text/plain": [
       "0.18044704431548356"
      ]
     },
     "execution_count": 13,
     "metadata": {},
     "output_type": "execute_result"
    }
   ],
   "source": [
    "# Let X be a Poiss(lambda = 2)\n",
    "\n",
    "# Probability of X = 3?\n",
    "scipy.stats.poisson.pmf(3,2)"
   ]
  },
  {
   "cell_type": "code",
   "execution_count": 14,
   "id": "16302992",
   "metadata": {},
   "outputs": [
    {
     "data": {
      "text/plain": [
       "0.857123460498547"
      ]
     },
     "execution_count": 14,
     "metadata": {},
     "output_type": "execute_result"
    }
   ],
   "source": [
    "# Probability of X <= 3?\n",
    "scipy.stats.poisson.cdf(3,2)"
   ]
  },
  {
   "cell_type": "code",
   "execution_count": 15,
   "id": "bfc84967",
   "metadata": {},
   "outputs": [
    {
     "data": {
      "text/plain": [
       "5.0"
      ]
     },
     "execution_count": 15,
     "metadata": {},
     "output_type": "execute_result"
    }
   ],
   "source": [
    "# Quantile 0.95?\n",
    "scipy.stats.poisson.ppf(0.95,2)"
   ]
  },
  {
   "cell_type": "markdown",
   "id": "21be9a1c",
   "metadata": {},
   "source": [
    "# Continuous Distributions"
   ]
  },
  {
   "cell_type": "markdown",
   "id": "635e6407",
   "metadata": {},
   "source": [
    "## Exponential Distribution\n",
    "https://docs.scipy.org/doc/scipy/reference/reference/generated/scipy.stats.expon.html#scipy.stats.expon"
   ]
  },
  {
   "cell_type": "code",
   "execution_count": 16,
   "id": "268e1b00",
   "metadata": {},
   "outputs": [
    {
     "data": {
      "text/plain": [
       "0.9816843611112658"
      ]
     },
     "execution_count": 16,
     "metadata": {},
     "output_type": "execute_result"
    }
   ],
   "source": [
    "# Let X be an Exp(lambda = 2)\n",
    "# Probability of X <= 2?\n",
    "scipy.stats.expon.cdf(2, 0, 1/2)"
   ]
  },
  {
   "cell_type": "code",
   "execution_count": 17,
   "id": "c974df18",
   "metadata": {},
   "outputs": [
    {
     "data": {
      "text/plain": [
       "1.497866136776995"
      ]
     },
     "execution_count": 17,
     "metadata": {},
     "output_type": "execute_result"
    }
   ],
   "source": [
    "# Quantile 0.95?\n",
    "scipy.stats.expon.ppf(0.95, 0, 1/2)"
   ]
  },
  {
   "cell_type": "markdown",
   "id": "b648e28c",
   "metadata": {},
   "source": [
    "## Uniform Distribution\n",
    "https://docs.scipy.org/doc/scipy/reference/reference/generated/scipy.stats.uniform.html#scipy.stats.uniform"
   ]
  },
  {
   "cell_type": "code",
   "execution_count": 18,
   "id": "5dec79ad",
   "metadata": {},
   "outputs": [
    {
     "data": {
      "text/plain": [
       "0.5"
      ]
     },
     "execution_count": 18,
     "metadata": {},
     "output_type": "execute_result"
    }
   ],
   "source": [
    "# Let X be an Unif(a=1, b=3)\n",
    "# Probability of X <= 2?\n",
    "#In the standard form, the distribution is uniform on [0, 1]. \n",
    "# Using the parameters loc and scale, one obtains the uniform distribution on [loc, loc + scale].\n",
    "scipy.stats.uniform.cdf(2, 1, 2)"
   ]
  },
  {
   "cell_type": "code",
   "execution_count": 19,
   "id": "aa523005",
   "metadata": {},
   "outputs": [
    {
     "data": {
      "text/plain": [
       "2.9"
      ]
     },
     "execution_count": 19,
     "metadata": {},
     "output_type": "execute_result"
    }
   ],
   "source": [
    "# Quantile 0.95?\n",
    "scipy.stats.uniform.ppf(0.95, 1, 2)"
   ]
  },
  {
   "cell_type": "markdown",
   "id": "748af2cd",
   "metadata": {},
   "source": [
    "## Normal Distribution\n",
    "https://docs.scipy.org/doc/scipy/reference/reference/generated/scipy.stats.norm.html#scipy.stats.norm"
   ]
  },
  {
   "cell_type": "code",
   "execution_count": 5,
   "id": "37893db2",
   "metadata": {},
   "outputs": [
    {
     "data": {
      "text/plain": [
       "0.006209665325776159"
      ]
     },
     "execution_count": 5,
     "metadata": {},
     "output_type": "execute_result"
    }
   ],
   "source": [
    "# Let X be a Norm(mu=0, sigma=1)\n",
    "# Probability of X <= 2?\n",
    "1-scipy.stats.norm.cdf(10, 5, 2)"
   ]
  },
  {
   "cell_type": "code",
   "execution_count": 21,
   "id": "494e9b2b",
   "metadata": {},
   "outputs": [
    {
     "data": {
      "text/plain": [
       "1.6448536269514722"
      ]
     },
     "execution_count": 21,
     "metadata": {},
     "output_type": "execute_result"
    }
   ],
   "source": [
    "# Quantile 0.95?\n",
    "scipy.stats.norm.ppf(0.95, 0, 1)"
   ]
  },
  {
   "cell_type": "markdown",
   "id": "4ab4a163",
   "metadata": {},
   "source": [
    "## Exercises"
   ]
  },
  {
   "cell_type": "markdown",
   "id": "f03f13a1",
   "metadata": {},
   "source": [
    "Let X be a Binomial(n=20, p=0.2)\n",
    "- Which is the probability of exactly 10 successes?\n",
    "- Which is the probability of at most 10 successes?\n",
    "- Which is the probability of at least 10 successes?"
   ]
  },
  {
   "cell_type": "markdown",
   "id": "051b7908",
   "metadata": {},
   "source": [
    "Let Y be a Poiss(lambda = 4 events per day)\n",
    "- Which is the probability of exactly 4 events?\n",
    "- Which is the variable representing events per week? (assume one week is composed of 7 days)\n",
    "- Which is the probability of at most 5 events per week?"
   ]
  },
  {
   "cell_type": "markdown",
   "id": "0fca3caf",
   "metadata": {},
   "source": [
    "Let Z be a Normal(mu=0, sigma=1)\n",
    "- Which is the probability that Z <= 3?\n",
    "- Which is the probability that 1 <= Z <= 2?\n",
    "- Which is the value corresponding to the percentile 90?"
   ]
  },
  {
   "cell_type": "code",
   "execution_count": null,
   "id": "f6831b6a",
   "metadata": {},
   "outputs": [],
   "source": []
  }
 ],
 "metadata": {
  "kernelspec": {
   "display_name": "Python 3",
   "language": "python",
   "name": "python3"
  },
  "language_info": {
   "codemirror_mode": {
    "name": "ipython",
    "version": 3
   },
   "file_extension": ".py",
   "mimetype": "text/x-python",
   "name": "python",
   "nbconvert_exporter": "python",
   "pygments_lexer": "ipython3",
   "version": "3.7.5"
  }
 },
 "nbformat": 4,
 "nbformat_minor": 5
}
