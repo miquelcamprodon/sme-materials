{
 "cells": [
  {
   "cell_type": "markdown",
   "id": "e70c5803",
   "metadata": {},
   "source": [
    "# Confidence intervals"
   ]
  },
  {
   "cell_type": "markdown",
   "id": "c51945eb",
   "metadata": {},
   "source": [
    "Based on https://www.statology.org/confidence-intervals-python/"
   ]
  },
  {
   "cell_type": "code",
   "execution_count": 49,
   "id": "51cc0c5f",
   "metadata": {},
   "outputs": [],
   "source": [
    "# Libraries\n",
    "import numpy as np\n",
    "import pandas as pd\n",
    "from datetime import datetime as dt\n",
    "from scipy import stats"
   ]
  },
  {
   "cell_type": "markdown",
   "id": "b791c8ca",
   "metadata": {},
   "source": [
    "## Data preparation"
   ]
  },
  {
   "cell_type": "code",
   "execution_count": 50,
   "id": "710673dd",
   "metadata": {},
   "outputs": [],
   "source": [
    "# Read the input file\n",
    "# Data extracted from DGT (Direccion General de Trafico) statistics and indicators webpage\n",
    "# https://www.dgt.es/es/seguridad-vial/estadisticas-e-indicadores/matriculaciones-definitivas/tablas-estadisticas/\n",
    "df_cars_brand = pd.read_csv('data/matriculacions_turismes_2020.txt',sep='\\t',encoding='latin-1')"
   ]
  },
  {
   "cell_type": "code",
   "execution_count": 51,
   "id": "cef2cb66",
   "metadata": {},
   "outputs": [
    {
     "data": {
      "text/html": [
       "<div>\n",
       "<style scoped>\n",
       "    .dataframe tbody tr th:only-of-type {\n",
       "        vertical-align: middle;\n",
       "    }\n",
       "\n",
       "    .dataframe tbody tr th {\n",
       "        vertical-align: top;\n",
       "    }\n",
       "\n",
       "    .dataframe thead th {\n",
       "        text-align: right;\n",
       "    }\n",
       "</style>\n",
       "<table border=\"1\" class=\"dataframe\">\n",
       "  <thead>\n",
       "    <tr style=\"text-align: right;\">\n",
       "      <th></th>\n",
       "      <th>PROVINCIAS</th>\n",
       "      <th>A_BRUNS_LINDER</th>\n",
       "      <th>A.M.C.</th>\n",
       "      <th>AC_CARS</th>\n",
       "      <th>ACURA</th>\n",
       "      <th>ADRIA</th>\n",
       "      <th>ALFA_ROMEO</th>\n",
       "      <th>ALLIED_VEHICLES_LTD</th>\n",
       "      <th>ALPINA</th>\n",
       "      <th>ALPINE</th>\n",
       "      <th>...</th>\n",
       "      <th>VOLKNER</th>\n",
       "      <th>VOLKSWAGEN</th>\n",
       "      <th>VOLKSWAGEN_AG</th>\n",
       "      <th>VOLKSWAGEN_V_W</th>\n",
       "      <th>VOLVO</th>\n",
       "      <th>VW-PORSCHE</th>\n",
       "      <th>WESTFIELD</th>\n",
       "      <th>WIESMANN</th>\n",
       "      <th>WILLYS_OVERLAND</th>\n",
       "      <th>WILLYS_VIASA</th>\n",
       "    </tr>\n",
       "  </thead>\n",
       "  <tbody>\n",
       "    <tr>\n",
       "      <th>0</th>\n",
       "      <td>Araba/Álava</td>\n",
       "      <td>0</td>\n",
       "      <td>0</td>\n",
       "      <td>0</td>\n",
       "      <td>0</td>\n",
       "      <td>0</td>\n",
       "      <td>10</td>\n",
       "      <td>0</td>\n",
       "      <td>0</td>\n",
       "      <td>0</td>\n",
       "      <td>...</td>\n",
       "      <td>0</td>\n",
       "      <td>289</td>\n",
       "      <td>0</td>\n",
       "      <td>18</td>\n",
       "      <td>157</td>\n",
       "      <td>0</td>\n",
       "      <td>0</td>\n",
       "      <td>0</td>\n",
       "      <td>0</td>\n",
       "      <td>0</td>\n",
       "    </tr>\n",
       "    <tr>\n",
       "      <th>1</th>\n",
       "      <td>Albacete</td>\n",
       "      <td>0</td>\n",
       "      <td>0</td>\n",
       "      <td>0</td>\n",
       "      <td>0</td>\n",
       "      <td>0</td>\n",
       "      <td>142</td>\n",
       "      <td>0</td>\n",
       "      <td>0</td>\n",
       "      <td>0</td>\n",
       "      <td>...</td>\n",
       "      <td>0</td>\n",
       "      <td>442</td>\n",
       "      <td>0</td>\n",
       "      <td>9</td>\n",
       "      <td>98</td>\n",
       "      <td>0</td>\n",
       "      <td>0</td>\n",
       "      <td>0</td>\n",
       "      <td>0</td>\n",
       "      <td>0</td>\n",
       "    </tr>\n",
       "    <tr>\n",
       "      <th>2</th>\n",
       "      <td>Alicante/Alacant</td>\n",
       "      <td>0</td>\n",
       "      <td>0</td>\n",
       "      <td>0</td>\n",
       "      <td>1</td>\n",
       "      <td>1</td>\n",
       "      <td>58</td>\n",
       "      <td>0</td>\n",
       "      <td>0</td>\n",
       "      <td>0</td>\n",
       "      <td>...</td>\n",
       "      <td>0</td>\n",
       "      <td>2439</td>\n",
       "      <td>0</td>\n",
       "      <td>9</td>\n",
       "      <td>298</td>\n",
       "      <td>0</td>\n",
       "      <td>0</td>\n",
       "      <td>0</td>\n",
       "      <td>0</td>\n",
       "      <td>0</td>\n",
       "    </tr>\n",
       "    <tr>\n",
       "      <th>3</th>\n",
       "      <td>Almería</td>\n",
       "      <td>0</td>\n",
       "      <td>0</td>\n",
       "      <td>0</td>\n",
       "      <td>0</td>\n",
       "      <td>0</td>\n",
       "      <td>6</td>\n",
       "      <td>0</td>\n",
       "      <td>0</td>\n",
       "      <td>0</td>\n",
       "      <td>...</td>\n",
       "      <td>1</td>\n",
       "      <td>733</td>\n",
       "      <td>2</td>\n",
       "      <td>35</td>\n",
       "      <td>150</td>\n",
       "      <td>0</td>\n",
       "      <td>0</td>\n",
       "      <td>0</td>\n",
       "      <td>0</td>\n",
       "      <td>0</td>\n",
       "    </tr>\n",
       "    <tr>\n",
       "      <th>4</th>\n",
       "      <td>Ávila</td>\n",
       "      <td>0</td>\n",
       "      <td>0</td>\n",
       "      <td>0</td>\n",
       "      <td>0</td>\n",
       "      <td>0</td>\n",
       "      <td>24</td>\n",
       "      <td>0</td>\n",
       "      <td>0</td>\n",
       "      <td>0</td>\n",
       "      <td>...</td>\n",
       "      <td>0</td>\n",
       "      <td>10</td>\n",
       "      <td>0</td>\n",
       "      <td>1</td>\n",
       "      <td>77</td>\n",
       "      <td>0</td>\n",
       "      <td>0</td>\n",
       "      <td>0</td>\n",
       "      <td>0</td>\n",
       "      <td>0</td>\n",
       "    </tr>\n",
       "  </tbody>\n",
       "</table>\n",
       "<p>5 rows × 202 columns</p>\n",
       "</div>"
      ],
      "text/plain": [
       "         PROVINCIAS  A_BRUNS_LINDER  A.M.C.  AC_CARS  ACURA  ADRIA  \\\n",
       "0       Araba/Álava               0       0        0      0      0   \n",
       "1          Albacete               0       0        0      0      0   \n",
       "2  Alicante/Alacant               0       0        0      1      1   \n",
       "3           Almería               0       0        0      0      0   \n",
       "4             Ávila               0       0        0      0      0   \n",
       "\n",
       "   ALFA_ROMEO  ALLIED_VEHICLES_LTD  ALPINA  ALPINE  ...  VOLKNER  VOLKSWAGEN  \\\n",
       "0          10                    0       0       0  ...        0         289   \n",
       "1         142                    0       0       0  ...        0         442   \n",
       "2          58                    0       0       0  ...        0        2439   \n",
       "3           6                    0       0       0  ...        1         733   \n",
       "4          24                    0       0       0  ...        0          10   \n",
       "\n",
       "   VOLKSWAGEN_AG  VOLKSWAGEN_V_W  VOLVO  VW-PORSCHE  WESTFIELD  WIESMANN  \\\n",
       "0              0              18    157           0          0         0   \n",
       "1              0               9     98           0          0         0   \n",
       "2              0               9    298           0          0         0   \n",
       "3              2              35    150           0          0         0   \n",
       "4              0               1     77           0          0         0   \n",
       "\n",
       "   WILLYS_OVERLAND  WILLYS_VIASA  \n",
       "0                0             0  \n",
       "1                0             0  \n",
       "2                0             0  \n",
       "3                0             0  \n",
       "4                0             0  \n",
       "\n",
       "[5 rows x 202 columns]"
      ]
     },
     "execution_count": 51,
     "metadata": {},
     "output_type": "execute_result"
    }
   ],
   "source": [
    "df_cars_brand.head()"
   ]
  },
  {
   "cell_type": "markdown",
   "id": "673043eb",
   "metadata": {},
   "source": [
    "### Question: Are high-quality weed prices in Jan 2014 significantly higher than in Jan 2015?"
   ]
  },
  {
   "cell_type": "markdown",
   "id": "dbaa6459",
   "metadata": {},
   "source": [
    "### Small sample (n <30)"
   ]
  },
  {
   "cell_type": "markdown",
   "id": "189fd07a",
   "metadata": {},
   "source": [
    "If we’re working with a small sample (n <30), we can use the t.interval() function from the scipy.stats library to calculate a confidence interval for a population mean."
   ]
  },
  {
   "cell_type": "code",
   "execution_count": 55,
   "id": "2598f44c",
   "metadata": {},
   "outputs": [],
   "source": [
    "# We use data from only 28 provinces\n",
    "data = df_cars_brand[df_cars_brand['PROVINCIAS']<='Lleida']['VOLKSWAGEN']"
   ]
  },
  {
   "cell_type": "code",
   "execution_count": 56,
   "id": "60498878",
   "metadata": {},
   "outputs": [
    {
     "data": {
      "text/plain": [
       "count      28.000000\n",
       "mean      997.500000\n",
       "std      1574.999718\n",
       "min        56.000000\n",
       "25%       344.250000\n",
       "50%       603.500000\n",
       "75%      1014.750000\n",
       "max      8531.000000\n",
       "Name: VOLKSWAGEN, dtype: float64"
      ]
     },
     "execution_count": 56,
     "metadata": {},
     "output_type": "execute_result"
    }
   ],
   "source": [
    "data.describe()"
   ]
  },
  {
   "cell_type": "code",
   "execution_count": 57,
   "id": "f0dae43e",
   "metadata": {},
   "outputs": [
    {
     "data": {
      "text/plain": [
       "(386.77886552643054, 1608.2211344735695)"
      ]
     },
     "execution_count": 57,
     "metadata": {},
     "output_type": "execute_result"
    }
   ],
   "source": [
    "stats.t.interval(alpha=0.95, df=len(data)-1, loc=np.mean(data), scale=stats.sem(data))"
   ]
  },
  {
   "cell_type": "code",
   "execution_count": 58,
   "id": "7208fead",
   "metadata": {},
   "outputs": [
    {
     "data": {
      "text/plain": [
       "(172.81461529162118, 1822.185384708379)"
      ]
     },
     "execution_count": 58,
     "metadata": {},
     "output_type": "execute_result"
    }
   ],
   "source": [
    "stats.t.interval(alpha=0.99, df=len(data)-1, loc=np.mean(data), scale=stats.sem(data))"
   ]
  },
  {
   "cell_type": "markdown",
   "id": "106054bf",
   "metadata": {},
   "source": [
    "### Larger samples (n≥30)"
   ]
  },
  {
   "cell_type": "markdown",
   "id": "7da3de4a",
   "metadata": {},
   "source": [
    "If we’re working with larger samples (n≥30), we can assume that the sampling distribution of the sample mean is normally distributed (thanks to the Central Limit Theorem) and can instead use the norm.interval() function from the scipy.stats library."
   ]
  },
  {
   "cell_type": "code",
   "execution_count": 59,
   "id": "3022ced8",
   "metadata": {},
   "outputs": [],
   "source": [
    "# We use data from all 52 provinces\n",
    "data = df_cars_brand['VOLKSWAGEN']"
   ]
  },
  {
   "cell_type": "code",
   "execution_count": 60,
   "id": "6500c369",
   "metadata": {},
   "outputs": [
    {
     "data": {
      "text/plain": [
       "count       52.000000\n",
       "mean      1503.980769\n",
       "std       4019.365141\n",
       "min         10.000000\n",
       "25%        286.750000\n",
       "50%        603.500000\n",
       "75%       1160.250000\n",
       "max      28353.000000\n",
       "Name: VOLKSWAGEN, dtype: float64"
      ]
     },
     "execution_count": 60,
     "metadata": {},
     "output_type": "execute_result"
    }
   ],
   "source": [
    "data.describe()"
   ]
  },
  {
   "cell_type": "code",
   "execution_count": 61,
   "id": "f6e57fa9",
   "metadata": {},
   "outputs": [
    {
     "data": {
      "text/plain": [
       "(411.52495384248823, 2596.4365846190503)"
      ]
     },
     "execution_count": 61,
     "metadata": {},
     "output_type": "execute_result"
    }
   ],
   "source": [
    "# 95% confidence interval\n",
    "stats.norm.interval(alpha=0.95, loc=np.mean(data), scale=stats.sem(data))"
   ]
  },
  {
   "cell_type": "code",
   "execution_count": 48,
   "id": "97b9095b",
   "metadata": {},
   "outputs": [
    {
     "data": {
      "text/plain": [
       "(68.25045770165184, 2939.7110807598865)"
      ]
     },
     "execution_count": 48,
     "metadata": {},
     "output_type": "execute_result"
    }
   ],
   "source": [
    "# 99% confidence interval\n",
    "stats.norm.interval(alpha=0.99, loc=np.mean(data), scale=stats.sem(data))"
   ]
  },
  {
   "cell_type": "code",
   "execution_count": null,
   "id": "3e7137e9",
   "metadata": {},
   "outputs": [],
   "source": []
  }
 ],
 "metadata": {
  "kernelspec": {
   "display_name": "Python 3",
   "language": "python",
   "name": "python3"
  },
  "language_info": {
   "codemirror_mode": {
    "name": "ipython",
    "version": 3
   },
   "file_extension": ".py",
   "mimetype": "text/x-python",
   "name": "python",
   "nbconvert_exporter": "python",
   "pygments_lexer": "ipython3",
   "version": "3.7.5"
  }
 },
 "nbformat": 4,
 "nbformat_minor": 5
}
