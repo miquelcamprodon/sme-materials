{
 "cells": [
  {
   "cell_type": "markdown",
   "id": "8d170aec",
   "metadata": {},
   "source": [
    "# Hypothesis Testing"
   ]
  },
  {
   "cell_type": "markdown",
   "id": "f41cf44d",
   "metadata": {},
   "source": [
    "We would like to know if the effects we see in the sample (observed data) are likely to occur in the population. \n",
    "\n",
    "The way classical hypothesis testing works is by conducting a statistical test to answer the following question:\n",
    "> Given the sample and an effect, what is the probability of seeing that effect just by chance?\n",
    "\n",
    "Here are the steps on how we would do this\n",
    "\n",
    "1. Compute test statistic\n",
    "2. Define null hypothesis\n",
    "3. Compute p-value\n",
    "4. Interpret the result\n",
    "\n",
    "If p-value is very low (most often than now, below 0.05), the effect is considered statistically significant. That means that effect is unlikely to have occured by chance. The inference? The effect is likely to be seen in the population too. \n",
    "\n",
    "This process is very similar to the *proof by contradiction* paradigm. We first assume that the effect is false. That's the null hypothesis. Next step is to compute the probability of obtaining that effect (the p-value). If p-value is very low (<0.05 as a rule of thumb), we reject the null hypothesis. "
   ]
  },
  {
   "cell_type": "markdown",
   "id": "f8a7c683",
   "metadata": {},
   "source": [
    "Recommended lecture:\n",
    "https://towardsdatascience.com/hypothesis-testing-in-machine-learning-using-python-a0dc89e169ce"
   ]
  },
  {
   "cell_type": "code",
   "execution_count": 1,
   "id": "0a4aaff5",
   "metadata": {},
   "outputs": [],
   "source": [
    "# Libraries\n",
    "import numpy as np\n",
    "import pandas as pd\n",
    "from datetime import datetime as dt\n",
    "from scipy import stats"
   ]
  },
  {
   "cell_type": "markdown",
   "id": "4c332e59",
   "metadata": {},
   "source": [
    "## Data preparation"
   ]
  },
  {
   "cell_type": "code",
   "execution_count": 2,
   "id": "eee23ce2",
   "metadata": {},
   "outputs": [],
   "source": [
    "# Read the input file\n",
    "# Data extracted from DGT (Direccion General de Trafico) statistics and indicators webpage\n",
    "# https://www.dgt.es/es/seguridad-vial/estadisticas-e-indicadores/matriculaciones-definitivas/tablas-estadisticas/\n",
    "df_cars_brand = pd.read_csv('data/matriculacions_turismes_2020.txt',sep='\\t',encoding='latin-1')"
   ]
  },
  {
   "cell_type": "code",
   "execution_count": 3,
   "id": "7402657d",
   "metadata": {},
   "outputs": [
    {
     "data": {
      "text/html": [
       "<div>\n",
       "<style scoped>\n",
       "    .dataframe tbody tr th:only-of-type {\n",
       "        vertical-align: middle;\n",
       "    }\n",
       "\n",
       "    .dataframe tbody tr th {\n",
       "        vertical-align: top;\n",
       "    }\n",
       "\n",
       "    .dataframe thead th {\n",
       "        text-align: right;\n",
       "    }\n",
       "</style>\n",
       "<table border=\"1\" class=\"dataframe\">\n",
       "  <thead>\n",
       "    <tr style=\"text-align: right;\">\n",
       "      <th></th>\n",
       "      <th>PROVINCIAS</th>\n",
       "      <th>A_BRUNS_LINDER</th>\n",
       "      <th>A.M.C.</th>\n",
       "      <th>AC_CARS</th>\n",
       "      <th>ACURA</th>\n",
       "      <th>ADRIA</th>\n",
       "      <th>ALFA_ROMEO</th>\n",
       "      <th>ALLIED_VEHICLES_LTD</th>\n",
       "      <th>ALPINA</th>\n",
       "      <th>ALPINE</th>\n",
       "      <th>...</th>\n",
       "      <th>VOLKNER</th>\n",
       "      <th>VOLKSWAGEN</th>\n",
       "      <th>VOLKSWAGEN_AG</th>\n",
       "      <th>VOLKSWAGEN_V_W</th>\n",
       "      <th>VOLVO</th>\n",
       "      <th>VW-PORSCHE</th>\n",
       "      <th>WESTFIELD</th>\n",
       "      <th>WIESMANN</th>\n",
       "      <th>WILLYS_OVERLAND</th>\n",
       "      <th>WILLYS_VIASA</th>\n",
       "    </tr>\n",
       "  </thead>\n",
       "  <tbody>\n",
       "    <tr>\n",
       "      <th>0</th>\n",
       "      <td>Araba/Álava</td>\n",
       "      <td>0</td>\n",
       "      <td>0</td>\n",
       "      <td>0</td>\n",
       "      <td>0</td>\n",
       "      <td>0</td>\n",
       "      <td>10</td>\n",
       "      <td>0</td>\n",
       "      <td>0</td>\n",
       "      <td>0</td>\n",
       "      <td>...</td>\n",
       "      <td>0</td>\n",
       "      <td>289</td>\n",
       "      <td>0</td>\n",
       "      <td>18</td>\n",
       "      <td>157</td>\n",
       "      <td>0</td>\n",
       "      <td>0</td>\n",
       "      <td>0</td>\n",
       "      <td>0</td>\n",
       "      <td>0</td>\n",
       "    </tr>\n",
       "    <tr>\n",
       "      <th>1</th>\n",
       "      <td>Albacete</td>\n",
       "      <td>0</td>\n",
       "      <td>0</td>\n",
       "      <td>0</td>\n",
       "      <td>0</td>\n",
       "      <td>0</td>\n",
       "      <td>142</td>\n",
       "      <td>0</td>\n",
       "      <td>0</td>\n",
       "      <td>0</td>\n",
       "      <td>...</td>\n",
       "      <td>0</td>\n",
       "      <td>442</td>\n",
       "      <td>0</td>\n",
       "      <td>9</td>\n",
       "      <td>98</td>\n",
       "      <td>0</td>\n",
       "      <td>0</td>\n",
       "      <td>0</td>\n",
       "      <td>0</td>\n",
       "      <td>0</td>\n",
       "    </tr>\n",
       "    <tr>\n",
       "      <th>2</th>\n",
       "      <td>Alicante/Alacant</td>\n",
       "      <td>0</td>\n",
       "      <td>0</td>\n",
       "      <td>0</td>\n",
       "      <td>1</td>\n",
       "      <td>1</td>\n",
       "      <td>58</td>\n",
       "      <td>0</td>\n",
       "      <td>0</td>\n",
       "      <td>0</td>\n",
       "      <td>...</td>\n",
       "      <td>0</td>\n",
       "      <td>2439</td>\n",
       "      <td>0</td>\n",
       "      <td>9</td>\n",
       "      <td>298</td>\n",
       "      <td>0</td>\n",
       "      <td>0</td>\n",
       "      <td>0</td>\n",
       "      <td>0</td>\n",
       "      <td>0</td>\n",
       "    </tr>\n",
       "    <tr>\n",
       "      <th>3</th>\n",
       "      <td>Almería</td>\n",
       "      <td>0</td>\n",
       "      <td>0</td>\n",
       "      <td>0</td>\n",
       "      <td>0</td>\n",
       "      <td>0</td>\n",
       "      <td>6</td>\n",
       "      <td>0</td>\n",
       "      <td>0</td>\n",
       "      <td>0</td>\n",
       "      <td>...</td>\n",
       "      <td>1</td>\n",
       "      <td>733</td>\n",
       "      <td>2</td>\n",
       "      <td>35</td>\n",
       "      <td>150</td>\n",
       "      <td>0</td>\n",
       "      <td>0</td>\n",
       "      <td>0</td>\n",
       "      <td>0</td>\n",
       "      <td>0</td>\n",
       "    </tr>\n",
       "    <tr>\n",
       "      <th>4</th>\n",
       "      <td>Ávila</td>\n",
       "      <td>0</td>\n",
       "      <td>0</td>\n",
       "      <td>0</td>\n",
       "      <td>0</td>\n",
       "      <td>0</td>\n",
       "      <td>24</td>\n",
       "      <td>0</td>\n",
       "      <td>0</td>\n",
       "      <td>0</td>\n",
       "      <td>...</td>\n",
       "      <td>0</td>\n",
       "      <td>10</td>\n",
       "      <td>0</td>\n",
       "      <td>1</td>\n",
       "      <td>77</td>\n",
       "      <td>0</td>\n",
       "      <td>0</td>\n",
       "      <td>0</td>\n",
       "      <td>0</td>\n",
       "      <td>0</td>\n",
       "    </tr>\n",
       "  </tbody>\n",
       "</table>\n",
       "<p>5 rows × 202 columns</p>\n",
       "</div>"
      ],
      "text/plain": [
       "         PROVINCIAS  A_BRUNS_LINDER  A.M.C.  AC_CARS  ACURA  ADRIA  \\\n",
       "0       Araba/Álava               0       0        0      0      0   \n",
       "1          Albacete               0       0        0      0      0   \n",
       "2  Alicante/Alacant               0       0        0      1      1   \n",
       "3           Almería               0       0        0      0      0   \n",
       "4             Ávila               0       0        0      0      0   \n",
       "\n",
       "   ALFA_ROMEO  ALLIED_VEHICLES_LTD  ALPINA  ALPINE  ...  VOLKNER  VOLKSWAGEN  \\\n",
       "0          10                    0       0       0  ...        0         289   \n",
       "1         142                    0       0       0  ...        0         442   \n",
       "2          58                    0       0       0  ...        0        2439   \n",
       "3           6                    0       0       0  ...        1         733   \n",
       "4          24                    0       0       0  ...        0          10   \n",
       "\n",
       "   VOLKSWAGEN_AG  VOLKSWAGEN_V_W  VOLVO  VW-PORSCHE  WESTFIELD  WIESMANN  \\\n",
       "0              0              18    157           0          0         0   \n",
       "1              0               9     98           0          0         0   \n",
       "2              0               9    298           0          0         0   \n",
       "3              2              35    150           0          0         0   \n",
       "4              0               1     77           0          0         0   \n",
       "\n",
       "   WILLYS_OVERLAND  WILLYS_VIASA  \n",
       "0                0             0  \n",
       "1                0             0  \n",
       "2                0             0  \n",
       "3                0             0  \n",
       "4                0             0  \n",
       "\n",
       "[5 rows x 202 columns]"
      ]
     },
     "execution_count": 3,
     "metadata": {},
     "output_type": "execute_result"
    }
   ],
   "source": [
    "df_cars_brand.head()"
   ]
  },
  {
   "cell_type": "markdown",
   "id": "27571b1e",
   "metadata": {},
   "source": [
    "## Hypothesis testing"
   ]
  },
  {
   "cell_type": "markdown",
   "id": "56fca6c2",
   "metadata": {},
   "source": [
    "### One sample t-test"
   ]
  },
  {
   "cell_type": "markdown",
   "id": "f4b3d64b",
   "metadata": {},
   "source": [
    "The One Sample t Test determines whether the sample mean is statistically different from a known or hypothesised population mean. The One Sample t Test is a parametric test."
   ]
  },
  {
   "cell_type": "markdown",
   "id": "1dc94f12",
   "metadata": {},
   "source": [
    "- H0: average sales is = 0\n",
    "- H1: average sales is <> 0"
   ]
  },
  {
   "cell_type": "code",
   "execution_count": 5,
   "id": "469fd29f",
   "metadata": {},
   "outputs": [],
   "source": [
    "# We use data from sales of a brand in all provinces\n",
    "data = df_cars_brand[df_cars_brand['PROVINCIAS']<='Lleida']['ADRIA']\n",
    "#data = df_cars_brand[df_cars_brand['PROVINCIAS']<='Lleida']['VOLKSWAGEN']"
   ]
  },
  {
   "cell_type": "code",
   "execution_count": 6,
   "id": "1c80e9da",
   "metadata": {},
   "outputs": [
    {
     "data": {
      "text/plain": [
       "count    28.000000\n",
       "mean      0.285714\n",
       "std       1.329359\n",
       "min       0.000000\n",
       "25%       0.000000\n",
       "50%       0.000000\n",
       "75%       0.000000\n",
       "max       7.000000\n",
       "Name: ADRIA, dtype: float64"
      ]
     },
     "execution_count": 6,
     "metadata": {},
     "output_type": "execute_result"
    }
   ],
   "source": [
    "data.describe()"
   ]
  },
  {
   "cell_type": "code",
   "execution_count": 7,
   "id": "eb17360a",
   "metadata": {},
   "outputs": [
    {
     "name": "stdout",
     "output_type": "stream",
     "text": [
      "0     0\n",
      "1     0\n",
      "2     1\n",
      "3     0\n",
      "5     0\n",
      "6     0\n",
      "7     7\n",
      "8     0\n",
      "9     0\n",
      "10    0\n",
      "11    0\n",
      "12    0\n",
      "13    0\n",
      "14    0\n",
      "15    0\n",
      "16    0\n",
      "17    0\n",
      "18    0\n",
      "19    0\n",
      "20    0\n",
      "21    0\n",
      "22    0\n",
      "23    0\n",
      "24    0\n",
      "32    0\n",
      "38    0\n",
      "47    0\n",
      "50    0\n",
      "Name: ADRIA, dtype: int64\n",
      "0.2857142857142857\n",
      "p-values 0.2654124768964152\n",
      "We don't reject null hypothesis with confidence 0.95\n"
     ]
    }
   ],
   "source": [
    "print(data)\n",
    "data_mean = np.mean(data)\n",
    "print(data_mean)\n",
    "tset, pval = stats.ttest_1samp(data, 0)\n",
    "print(\"p-values\",pval)\n",
    "alpha = 0.05\n",
    "\n",
    "if pval < alpha:    # alpha value is 0.05 or 5%\n",
    "    print(\"We reject null hypothesis with confidence {}\".format(1-alpha))\n",
    "else:\n",
    "    print(\"We don't reject null hypothesis with confidence {}\".format(1-alpha))"
   ]
  },
  {
   "cell_type": "markdown",
   "id": "55a7420e",
   "metadata": {},
   "source": [
    "### Two sampled t-test"
   ]
  },
  {
   "cell_type": "markdown",
   "id": "32d727ca",
   "metadata": {},
   "source": [
    "Two sampled T-test :-The Independent Samples t Test or 2-sample t-test compares the means of two independent groups in order to determine whether there is statistical evidence that the associated population means are significantly different. The Independent Samples t Test is a parametric test. This test is also known as: Independent t Test."
   ]
  },
  {
   "cell_type": "markdown",
   "id": "c9aebc51",
   "metadata": {},
   "source": [
    "- H0: average sales of brand 1 = average sales of brand 2\n",
    "- H1: average sales of brand 1 <> average sales of brand 2"
   ]
  },
  {
   "cell_type": "code",
   "execution_count": 17,
   "id": "7954fb51",
   "metadata": {},
   "outputs": [],
   "source": [
    "# We use data from all 52 provinces\n",
    "data1 = df_cars_brand['VOLVO']\n",
    "data2 = df_cars_brand['ALFA_ROMEO']"
   ]
  },
  {
   "cell_type": "code",
   "execution_count": 13,
   "id": "7861ca07",
   "metadata": {},
   "outputs": [
    {
     "name": "stdout",
     "output_type": "stream",
     "text": [
      "count     28.000000\n",
      "mean     147.678571\n",
      "std      132.239696\n",
      "min        6.000000\n",
      "25%       73.500000\n",
      "50%      114.500000\n",
      "75%      191.250000\n",
      "max      629.000000\n",
      "Name: VOLVO, dtype: float64\n",
      "count     52.000000\n",
      "mean      56.019231\n",
      "std      139.562832\n",
      "min        0.000000\n",
      "25%        2.000000\n",
      "50%       17.500000\n",
      "75%       33.500000\n",
      "max      881.000000\n",
      "Name: ALFA_ROMEO, dtype: float64\n"
     ]
    }
   ],
   "source": [
    "print(data1.describe())\n",
    "print(data2.describe())"
   ]
  },
  {
   "cell_type": "code",
   "execution_count": 14,
   "id": "c87a431a",
   "metadata": {},
   "outputs": [
    {
     "name": "stdout",
     "output_type": "stream",
     "text": [
      "p-value 0.005546748269408945\n",
      "We reject null hypothesis with confidence 0.95\n"
     ]
    }
   ],
   "source": [
    "ttest,pval = stats.ttest_ind(data1,data2)\n",
    "print(\"p-value\",pval)\n",
    "alpha = 0.05\n",
    "\n",
    "if pval < alpha:    # alpha value is 0.05 or 5%\n",
    "    print(\"We reject null hypothesis with confidence {}\".format(1-alpha))\n",
    "else:\n",
    "    print(\"We don't reject null hypothesis with confidence {}\".format(1-alpha))"
   ]
  },
  {
   "cell_type": "markdown",
   "id": "93568d4b",
   "metadata": {},
   "source": [
    "### Paired sampled t-test"
   ]
  },
  {
   "cell_type": "markdown",
   "id": "039b2e75",
   "metadata": {},
   "source": [
    "The paired sample t-test is also called dependent sample t-test. It’s an uni variate test that tests for a significant difference between 2 related variables. An example of this is if you where to collect the blood pressure for an individual before and after some treatment, condition, or time point."
   ]
  },
  {
   "cell_type": "markdown",
   "id": "8c0ddbb2",
   "metadata": {},
   "source": [
    "- H0: mean difference between two samples is 0\n",
    "- H1: mean difference between two samples is not 0"
   ]
  },
  {
   "cell_type": "code",
   "execution_count": 19,
   "id": "d49578f2",
   "metadata": {},
   "outputs": [
    {
     "name": "stdout",
     "output_type": "stream",
     "text": [
      "236.40384615384616\n",
      "56.01923076923077\n"
     ]
    }
   ],
   "source": [
    "# We use data from all 52 provinces\n",
    "data1 = df_cars_brand['VOLVO']\n",
    "data2 = df_cars_brand['ALFA_ROMEO']\n",
    "print(data1.mean())\n",
    "print(data2.mean())"
   ]
  },
  {
   "cell_type": "code",
   "execution_count": 20,
   "id": "e487e4be",
   "metadata": {},
   "outputs": [
    {
     "name": "stdout",
     "output_type": "stream",
     "text": [
      "0.03358221107201263\n",
      "We reject null hypothesis with confidence 0.95\n"
     ]
    }
   ],
   "source": [
    "ttest,pval = stats.ttest_rel(data1, data2)\n",
    "print(pval)\n",
    "alpha = 0.05\n",
    "\n",
    "if pval < alpha:    # alpha value is 0.05 or 5%\n",
    "    print(\"We reject null hypothesis with confidence {}\".format(1-alpha))\n",
    "else:\n",
    "    print(\"We don't reject null hypothesis with confidence {}\".format(1-alpha))"
   ]
  },
  {
   "cell_type": "code",
   "execution_count": 22,
   "id": "b2964d68",
   "metadata": {},
   "outputs": [
    {
     "ename": "ValueError",
     "evalue": "unequal length arrays",
     "output_type": "error",
     "traceback": [
      "\u001b[0;31m---------------------------------------------------------------------------\u001b[0m",
      "\u001b[0;31mValueError\u001b[0m                                Traceback (most recent call last)",
      "\u001b[0;32m<ipython-input-22-5842815e9e22>\u001b[0m in \u001b[0;36m<module>\u001b[0;34m\u001b[0m\n\u001b[1;32m      3\u001b[0m \u001b[0mdata2\u001b[0m \u001b[0;34m=\u001b[0m \u001b[0mdf_cars_brand\u001b[0m\u001b[0;34m[\u001b[0m\u001b[0;34m'ALFA_ROMEO'\u001b[0m\u001b[0;34m]\u001b[0m\u001b[0;34m\u001b[0m\u001b[0;34m\u001b[0m\u001b[0m\n\u001b[1;32m      4\u001b[0m \u001b[0;34m\u001b[0m\u001b[0m\n\u001b[0;32m----> 5\u001b[0;31m \u001b[0mttest\u001b[0m\u001b[0;34m,\u001b[0m\u001b[0mpval\u001b[0m \u001b[0;34m=\u001b[0m \u001b[0mstats\u001b[0m\u001b[0;34m.\u001b[0m\u001b[0mttest_rel\u001b[0m\u001b[0;34m(\u001b[0m\u001b[0mdata1\u001b[0m\u001b[0;34m,\u001b[0m \u001b[0mdata2\u001b[0m\u001b[0;34m)\u001b[0m\u001b[0;34m\u001b[0m\u001b[0;34m\u001b[0m\u001b[0m\n\u001b[0m\u001b[1;32m      6\u001b[0m \u001b[0mprint\u001b[0m\u001b[0;34m(\u001b[0m\u001b[0mpval\u001b[0m\u001b[0;34m)\u001b[0m\u001b[0;34m\u001b[0m\u001b[0;34m\u001b[0m\u001b[0m\n\u001b[1;32m      7\u001b[0m \u001b[0malpha\u001b[0m \u001b[0;34m=\u001b[0m \u001b[0;36m0.05\u001b[0m\u001b[0;34m\u001b[0m\u001b[0;34m\u001b[0m\u001b[0m\n",
      "\u001b[0;32m~/anaconda3/envs/bpenv37/lib/python3.7/site-packages/scipy/stats/stats.py\u001b[0m in \u001b[0;36mttest_rel\u001b[0;34m(a, b, axis, nan_policy, alternative)\u001b[0m\n\u001b[1;32m   5889\u001b[0m     \u001b[0mnb\u001b[0m \u001b[0;34m=\u001b[0m \u001b[0m_get_len\u001b[0m\u001b[0;34m(\u001b[0m\u001b[0mb\u001b[0m\u001b[0;34m,\u001b[0m \u001b[0maxis\u001b[0m\u001b[0;34m,\u001b[0m \u001b[0;34m\"second argument\"\u001b[0m\u001b[0;34m)\u001b[0m\u001b[0;34m\u001b[0m\u001b[0;34m\u001b[0m\u001b[0m\n\u001b[1;32m   5890\u001b[0m     \u001b[0;32mif\u001b[0m \u001b[0mna\u001b[0m \u001b[0;34m!=\u001b[0m \u001b[0mnb\u001b[0m\u001b[0;34m:\u001b[0m\u001b[0;34m\u001b[0m\u001b[0;34m\u001b[0m\u001b[0m\n\u001b[0;32m-> 5891\u001b[0;31m         \u001b[0;32mraise\u001b[0m \u001b[0mValueError\u001b[0m\u001b[0;34m(\u001b[0m\u001b[0;34m'unequal length arrays'\u001b[0m\u001b[0;34m)\u001b[0m\u001b[0;34m\u001b[0m\u001b[0;34m\u001b[0m\u001b[0m\n\u001b[0m\u001b[1;32m   5892\u001b[0m \u001b[0;34m\u001b[0m\u001b[0m\n\u001b[1;32m   5893\u001b[0m     \u001b[0;32mif\u001b[0m \u001b[0mna\u001b[0m \u001b[0;34m==\u001b[0m \u001b[0;36m0\u001b[0m\u001b[0;34m:\u001b[0m\u001b[0;34m\u001b[0m\u001b[0;34m\u001b[0m\u001b[0m\n",
      "\u001b[0;31mValueError\u001b[0m: unequal length arrays"
     ]
    }
   ],
   "source": [
    "# Note: paired two sampled test needs data from the two samples to be of the same length\n",
    "data1 = df_cars_brand[df_cars_brand['PROVINCIAS']<='Lleida']['VOLVO']\n",
    "data2 = df_cars_brand['ALFA_ROMEO']\n",
    "\n",
    "ttest,pval = stats.ttest_rel(data1, data2)\n",
    "print(pval)\n",
    "alpha = 0.05\n",
    "\n",
    "if pval < alpha:    # alpha value is 0.05 or 5%\n",
    "    print(\"We reject null hypothesis with confidence {}\".format(1-alpha))\n",
    "else:\n",
    "    print(\"We don't reject null hypothesis with confidence {}\".format(1-alpha))"
   ]
  },
  {
   "cell_type": "markdown",
   "id": "d534c0ac",
   "metadata": {},
   "source": [
    "## Exercises"
   ]
  },
  {
   "cell_type": "markdown",
   "id": "690d4a99",
   "metadata": {},
   "source": [
    "- How does the parameter alpha affect the results?\n",
    "\n",
    "- One sample t-test\n",
    "  * Find a brand for which the one sample test with 95% confidence gives a negative result (H0 cannot be discarded)\n",
    "  * Find a brand for which the one sample test with 95% confidence gives a positive result (H0 is discarded)\n",
    "  * Perform a one sample one sided t-test. Hint: look at the documentation of the function at https://docs.scipy.org/doc/scipy/reference/generated/scipy.stats.ttest_1samp.html\n",
    "  \n",
    "- Two sample t-test\n",
    "  * Find two brands for which the two sample t-test with 95% confidence gives a negative result (equality of means cannot be discarded)\n",
    "  * Find two brands for which the two sample t-test with 95% confidence gives a positive result (equality of means is discarded)\n",
    "\n",
    "- Paired two sample t-test\n",
    "  * Find two brands for which the paired two sample t-test with 95% confidence gives a negative result (equality of means cannot be discarded)\n",
    "  * Find two brands for which the paired two sample t-test with 95% confidence gives a positive result (equality of means is discarded)\n",
    "  \n",
    "- Two sample t-test and paired sampled t-test\n",
    "  * Which are the differences between the two sample test and the paired two sample test? \n",
    "  * Which one is more accurate?\n",
    "  * Which one would you choose if possible?\n",
    "  * Find two brands for which the two tests give the same result when comparing equality of means\n",
    "  * Find two brands for which the two tests give a different result when comparing equality of means\n",
    "  "
   ]
  }
 ],
 "metadata": {
  "kernelspec": {
   "display_name": "Python 3",
   "language": "python",
   "name": "python3"
  },
  "language_info": {
   "codemirror_mode": {
    "name": "ipython",
    "version": 3
   },
   "file_extension": ".py",
   "mimetype": "text/x-python",
   "name": "python",
   "nbconvert_exporter": "python",
   "pygments_lexer": "ipython3",
   "version": "3.7.5"
  }
 },
 "nbformat": 4,
 "nbformat_minor": 5
}
