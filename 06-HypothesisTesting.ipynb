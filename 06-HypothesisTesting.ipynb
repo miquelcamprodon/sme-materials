{
 "cells": [
  {
   "cell_type": "markdown",
   "id": "3979993c",
   "metadata": {},
   "source": [
    "# Hypothesis Testing"
   ]
  },
  {
   "cell_type": "markdown",
   "id": "6c69bd56",
   "metadata": {},
   "source": [
    "We would like to know if the effects we see in the sample (observed data) are likely to occur in the population. \n",
    "\n",
    "The way classical hypothesis testing works is by conducting a statistical test to answer the following question:\n",
    "> Given the sample and an effect, what is the probability of seeing that effect just by chance?\n",
    "\n",
    "Here are the steps on how we would do this\n",
    "\n",
    "1. Compute test statistic\n",
    "2. Define null hypothesis\n",
    "3. Compute p-value\n",
    "4. Interpret the result\n",
    "\n",
    "If p-value is very low (most often than now, below 0.05), the effect is considered statistically significant. That means that effect is unlikely to have occured by chance. The inference? The effect is likely to be seen in the population too. \n",
    "\n",
    "This process is very similar to the *proof by contradiction* paradigm. We first assume that the effect is false. That's the null hypothesis. Next step is to compute the probability of obtaining that effect (the p-value). If p-value is very low (<0.05 as a rule of thumb), we reject the null hypothesis. "
   ]
  },
  {
   "cell_type": "markdown",
   "id": "e49e767c",
   "metadata": {},
   "source": [
    "Recommended lecture:\n",
    "https://towardsdatascience.com/hypothesis-testing-in-machine-learning-using-python-a0dc89e169ce"
   ]
  },
  {
   "cell_type": "code",
   "execution_count": 2,
   "id": "b249dc87",
   "metadata": {},
   "outputs": [],
   "source": [
    "# Libraries\n",
    "import numpy as np\n",
    "import pandas as pd\n",
    "from datetime import datetime as dt\n",
    "from scipy import stats"
   ]
  },
  {
   "cell_type": "markdown",
   "id": "99a7cc0c",
   "metadata": {},
   "source": [
    "## Data preparation"
   ]
  },
  {
   "cell_type": "code",
   "execution_count": 3,
   "id": "69c91083",
   "metadata": {},
   "outputs": [],
   "source": [
    "# Read the input file\n",
    "# Data extracted from DGT (Direccion General de Trafico) statistics and indicators webpage\n",
    "# https://www.dgt.es/es/seguridad-vial/estadisticas-e-indicadores/matriculaciones-definitivas/tablas-estadisticas/\n",
    "df_cars_brand = pd.read_csv('data/matriculacions_turismes_2020.txt',sep='\\t',encoding='latin-1')"
   ]
  },
  {
   "cell_type": "code",
   "execution_count": 4,
   "id": "cbc21540",
   "metadata": {},
   "outputs": [
    {
     "data": {
      "text/html": [
       "<div>\n",
       "<style scoped>\n",
       "    .dataframe tbody tr th:only-of-type {\n",
       "        vertical-align: middle;\n",
       "    }\n",
       "\n",
       "    .dataframe tbody tr th {\n",
       "        vertical-align: top;\n",
       "    }\n",
       "\n",
       "    .dataframe thead th {\n",
       "        text-align: right;\n",
       "    }\n",
       "</style>\n",
       "<table border=\"1\" class=\"dataframe\">\n",
       "  <thead>\n",
       "    <tr style=\"text-align: right;\">\n",
       "      <th></th>\n",
       "      <th>PROVINCIAS</th>\n",
       "      <th>A_BRUNS_LINDER</th>\n",
       "      <th>A.M.C.</th>\n",
       "      <th>AC_CARS</th>\n",
       "      <th>ACURA</th>\n",
       "      <th>ADRIA</th>\n",
       "      <th>ALFA_ROMEO</th>\n",
       "      <th>ALLIED_VEHICLES_LTD</th>\n",
       "      <th>ALPINA</th>\n",
       "      <th>ALPINE</th>\n",
       "      <th>...</th>\n",
       "      <th>VOLKNER</th>\n",
       "      <th>VOLKSWAGEN</th>\n",
       "      <th>VOLKSWAGEN_AG</th>\n",
       "      <th>VOLKSWAGEN_V_W</th>\n",
       "      <th>VOLVO</th>\n",
       "      <th>VW-PORSCHE</th>\n",
       "      <th>WESTFIELD</th>\n",
       "      <th>WIESMANN</th>\n",
       "      <th>WILLYS_OVERLAND</th>\n",
       "      <th>WILLYS_VIASA</th>\n",
       "    </tr>\n",
       "  </thead>\n",
       "  <tbody>\n",
       "    <tr>\n",
       "      <th>0</th>\n",
       "      <td>Araba/Álava</td>\n",
       "      <td>0</td>\n",
       "      <td>0</td>\n",
       "      <td>0</td>\n",
       "      <td>0</td>\n",
       "      <td>0</td>\n",
       "      <td>10</td>\n",
       "      <td>0</td>\n",
       "      <td>0</td>\n",
       "      <td>0</td>\n",
       "      <td>...</td>\n",
       "      <td>0</td>\n",
       "      <td>289</td>\n",
       "      <td>0</td>\n",
       "      <td>18</td>\n",
       "      <td>157</td>\n",
       "      <td>0</td>\n",
       "      <td>0</td>\n",
       "      <td>0</td>\n",
       "      <td>0</td>\n",
       "      <td>0</td>\n",
       "    </tr>\n",
       "    <tr>\n",
       "      <th>1</th>\n",
       "      <td>Albacete</td>\n",
       "      <td>0</td>\n",
       "      <td>0</td>\n",
       "      <td>0</td>\n",
       "      <td>0</td>\n",
       "      <td>0</td>\n",
       "      <td>142</td>\n",
       "      <td>0</td>\n",
       "      <td>0</td>\n",
       "      <td>0</td>\n",
       "      <td>...</td>\n",
       "      <td>0</td>\n",
       "      <td>442</td>\n",
       "      <td>0</td>\n",
       "      <td>9</td>\n",
       "      <td>98</td>\n",
       "      <td>0</td>\n",
       "      <td>0</td>\n",
       "      <td>0</td>\n",
       "      <td>0</td>\n",
       "      <td>0</td>\n",
       "    </tr>\n",
       "    <tr>\n",
       "      <th>2</th>\n",
       "      <td>Alicante/Alacant</td>\n",
       "      <td>0</td>\n",
       "      <td>0</td>\n",
       "      <td>0</td>\n",
       "      <td>1</td>\n",
       "      <td>1</td>\n",
       "      <td>58</td>\n",
       "      <td>0</td>\n",
       "      <td>0</td>\n",
       "      <td>0</td>\n",
       "      <td>...</td>\n",
       "      <td>0</td>\n",
       "      <td>2439</td>\n",
       "      <td>0</td>\n",
       "      <td>9</td>\n",
       "      <td>298</td>\n",
       "      <td>0</td>\n",
       "      <td>0</td>\n",
       "      <td>0</td>\n",
       "      <td>0</td>\n",
       "      <td>0</td>\n",
       "    </tr>\n",
       "    <tr>\n",
       "      <th>3</th>\n",
       "      <td>Almería</td>\n",
       "      <td>0</td>\n",
       "      <td>0</td>\n",
       "      <td>0</td>\n",
       "      <td>0</td>\n",
       "      <td>0</td>\n",
       "      <td>6</td>\n",
       "      <td>0</td>\n",
       "      <td>0</td>\n",
       "      <td>0</td>\n",
       "      <td>...</td>\n",
       "      <td>1</td>\n",
       "      <td>733</td>\n",
       "      <td>2</td>\n",
       "      <td>35</td>\n",
       "      <td>150</td>\n",
       "      <td>0</td>\n",
       "      <td>0</td>\n",
       "      <td>0</td>\n",
       "      <td>0</td>\n",
       "      <td>0</td>\n",
       "    </tr>\n",
       "    <tr>\n",
       "      <th>4</th>\n",
       "      <td>Ávila</td>\n",
       "      <td>0</td>\n",
       "      <td>0</td>\n",
       "      <td>0</td>\n",
       "      <td>0</td>\n",
       "      <td>0</td>\n",
       "      <td>24</td>\n",
       "      <td>0</td>\n",
       "      <td>0</td>\n",
       "      <td>0</td>\n",
       "      <td>...</td>\n",
       "      <td>0</td>\n",
       "      <td>10</td>\n",
       "      <td>0</td>\n",
       "      <td>1</td>\n",
       "      <td>77</td>\n",
       "      <td>0</td>\n",
       "      <td>0</td>\n",
       "      <td>0</td>\n",
       "      <td>0</td>\n",
       "      <td>0</td>\n",
       "    </tr>\n",
       "  </tbody>\n",
       "</table>\n",
       "<p>5 rows × 202 columns</p>\n",
       "</div>"
      ],
      "text/plain": [
       "         PROVINCIAS  A_BRUNS_LINDER  A.M.C.  AC_CARS  ACURA  ADRIA  \\\n",
       "0       Araba/Álava               0       0        0      0      0   \n",
       "1          Albacete               0       0        0      0      0   \n",
       "2  Alicante/Alacant               0       0        0      1      1   \n",
       "3           Almería               0       0        0      0      0   \n",
       "4             Ávila               0       0        0      0      0   \n",
       "\n",
       "   ALFA_ROMEO  ALLIED_VEHICLES_LTD  ALPINA  ALPINE  ...  VOLKNER  VOLKSWAGEN  \\\n",
       "0          10                    0       0       0  ...        0         289   \n",
       "1         142                    0       0       0  ...        0         442   \n",
       "2          58                    0       0       0  ...        0        2439   \n",
       "3           6                    0       0       0  ...        1         733   \n",
       "4          24                    0       0       0  ...        0          10   \n",
       "\n",
       "   VOLKSWAGEN_AG  VOLKSWAGEN_V_W  VOLVO  VW-PORSCHE  WESTFIELD  WIESMANN  \\\n",
       "0              0              18    157           0          0         0   \n",
       "1              0               9     98           0          0         0   \n",
       "2              0               9    298           0          0         0   \n",
       "3              2              35    150           0          0         0   \n",
       "4              0               1     77           0          0         0   \n",
       "\n",
       "   WILLYS_OVERLAND  WILLYS_VIASA  \n",
       "0                0             0  \n",
       "1                0             0  \n",
       "2                0             0  \n",
       "3                0             0  \n",
       "4                0             0  \n",
       "\n",
       "[5 rows x 202 columns]"
      ]
     },
     "execution_count": 4,
     "metadata": {},
     "output_type": "execute_result"
    }
   ],
   "source": [
    "df_cars_brand.head()"
   ]
  },
  {
   "cell_type": "markdown",
   "id": "1eb92020",
   "metadata": {},
   "source": [
    "## Hypothesis testing"
   ]
  },
  {
   "cell_type": "markdown",
   "id": "dd8e7240",
   "metadata": {},
   "source": [
    "### One sample t-test"
   ]
  },
  {
   "cell_type": "markdown",
   "id": "2b53ab4b",
   "metadata": {},
   "source": [
    "The One Sample t Test determines whether the sample mean is statistically different from a known or hypothesised population mean. The One Sample t Test is a parametric test."
   ]
  },
  {
   "cell_type": "markdown",
   "id": "35c19917",
   "metadata": {},
   "source": [
    "- H0: average sales is = 0\n",
    "- H1: average sales is <> 0"
   ]
  },
  {
   "cell_type": "code",
   "execution_count": 5,
   "id": "b02bffbd",
   "metadata": {},
   "outputs": [],
   "source": [
    "# We use data from sales of a brand in all provinces\n",
    "data = df_cars_brand[df_cars_brand['PROVINCIAS']<='Lleida']['ADRIA']\n",
    "#data = df_cars_brand[df_cars_brand['PROVINCIAS']<='Lleida']['VOLKSWAGEN']"
   ]
  },
  {
   "cell_type": "code",
   "execution_count": 6,
   "id": "3f0dd384",
   "metadata": {},
   "outputs": [
    {
     "data": {
      "text/plain": [
       "count    28.000000\n",
       "mean      0.285714\n",
       "std       1.329359\n",
       "min       0.000000\n",
       "25%       0.000000\n",
       "50%       0.000000\n",
       "75%       0.000000\n",
       "max       7.000000\n",
       "Name: ADRIA, dtype: float64"
      ]
     },
     "execution_count": 6,
     "metadata": {},
     "output_type": "execute_result"
    }
   ],
   "source": [
    "data.describe()"
   ]
  },
  {
   "cell_type": "code",
   "execution_count": 7,
   "id": "239ffe91",
   "metadata": {},
   "outputs": [
    {
     "name": "stdout",
     "output_type": "stream",
     "text": [
      "0     0\n",
      "1     0\n",
      "2     1\n",
      "3     0\n",
      "5     0\n",
      "6     0\n",
      "7     7\n",
      "8     0\n",
      "9     0\n",
      "10    0\n",
      "11    0\n",
      "12    0\n",
      "13    0\n",
      "14    0\n",
      "15    0\n",
      "16    0\n",
      "17    0\n",
      "18    0\n",
      "19    0\n",
      "20    0\n",
      "21    0\n",
      "22    0\n",
      "23    0\n",
      "24    0\n",
      "32    0\n",
      "38    0\n",
      "47    0\n",
      "50    0\n",
      "Name: ADRIA, dtype: int64\n",
      "0.2857142857142857\n",
      "p-values 0.2654124768964152\n",
      "We don't reject null hypothesis with confidence 0.95\n"
     ]
    }
   ],
   "source": [
    "print(data)\n",
    "data_mean = np.mean(data)\n",
    "print(data_mean)\n",
    "tset, pval = stats.ttest_1samp(data, 0)\n",
    "print(\"p-values\",pval)\n",
    "alpha = 0.05\n",
    "\n",
    "if pval < alpha:    # alpha value is 0.05 or 5%\n",
    "    print(\"We reject null hypothesis with confidence {}\".format(1-alpha))\n",
    "else:\n",
    "    print(\"We don't reject null hypothesis with confidence {}\".format(1-alpha))"
   ]
  },
  {
   "cell_type": "markdown",
   "id": "a6c20cf5",
   "metadata": {},
   "source": [
    "### Two sampled t-test"
   ]
  },
  {
   "cell_type": "markdown",
   "id": "438d86ed",
   "metadata": {},
   "source": [
    "Two sampled T-test :-The Independent Samples t Test or 2-sample t-test compares the means of two independent groups in order to determine whether there is statistical evidence that the associated population means are significantly different. The Independent Samples t Test is a parametric test. This test is also known as: Independent t Test."
   ]
  },
  {
   "cell_type": "markdown",
   "id": "c837a137",
   "metadata": {},
   "source": [
    "- H0: average sales of brand 1 = average sales of brand 2\n",
    "- H1: average sales of brand 1 <> average sales of brand 2"
   ]
  },
  {
   "cell_type": "code",
   "execution_count": 8,
   "id": "8fe00af2",
   "metadata": {},
   "outputs": [],
   "source": [
    "# We use data from all 52 provinces\n",
    "data1 = df_cars_brand['VOLVO']\n",
    "data2 = df_cars_brand['ALFA_ROMEO']"
   ]
  },
  {
   "cell_type": "code",
   "execution_count": 9,
   "id": "c515e0bc",
   "metadata": {},
   "outputs": [
    {
     "name": "stdout",
     "output_type": "stream",
     "text": [
      "count      52.000000\n",
      "mean      236.403846\n",
      "std       714.574582\n",
      "min         0.000000\n",
      "25%        65.500000\n",
      "50%        99.500000\n",
      "75%       165.500000\n",
      "max      5204.000000\n",
      "Name: VOLVO, dtype: float64\n",
      "count     52.000000\n",
      "mean      56.019231\n",
      "std      139.562832\n",
      "min        0.000000\n",
      "25%        2.000000\n",
      "50%       17.500000\n",
      "75%       33.500000\n",
      "max      881.000000\n",
      "Name: ALFA_ROMEO, dtype: float64\n"
     ]
    }
   ],
   "source": [
    "print(data1.describe())\n",
    "print(data2.describe())"
   ]
  },
  {
   "cell_type": "code",
   "execution_count": 10,
   "id": "829c66eb",
   "metadata": {},
   "outputs": [
    {
     "name": "stdout",
     "output_type": "stream",
     "text": [
      "p-value 0.07697490262545706\n",
      "We don't reject null hypothesis with confidence 0.95\n"
     ]
    }
   ],
   "source": [
    "ttest,pval = stats.ttest_ind(data1,data2)\n",
    "print(\"p-value\",pval)\n",
    "alpha = 0.05\n",
    "\n",
    "if pval < alpha:    # alpha value is 0.05 or 5%\n",
    "    print(\"We reject null hypothesis with confidence {}\".format(1-alpha))\n",
    "else:\n",
    "    print(\"We don't reject null hypothesis with confidence {}\".format(1-alpha))"
   ]
  },
  {
   "cell_type": "markdown",
   "id": "5076f531",
   "metadata": {},
   "source": [
    "### Paired sampled t-test"
   ]
  },
  {
   "cell_type": "markdown",
   "id": "2c8f7286",
   "metadata": {},
   "source": [
    "The paired sample t-test is also called dependent sample t-test. It’s an uni variate test that tests for a significant difference between 2 related variables. An example of this is if you where to collect the blood pressure for an individual before and after some treatment, condition, or time point."
   ]
  },
  {
   "cell_type": "markdown",
   "id": "d313ca5d",
   "metadata": {},
   "source": [
    "- H0: mean difference between two samples is 0\n",
    "- H1: mean difference between two samples is not 0"
   ]
  },
  {
   "cell_type": "code",
   "execution_count": 11,
   "id": "87946f7d",
   "metadata": {},
   "outputs": [
    {
     "name": "stdout",
     "output_type": "stream",
     "text": [
      "236.40384615384616\n",
      "56.01923076923077\n"
     ]
    }
   ],
   "source": [
    "# We use data from all 52 provinces\n",
    "data1 = df_cars_brand['VOLVO']\n",
    "data2 = df_cars_brand['ALFA_ROMEO']\n",
    "print(data1.mean())\n",
    "print(data2.mean())"
   ]
  },
  {
   "cell_type": "code",
   "execution_count": 12,
   "id": "3a861a99",
   "metadata": {},
   "outputs": [
    {
     "name": "stdout",
     "output_type": "stream",
     "text": [
      "0.03358221107201263\n",
      "We reject null hypothesis with confidence 0.95\n"
     ]
    }
   ],
   "source": [
    "ttest,pval = stats.ttest_rel(data1, data2)\n",
    "print(pval)\n",
    "alpha = 0.05\n",
    "\n",
    "if pval < alpha:    # alpha value is 0.05 or 5%\n",
    "    print(\"We reject null hypothesis with confidence {}\".format(1-alpha))\n",
    "else:\n",
    "    print(\"We don't reject null hypothesis with confidence {}\".format(1-alpha))"
   ]
  },
  {
   "cell_type": "code",
   "execution_count": 13,
   "id": "18e23a94",
   "metadata": {},
   "outputs": [
    {
     "ename": "ValueError",
     "evalue": "unequal length arrays",
     "output_type": "error",
     "traceback": [
      "\u001b[0;31m---------------------------------------------------------------------------\u001b[0m",
      "\u001b[0;31mValueError\u001b[0m                                Traceback (most recent call last)",
      "\u001b[0;32m<ipython-input-13-5842815e9e22>\u001b[0m in \u001b[0;36m<module>\u001b[0;34m\u001b[0m\n\u001b[1;32m      3\u001b[0m \u001b[0mdata2\u001b[0m \u001b[0;34m=\u001b[0m \u001b[0mdf_cars_brand\u001b[0m\u001b[0;34m[\u001b[0m\u001b[0;34m'ALFA_ROMEO'\u001b[0m\u001b[0;34m]\u001b[0m\u001b[0;34m\u001b[0m\u001b[0;34m\u001b[0m\u001b[0m\n\u001b[1;32m      4\u001b[0m \u001b[0;34m\u001b[0m\u001b[0m\n\u001b[0;32m----> 5\u001b[0;31m \u001b[0mttest\u001b[0m\u001b[0;34m,\u001b[0m\u001b[0mpval\u001b[0m \u001b[0;34m=\u001b[0m \u001b[0mstats\u001b[0m\u001b[0;34m.\u001b[0m\u001b[0mttest_rel\u001b[0m\u001b[0;34m(\u001b[0m\u001b[0mdata1\u001b[0m\u001b[0;34m,\u001b[0m \u001b[0mdata2\u001b[0m\u001b[0;34m)\u001b[0m\u001b[0;34m\u001b[0m\u001b[0;34m\u001b[0m\u001b[0m\n\u001b[0m\u001b[1;32m      6\u001b[0m \u001b[0mprint\u001b[0m\u001b[0;34m(\u001b[0m\u001b[0mpval\u001b[0m\u001b[0;34m)\u001b[0m\u001b[0;34m\u001b[0m\u001b[0;34m\u001b[0m\u001b[0m\n\u001b[1;32m      7\u001b[0m \u001b[0malpha\u001b[0m \u001b[0;34m=\u001b[0m \u001b[0;36m0.05\u001b[0m\u001b[0;34m\u001b[0m\u001b[0;34m\u001b[0m\u001b[0m\n",
      "\u001b[0;32m~/anaconda3/envs/bpenv37/lib/python3.7/site-packages/scipy/stats/stats.py\u001b[0m in \u001b[0;36mttest_rel\u001b[0;34m(a, b, axis, nan_policy, alternative)\u001b[0m\n\u001b[1;32m   5889\u001b[0m     \u001b[0mnb\u001b[0m \u001b[0;34m=\u001b[0m \u001b[0m_get_len\u001b[0m\u001b[0;34m(\u001b[0m\u001b[0mb\u001b[0m\u001b[0;34m,\u001b[0m \u001b[0maxis\u001b[0m\u001b[0;34m,\u001b[0m \u001b[0;34m\"second argument\"\u001b[0m\u001b[0;34m)\u001b[0m\u001b[0;34m\u001b[0m\u001b[0;34m\u001b[0m\u001b[0m\n\u001b[1;32m   5890\u001b[0m     \u001b[0;32mif\u001b[0m \u001b[0mna\u001b[0m \u001b[0;34m!=\u001b[0m \u001b[0mnb\u001b[0m\u001b[0;34m:\u001b[0m\u001b[0;34m\u001b[0m\u001b[0;34m\u001b[0m\u001b[0m\n\u001b[0;32m-> 5891\u001b[0;31m         \u001b[0;32mraise\u001b[0m \u001b[0mValueError\u001b[0m\u001b[0;34m(\u001b[0m\u001b[0;34m'unequal length arrays'\u001b[0m\u001b[0;34m)\u001b[0m\u001b[0;34m\u001b[0m\u001b[0;34m\u001b[0m\u001b[0m\n\u001b[0m\u001b[1;32m   5892\u001b[0m \u001b[0;34m\u001b[0m\u001b[0m\n\u001b[1;32m   5893\u001b[0m     \u001b[0;32mif\u001b[0m \u001b[0mna\u001b[0m \u001b[0;34m==\u001b[0m \u001b[0;36m0\u001b[0m\u001b[0;34m:\u001b[0m\u001b[0;34m\u001b[0m\u001b[0;34m\u001b[0m\u001b[0m\n",
      "\u001b[0;31mValueError\u001b[0m: unequal length arrays"
     ]
    }
   ],
   "source": [
    "# Note: paired two sampled test needs data from the two samples to be of the same length\n",
    "data1 = df_cars_brand[df_cars_brand['PROVINCIAS']<='Lleida']['VOLVO']\n",
    "data2 = df_cars_brand['ALFA_ROMEO']\n",
    "\n",
    "ttest,pval = stats.ttest_rel(data1, data2)\n",
    "print(pval)\n",
    "alpha = 0.05\n",
    "\n",
    "if pval < alpha:    # alpha value is 0.05 or 5%\n",
    "    print(\"We reject null hypothesis with confidence {}\".format(1-alpha))\n",
    "else:\n",
    "    print(\"We don't reject null hypothesis with confidence {}\".format(1-alpha))"
   ]
  },
  {
   "cell_type": "markdown",
   "id": "815e2dbe",
   "metadata": {},
   "source": [
    "## Exercises"
   ]
  },
  {
   "cell_type": "markdown",
   "id": "c969105b",
   "metadata": {},
   "source": [
    "- How does the parameter alpha affect the results?\n",
    "\n",
    "- One sample t-test\n",
    "  * Find a brand for which the one sample test with 95% cannot reject H0\n",
    "  * Find a brand for which the one sample test with 95% can reject H0\n",
    "  * Perform a one sample one sided t-test. Hint: look at the documentation of the function at https://docs.scipy.org/doc/scipy/reference/generated/scipy.stats.ttest_1samp.html\n",
    "  \n",
    "- Two sample t-test\n",
    "  * Find two brands for which the two sample t-test with 95% confidence cannot reject equality of means\n",
    "  * Find two brands for which the two sample t-test with 95% confidence can reject equality of means is discarded\n",
    "\n",
    "- Paired two sample t-test\n",
    "  * Find two brands for which the paired two sample t-test with 95% confidence cannot reject equality of means\n",
    "  * Find two brands for which the paired two sample t-test with 95% confidence can reject equality of means\n",
    "  \n",
    "- Two sample t-test and paired sampled t-test\n",
    "  * Which are the differences between the two sample test and the paired two sample test?\n",
    "  * Which one is more accurate?\n",
    "  * Which one would you choose if possible?\n",
    "  * Find two brands for which the two tests give the same result when comparing equality of means\n",
    "  * Find two brands for which the two tests give a different result when comparing equality of means\n",
    "  "
   ]
  },
  {
   "cell_type": "code",
   "execution_count": 20,
   "id": "27f0dc44",
   "metadata": {
    "scrolled": false
   },
   "outputs": [
    {
     "name": "stdout",
     "output_type": "stream",
     "text": [
      "A_BRUNS_LINDER: \tAverage sales: 0.019230769230769232\n",
      "A.M.C.: \tAverage sales: 0.019230769230769232\n",
      "AC_CARS: \tAverage sales: 0.019230769230769232\n",
      "ACURA: \tAverage sales: 0.1346153846153846\n",
      "ADRIA: \tAverage sales: 0.19230769230769232\n",
      "ALFA_ROMEO: \tAverage sales: 56.01923076923077\n",
      "ALLIED_VEHICLES_LTD: \tAverage sales: 0.2692307692307692\n",
      "ALPINA: \tAverage sales: 0.057692307692307696\n",
      "ALPINE: \tAverage sales: 0.2692307692307692\n",
      "ALPINE_RENAULT: \tAverage sales: 0.038461538461538464\n",
      "AMF_HARLEY_DAVIDSON: \tAverage sales: 0.038461538461538464\n",
      "APRILIA: \tAverage sales: 0.019230769230769232\n",
      "ARIEL: \tAverage sales: 0.019230769230769232\n",
      "ASTON_MARTIN: \tAverage sales: 0.7884615384615384\n",
      "AUDI: \tAverage sales: 897.3269230769231\n",
      "AUSTIN: \tAverage sales: 0.057692307692307696\n",
      "AUSTIN_MORRIS: \tAverage sales: 0.019230769230769232\n",
      "AUSTIN_ROVER: \tAverage sales: 0.019230769230769232\n",
      "AUSTIN-HEALEY: \tAverage sales: 0.07692307692307693\n",
      "AUTOMOBILI_LAMBORGHINI: \tAverage sales: 0.8076923076923077\n",
      "AUTONACIONAL: \tAverage sales: 0.019230769230769232\n",
      "AUTOUNION-DKW: \tAverage sales: 0.019230769230769232\n",
      "AVELING_BARFORD: \tAverage sales: 0.34615384615384615\n",
      "B.M._VOLVO_VIKING: \tAverage sales: 0.09615384615384616\n",
      "BAYER.MOT.WERKW-BMW: \tAverage sales: 0.019230769230769232\n",
      "BENTLEY: \tAverage sales: 2.269230769230769\n",
      "BESSIA_MOTORSPORT: \tAverage sales: 0.019230769230769232\n",
      "BISCUTER: \tAverage sales: 0.019230769230769232\n",
      "BMW: \tAverage sales: 732.2115384615385\n",
      "BMW_I: \tAverage sales: 9.423076923076923\n",
      "BOMBARDIER: \tAverage sales: 0.019230769230769232\n",
      "BUGATTI: \tAverage sales: 0.019230769230769232\n",
      "BUICK: \tAverage sales: 0.09615384615384616\n",
      "BWW: \tAverage sales: 0.038461538461538464\n",
      "C.M.C.: \tAverage sales: 0.019230769230769232\n",
      "CADILLAC: \tAverage sales: 0.46153846153846156\n",
      "CAPRON: \tAverage sales: 0.019230769230769232\n",
      "CAPRON_GMBH: \tAverage sales: 0.019230769230769232\n",
      "CARBODIES: \tAverage sales: 0.019230769230769232\n",
      "CATERHAM: \tAverage sales: 0.019230769230769232\n",
      "CBP: \tAverage sales: 0.019230769230769232\n",
      "CHALLENGER: \tAverage sales: 0.019230769230769232\n",
      "CHEVROLET: \tAverage sales: 4.5576923076923075\n",
      "CHRY: \tAverage sales: 0.019230769230769232\n",
      "CHRYSLER: \tAverage sales: 1.9807692307692308\n",
      "CHRYSLER_LLC_DODGE: \tAverage sales: 0.057692307692307696\n",
      "CHRYSLER_LLC_JEEP: \tAverage sales: 0.057692307692307696\n",
      "CITROEN: \tAverage sales: 1146.5576923076924\n",
      "CITROËN: \tAverage sales: 0.3269230769230769\n",
      "CLASSIC_CAR_WITTEK: \tAverage sales: 0.019230769230769232\n",
      "CORVETTE: \tAverage sales: 0.019230769230769232\n",
      "CUPRA: \tAverage sales: 15.326923076923077\n",
      "DACIA: \tAverage sales: 854.9423076923077\n",
      "DAEWOO: \tAverage sales: 0.11538461538461539\n",
      "DAIHATRA: \tAverage sales: 0.019230769230769232\n",
      "DAIHATSU: \tAverage sales: 0.3269230769230769\n",
      "DAIMLER: \tAverage sales: 0.15384615384615385\n",
      "DAIMLER_AG: \tAverage sales: 0.21153846153846154\n",
      "DAIMLER_BENZ_AG: \tAverage sales: 0.019230769230769232\n",
      "DAIMLER_CHRYSLER: \tAverage sales: 0.21153846153846154\n",
      "DAIMLERCHRYSLER_CO_JEEP: \tAverage sales: 0.019230769230769232\n",
      "DATSUN: \tAverage sales: 0.019230769230769232\n",
      "DE_SOTO: \tAverage sales: 0.019230769230769232\n",
      "DFSK: \tAverage sales: 2.269230769230769\n",
      "DODGE: \tAverage sales: 1.9423076923076923\n",
      "DR: \tAverage sales: 1.8076923076923077\n",
      "DREAMER: \tAverage sales: 0.019230769230769232\n",
      "DS: \tAverage sales: 83.59615384615384\n",
      "DUCATI: \tAverage sales: 0.057692307692307696\n",
      "DUTTON: \tAverage sales: 0.019230769230769232\n",
      "ERIBA-HYMER: \tAverage sales: 0.019230769230769232\n",
      "FERRARI: \tAverage sales: 2.4038461538461537\n",
      "FIAT: \tAverage sales: 569.2307692307693\n",
      "FORD: \tAverage sales: 752.6923076923077\n",
      "FORD_CNG_TECHNIK: \tAverage sales: 22.48076923076923\n",
      "FRANKLIN_AUTOMOBILE: \tAverage sales: 0.019230769230769232\n",
      "FRUA_PORSCHE: \tAverage sales: 0.5769230769230769\n",
      "GAMC: \tAverage sales: 0.019230769230769232\n",
      "GAZ: \tAverage sales: 0.019230769230769232\n",
      "GMC: \tAverage sales: 0.11538461538461539\n",
      "GOGGOMOBIL: \tAverage sales: 0.019230769230769232\n",
      "GREAT_WALL: \tAverage sales: 0.019230769230769232\n",
      "HOLMAN: \tAverage sales: 0.019230769230769232\n",
      "HONDA: \tAverage sales: 90.73076923076923\n",
      "HURRICANE: \tAverage sales: 0.019230769230769232\n",
      "HYUNDAI: \tAverage sales: 881.1153846153846\n",
      "HYUNDAI_MOTOR: \tAverage sales: 0.019230769230769232\n",
      "INFINITI: \tAverage sales: 3.9038461538461537\n",
      "INNOCENTI: \tAverage sales: 0.019230769230769232\n",
      "ISO: \tAverage sales: 0.019230769230769232\n",
      "ISUZU: \tAverage sales: 0.057692307692307696\n",
      "JAC: \tAverage sales: 0.019230769230769232\n",
      "JAGUAR: \tAverage sales: 22.78846153846154\n",
      "JAGUAR_CARS_LTD: \tAverage sales: 0.15384615384615385\n",
      "JAGUAR_DAIMLER: \tAverage sales: 0.019230769230769232\n",
      "JAGUAR_LAND_ROVER: \tAverage sales: 0.038461538461538464\n",
      "JAGUAR_LAND_ROVER_LIMIT: \tAverage sales: 0.4807692307692308\n",
      "JAGUAR_LAND_ROVER_LTD: \tAverage sales: 0.038461538461538464\n",
      "JEEP: \tAverage sales: 177.15384615384616\n",
      "JETSTREAM_SC250: \tAverage sales: 0.019230769230769232\n",
      "JIMINI: \tAverage sales: 1.3269230769230769\n",
      "KARMANN-MOBIL: \tAverage sales: 0.019230769230769232\n",
      "KIA: \tAverage sales: 923.4230769230769\n",
      "KIA_MOTOR_(ROK): \tAverage sales: 0.07692307692307693\n",
      "KIA_MOTORS: \tAverage sales: 0.07692307692307693\n",
      "L.M.: \tAverage sales: 0.019230769230769232\n",
      "LADA: \tAverage sales: 0.057692307692307696\n",
      "LAIKA: \tAverage sales: 0.019230769230769232\n",
      "LAIKA_CARAVANS_SPA: \tAverage sales: 0.019230769230769232\n",
      "LAMBORGHINI: \tAverage sales: 0.6346153846153846\n",
      "LANCIA: \tAverage sales: 1.4423076923076923\n",
      "LAND__ROVER: \tAverage sales: 0.36538461538461536\n",
      "LAND_ROVER: \tAverage sales: 15.73076923076923\n",
      "LEXUS: \tAverage sales: 145.32692307692307\n",
      "LEYLAND: \tAverage sales: 0.019230769230769232\n",
      "LINCOLN: \tAverage sales: 0.057692307692307696\n",
      "LOCUST: \tAverage sales: 0.019230769230769232\n",
      "LONDON_TAXIS_INTERNAT.: \tAverage sales: 0.038461538461538464\n",
      "LOTUS: \tAverage sales: 0.4230769230769231\n",
      "LOTUS_CARS_LTD: \tAverage sales: 0.038461538461538464\n",
      "M.G.: \tAverage sales: 0.8076923076923077\n",
      "MAHINDRA: \tAverage sales: 0.2692307692307692\n",
      "MARC_MAÑAS: \tAverage sales: 0.019230769230769232\n",
      "MASERATI: \tAverage sales: 5.538461538461538\n",
      "MAZDA: \tAverage sales: 283.0769230769231\n",
      "MCC: \tAverage sales: 0.019230769230769232\n",
      "MCC_SMART: \tAverage sales: 15.596153846153847\n",
      "MCLAREN: \tAverage sales: 0.5576923076923077\n",
      "MERCEDES-AMG: \tAverage sales: 2.5961538461538463\n",
      "MERCEDES-BENZ: \tAverage sales: 1020.0961538461538\n",
      "MERCURY: \tAverage sales: 0.09615384615384616\n",
      "MEYERS_MANX: \tAverage sales: 0.019230769230769232\n",
      "MG_CAR_COMP: \tAverage sales: 0.019230769230769232\n",
      "MICRO_COMPACT_CAR_SMART: \tAverage sales: 0.17307692307692307\n",
      "MIMSA: \tAverage sales: 0.019230769230769232\n",
      "MINI: \tAverage sales: 199.19230769230768\n",
      "MITSUBISHI: \tAverage sales: 108.0576923076923\n",
      "MK: \tAverage sales: 0.019230769230769232\n",
      "MORGAN: \tAverage sales: 0.1346153846153846\n",
      "MORRIS: \tAverage sales: 0.057692307692307696\n",
      "NETHERLANDS_CAR: \tAverage sales: 0.019230769230769232\n",
      "NISSAN: \tAverage sales: 685.75\n",
      "OLDSMOBILE: \tAverage sales: 0.057692307692307696\n",
      "OLEOPEL: \tAverage sales: 0.019230769230769232\n",
      "OLMEDO: \tAverage sales: 0.019230769230769232\n",
      "OPEL: \tAverage sales: 676.1730769230769\n",
      "PACKARD: \tAverage sales: 0.019230769230769232\n",
      "PEUGEOT: \tAverage sales: 1560.9423076923076\n",
      "PGO: \tAverage sales: 0.019230769230769232\n",
      "PILGRIM: \tAverage sales: 0.038461538461538464\n",
      "PLA: \tAverage sales: 0.019230769230769232\n",
      "PLYMOUTH: \tAverage sales: 0.07692307692307693\n",
      "POESSL: \tAverage sales: 0.07692307692307693\n",
      "PONTIAC: \tAverage sales: 0.15384615384615385\n",
      "PORSCHE: \tAverage sales: 50.98076923076923\n",
      "RAM: \tAverage sales: 0.057692307692307696\n",
      "RENAULT: \tAverage sales: 1148.4038461538462\n",
      "RENAULT_TECH: \tAverage sales: 0.5192307692307693\n",
      "RILEY: \tAverage sales: 0.019230769230769232\n",
      "ROLLS_ROYCE: \tAverage sales: 0.5\n",
      "ROVER: \tAverage sales: 0.3269230769230769\n",
      "SAAB: \tAverage sales: 1.5576923076923077\n",
      "SALVADOR: \tAverage sales: 0.019230769230769232\n",
      "SATURN: \tAverage sales: 0.019230769230769232\n",
      "SCION: \tAverage sales: 0.057692307692307696\n",
      "SEAT: \tAverage sales: 1343.6538461538462\n",
      "SIFTT: \tAverage sales: 0.019230769230769232\n",
      "SIMCA: \tAverage sales: 0.038461538461538464\n",
      "SIN_MARCA: \tAverage sales: 0.019230769230769232\n",
      "SKODA: \tAverage sales: 430.0769230769231\n",
      "SMART: \tAverage sales: 15.846153846153847\n",
      "SOVRA_LM: \tAverage sales: 0.019230769230769232\n",
      "SSANGYONG: \tAverage sales: 35.94230769230769\n",
      "STANDARD_STEELL: \tAverage sales: 0.019230769230769232\n",
      "STUDEBAKER: \tAverage sales: 0.019230769230769232\n",
      "SUBARU: \tAverage sales: 33.21153846153846\n",
      "SUN_LIVING: \tAverage sales: 0.019230769230769232\n",
      "SUZUKI: \tAverage sales: 87.9423076923077\n",
      "T.V.R.: \tAverage sales: 0.019230769230769232\n",
      "TATA: \tAverage sales: 0.019230769230769232\n",
      "TESLA: \tAverage sales: 29.78846153846154\n",
      "TESLA_MOTORS: \tAverage sales: 1.6538461538461537\n",
      "THOROUGHRED: \tAverage sales: 0.019230769230769232\n",
      "TOYOTA: \tAverage sales: 1127.5\n",
      "TRABANT: \tAverage sales: 0.019230769230769232\n",
      "TRIPOD: \tAverage sales: 0.15384615384615385\n",
      "TRIUMPH: \tAverage sales: 0.25\n",
      "TSD: \tAverage sales: 0.019230769230769232\n",
      "VAUXHALL: \tAverage sales: 1.8846153846153846\n",
      "VAZ: \tAverage sales: 0.019230769230769232\n",
      "VOISIN_AUTONACIONAL: \tAverage sales: 0.038461538461538464\n",
      "VOLKNER: \tAverage sales: 0.038461538461538464\n",
      "VOLKSWAGEN: \tAverage sales: 1503.9807692307693\n",
      "VOLKSWAGEN_AG: \tAverage sales: 0.6346153846153846\n",
      "VOLKSWAGEN_V_W: \tAverage sales: 18.365384615384617\n",
      "VOLVO: \tAverage sales: 236.40384615384616\n",
      "VW-PORSCHE: \tAverage sales: 0.019230769230769232\n",
      "WESTFIELD: \tAverage sales: 0.09615384615384616\n",
      "WIESMANN: \tAverage sales: 0.019230769230769232\n",
      "WILLYS_OVERLAND: \tAverage sales: 0.019230769230769232\n",
      "WILLYS_VIASA: \tAverage sales: 0.057692307692307696\n"
     ]
    }
   ],
   "source": [
    "# Helper code: list of brands and average sales per province\n",
    "for c in df_cars_brand.columns[1:]:\n",
    "    print(\"{}: \\tAverage sales: {}\".format(c, df_cars_brand[c].mean()))"
   ]
  },
  {
   "cell_type": "code",
   "execution_count": null,
   "id": "86dc0dc1",
   "metadata": {},
   "outputs": [],
   "source": []
  }
 ],
 "metadata": {
  "kernelspec": {
   "display_name": "Python 3",
   "language": "python",
   "name": "python3"
  },
  "language_info": {
   "codemirror_mode": {
    "name": "ipython",
    "version": 3
   },
   "file_extension": ".py",
   "mimetype": "text/x-python",
   "name": "python",
   "nbconvert_exporter": "python",
   "pygments_lexer": "ipython3",
   "version": "3.7.5"
  }
 },
 "nbformat": 4,
 "nbformat_minor": 5
}
