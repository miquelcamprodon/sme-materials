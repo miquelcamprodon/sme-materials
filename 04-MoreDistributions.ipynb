{
 "cells": [
  {
   "cell_type": "code",
   "execution_count": 1,
   "id": "04aa5867",
   "metadata": {},
   "outputs": [],
   "source": [
    "# Libraries\n",
    "import numpy as np\n",
    "import pandas as pd\n",
    "from datetime import datetime as dt\n",
    "from scipy import stats\n",
    "import statsmodels.formula.api as sm_formula\n",
    "import statsmodels.api as sm\n",
    "from scipy import stats\n",
    "import scipy\n",
    "import math\n",
    "import matplotlib.pyplot as plt\n",
    "%matplotlib inline"
   ]
  },
  {
   "cell_type": "markdown",
   "id": "7e9a0fe7",
   "metadata": {},
   "source": [
    "### Check that the sum of squares of N(0,1) follows a chi-square distribution"
   ]
  },
  {
   "cell_type": "code",
   "execution_count": 2,
   "id": "82292861",
   "metadata": {},
   "outputs": [],
   "source": [
    "m=5000 # samples of N(0,1)\n",
    "n=7   # degrees of freedom"
   ]
  },
  {
   "cell_type": "code",
   "execution_count": 3,
   "id": "2f6ed8b9",
   "metadata": {},
   "outputs": [],
   "source": [
    "sample = np.random.normal(0, 1, m*n).reshape(m,n)\n",
    "sample2 = sample*sample"
   ]
  },
  {
   "cell_type": "code",
   "execution_count": 4,
   "id": "94d18cfa",
   "metadata": {},
   "outputs": [
    {
     "data": {
      "text/plain": [
       "count    5000.000000\n",
       "mean        6.980253\n",
       "std         3.678910\n",
       "min         0.488873\n",
       "25%         4.311220\n",
       "50%         6.390834\n",
       "75%         8.933750\n",
       "max        29.666864\n",
       "dtype: float64"
      ]
     },
     "execution_count": 4,
     "metadata": {},
     "output_type": "execute_result"
    },
    {
     "data": {
      "image/png": "[encoded data removed]",
      "text/plain": [
       "<Figure size 432x288 with 1 Axes>"
      ]
     },
     "metadata": {
      "needs_background": "light"
     },
     "output_type": "display_data"
    }
   ],
   "source": [
    "sums = sample2.sum(axis=1)\n",
    "pd.Series(sums).hist(bins=25)\n",
    "pd.Series(sums).describe()"
   ]
  },
  {
   "cell_type": "code",
   "execution_count": 5,
   "id": "994a2278",
   "metadata": {},
   "outputs": [
    {
     "data": {
      "text/plain": [
       "count    5000.000000\n",
       "mean        6.956533\n",
       "std         3.726206\n",
       "min         0.269437\n",
       "25%         4.276310\n",
       "50%         6.325663\n",
       "75%         8.927043\n",
       "max        30.651807\n",
       "dtype: float64"
      ]
     },
     "execution_count": 5,
     "metadata": {},
     "output_type": "execute_result"
    },
    {
     "data": {
      "image/png": "[encoded data removed]",
      "text/plain": [
       "<Figure size 432x288 with 1 Axes>"
      ]
     },
     "metadata": {
      "needs_background": "light"
     },
     "output_type": "display_data"
    }
   ],
   "source": [
    "sample3 = np.random.chisquare(n,m)\n",
    "pd.Series(sample3).hist(bins=25)\n",
    "pd.Series(sample3).describe()"
   ]
  },
  {
   "cell_type": "code",
   "execution_count": 6,
   "id": "612bf052",
   "metadata": {},
   "outputs": [
    {
     "name": "stdout",
     "output_type": "stream",
     "text": [
      "count    5000.000000\n",
      "mean        0.023720\n",
      "std         5.203166\n",
      "min       -28.315217\n",
      "25%        -3.220793\n",
      "50%         0.029981\n",
      "75%         3.195283\n",
      "max        25.037569\n",
      "dtype: float64\n",
      "Difference is centered in 0 and errors follow a normal curve\n"
     ]
    },
    {
     "data": {
      "image/png": "[encoded data removed]",
      "text/plain": [
       "<Figure size 432x288 with 1 Axes>"
      ]
     },
     "metadata": {
      "needs_background": "light"
     },
     "output_type": "display_data"
    }
   ],
   "source": [
    "# Comprobation\n",
    "diff = sums - sample3\n",
    "pd.Series(diff).hist(bins=25)\n",
    "print(pd.Series(diff).describe())\n",
    "print(\"Difference is centered in 0 and errors follow a normal curve\")"
   ]
  },
  {
   "cell_type": "markdown",
   "id": "e2b605c3",
   "metadata": {},
   "source": [
    "### Check that from the ratio of a z distribution and the root of a chi-square distribution we obtain a t distribution"
   ]
  },
  {
   "cell_type": "code",
   "execution_count": 7,
   "id": "67a117e8",
   "metadata": {},
   "outputs": [],
   "source": [
    "m=5000 # samples of N(0,1)\n",
    "n=7   # degrees of freedom"
   ]
  },
  {
   "cell_type": "code",
   "execution_count": 8,
   "id": "108d5e06",
   "metadata": {},
   "outputs": [],
   "source": [
    "samplez = np.random.normal(0, 1, m)\n",
    "samplechi2 = np.random.chisquare(n,m)\n",
    "samplechi2n = np.sqrt(np.random.chisquare(n,m)/n)\n",
    "t = samplez / samplechi2n"
   ]
  },
  {
   "cell_type": "code",
   "execution_count": 9,
   "id": "1f83b3ef",
   "metadata": {},
   "outputs": [
    {
     "data": {
      "text/plain": [
       "count    5000.000000\n",
       "mean        0.002917\n",
       "std         1.167549\n",
       "min        -7.445596\n",
       "25%        -0.690733\n",
       "50%        -0.000205\n",
       "75%         0.700549\n",
       "max         5.431000\n",
       "dtype: float64"
      ]
     },
     "execution_count": 9,
     "metadata": {},
     "output_type": "execute_result"
    },
    {
     "data": {
      "image/png": "[encoded data removed]",
      "text/plain": [
       "<Figure size 432x288 with 1 Axes>"
      ]
     },
     "metadata": {
      "needs_background": "light"
     },
     "output_type": "display_data"
    }
   ],
   "source": [
    "pd.Series(t).hist(bins=25)\n",
    "pd.Series(t).describe()"
   ]
  },
  {
   "cell_type": "code",
   "execution_count": 10,
   "id": "e4d7802d",
   "metadata": {},
   "outputs": [],
   "source": [
    "samplet = np.random.standard_t(n, m)"
   ]
  },
  {
   "cell_type": "code",
   "execution_count": 11,
   "id": "9a622587",
   "metadata": {},
   "outputs": [
    {
     "data": {
      "text/plain": [
       "count    5000.000000\n",
       "mean        0.044424\n",
       "std         1.195055\n",
       "min        -5.201067\n",
       "25%        -0.686807\n",
       "50%         0.000150\n",
       "75%         0.734967\n",
       "max         7.011180\n",
       "dtype: float64"
      ]
     },
     "execution_count": 11,
     "metadata": {},
     "output_type": "execute_result"
    },
    {
     "data": {
      "image/png": "[encoded data removed]",
      "text/plain": [
       "<Figure size 432x288 with 1 Axes>"
      ]
     },
     "metadata": {
      "needs_background": "light"
     },
     "output_type": "display_data"
    }
   ],
   "source": [
    "pd.Series(samplet).hist(bins=25)\n",
    "pd.Series(samplet).describe()"
   ]
  },
  {
   "cell_type": "code",
   "execution_count": 12,
   "id": "2273fb38",
   "metadata": {},
   "outputs": [
    {
     "name": "stdout",
     "output_type": "stream",
     "text": [
      "count    5000.000000\n",
      "mean       -0.041507\n",
      "std         1.675811\n",
      "min        -9.958773\n",
      "25%        -1.086008\n",
      "50%        -0.022847\n",
      "75%         0.993380\n",
      "max         6.913489\n",
      "dtype: float64\n",
      "Difference is centered in 0 and errors follow a normal curve\n"
     ]
    },
    {
     "data": {
      "image/png": "[encoded data removed]",
      "text/plain": [
       "<Figure size 432x288 with 1 Axes>"
      ]
     },
     "metadata": {
      "needs_background": "light"
     },
     "output_type": "display_data"
    }
   ],
   "source": [
    "# Comprobation\n",
    "diff = t - samplet\n",
    "pd.Series(diff).hist(bins=25)\n",
    "print(pd.Series(diff).describe())\n",
    "print(\"Difference is centered in 0 and errors follow a normal curve\")"
   ]
  },
  {
   "cell_type": "markdown",
   "id": "efa1515d",
   "metadata": {},
   "source": [
    "### Punctual estimation"
   ]
  },
  {
   "cell_type": "code",
   "execution_count": 13,
   "id": "1d401e78",
   "metadata": {},
   "outputs": [],
   "source": [
    "nterm = [587,470,676,451,436,672,584,697,408]"
   ]
  },
  {
   "cell_type": "code",
   "execution_count": 14,
   "id": "b0923958",
   "metadata": {},
   "outputs": [
    {
     "data": {
      "text/plain": [
       "553.4444444444445"
      ]
     },
     "execution_count": 14,
     "metadata": {},
     "output_type": "execute_result"
    }
   ],
   "source": [
    "np.mean(nterm)"
   ]
  },
  {
   "cell_type": "code",
   "execution_count": 15,
   "id": "31a300f5",
   "metadata": {},
   "outputs": [
    {
     "data": {
      "text/plain": [
       "114.09876326138587"
      ]
     },
     "execution_count": 15,
     "metadata": {},
     "output_type": "execute_result"
    }
   ],
   "source": [
    "np.std(nterm,ddof=1)"
   ]
  },
  {
   "cell_type": "code",
   "execution_count": 16,
   "id": "41d7a9e7",
   "metadata": {},
   "outputs": [
    {
     "data": {
      "text/plain": [
       "38.03292108712862"
      ]
     },
     "execution_count": 16,
     "metadata": {},
     "output_type": "execute_result"
    }
   ],
   "source": [
    "np.std(nterm,ddof=1)/np.sqrt(len(nterm))"
   ]
  },
  {
   "cell_type": "markdown",
   "id": "e829e462",
   "metadata": {},
   "source": [
    "### Confidence interval for the mean, stdev unknown"
   ]
  },
  {
   "cell_type": "code",
   "execution_count": 17,
   "id": "93157c85",
   "metadata": {},
   "outputs": [],
   "source": [
    "nterm = [587,470,676,451,436,672,584,697,408]\n",
    "n = 9\n",
    "sigma = 100"
   ]
  },
  {
   "cell_type": "code",
   "execution_count": 18,
   "id": "fb74a9db",
   "metadata": {},
   "outputs": [
    {
     "data": {
      "text/plain": [
       "1.959963984540054"
      ]
     },
     "execution_count": 18,
     "metadata": {},
     "output_type": "execute_result"
    }
   ],
   "source": [
    "scipy.stats.norm.ppf(0.975)"
   ]
  },
  {
   "cell_type": "code",
   "execution_count": 19,
   "id": "8c8f1c71",
   "metadata": {},
   "outputs": [
    {
     "data": {
      "text/plain": [
       "618.7765772624463"
      ]
     },
     "execution_count": 19,
     "metadata": {},
     "output_type": "execute_result"
    }
   ],
   "source": [
    "np.mean(nterm) + scipy.stats.norm.ppf(0.975)*sigma/np.sqrt(n)"
   ]
  },
  {
   "cell_type": "code",
   "execution_count": 20,
   "id": "373186ee",
   "metadata": {},
   "outputs": [
    {
     "data": {
      "text/plain": [
       "641.1485177387609"
      ]
     },
     "execution_count": 20,
     "metadata": {},
     "output_type": "execute_result"
    }
   ],
   "source": [
    "np.mean(nterm) + scipy.stats.t.ppf(0.975,8)*np.std(nterm,ddof=1)/np.sqrt(n)"
   ]
  },
  {
   "cell_type": "code",
   "execution_count": 21,
   "id": "74c9cf7a",
   "metadata": {},
   "outputs": [
    {
     "data": {
      "text/plain": [
       "0.9914641593831087"
      ]
     },
     "execution_count": 21,
     "metadata": {},
     "output_type": "execute_result"
    }
   ],
   "source": [
    "scipy.stats.t.cdf(3,8)"
   ]
  },
  {
   "cell_type": "markdown",
   "id": "dccef84e",
   "metadata": {},
   "source": [
    "### Check that the quotient of two chi-square distributions divided by its degrees of freedom is a F distribution"
   ]
  },
  {
   "cell_type": "code",
   "execution_count": 22,
   "id": "85317abd",
   "metadata": {},
   "outputs": [],
   "source": [
    "m=5000 # samples of N(0,1)\n",
    "n1=5   # degrees of freedom\n",
    "n2=7 "
   ]
  },
  {
   "cell_type": "code",
   "execution_count": 23,
   "id": "c4e077af",
   "metadata": {},
   "outputs": [],
   "source": [
    "samplechi2n1 = np.random.chisquare(n1,m)\n",
    "samplechi2n2 = np.random.chisquare(n2,m)\n",
    "f = (samplechi2n1 / n1) / (samplechi2n2 / n2)"
   ]
  },
  {
   "cell_type": "code",
   "execution_count": 24,
   "id": "1382339e",
   "metadata": {},
   "outputs": [
    {
     "data": {
      "text/plain": [
       "count    5000.000000\n",
       "mean        1.403320\n",
       "std         2.396946\n",
       "min         0.004532\n",
       "25%         0.522919\n",
       "50%         0.949616\n",
       "75%         1.691653\n",
       "max       132.512608\n",
       "dtype: float64"
      ]
     },
     "execution_count": 24,
     "metadata": {},
     "output_type": "execute_result"
    },
    {
     "data": {
      "image/png": "[encoded data removed]",
      "text/plain": [
       "<Figure size 432x288 with 1 Axes>"
      ]
     },
     "metadata": {
      "needs_background": "light"
     },
     "output_type": "display_data"
    }
   ],
   "source": [
    "pd.Series(f).hist(bins=25)\n",
    "pd.Series(f).describe()"
   ]
  },
  {
   "cell_type": "code",
   "execution_count": 25,
   "id": "433fa3e5",
   "metadata": {},
   "outputs": [
    {
     "data": {
      "text/plain": [
       "count    5000.000000\n",
       "mean        1.398795\n",
       "std         1.510839\n",
       "min         0.013080\n",
       "25%         0.515053\n",
       "50%         0.943190\n",
       "75%         1.709710\n",
       "max        22.357813\n",
       "dtype: float64"
      ]
     },
     "execution_count": 25,
     "metadata": {},
     "output_type": "execute_result"
    },
    {
     "data": {
      "image/png": "[encoded data removed]",
      "text/plain": [
       "<Figure size 432x288 with 1 Axes>"
      ]
     },
     "metadata": {
      "needs_background": "light"
     },
     "output_type": "display_data"
    }
   ],
   "source": [
    "samplef = np.random.f(n1, n2, m)\n",
    "pd.Series(samplef).hist(bins=25)\n",
    "pd.Series(samplef).describe()"
   ]
  },
  {
   "cell_type": "code",
   "execution_count": 26,
   "id": "19b9f0c3",
   "metadata": {},
   "outputs": [
    {
     "name": "stdout",
     "output_type": "stream",
     "text": [
      "count    5000.000000\n",
      "mean        0.004525\n",
      "std         2.833933\n",
      "min       -21.277024\n",
      "25%        -0.756384\n",
      "50%        -0.005576\n",
      "75%         0.749306\n",
      "max       131.768880\n",
      "dtype: float64\n",
      "Difference is centered in 0 and errors follow a normal curve\n"
     ]
    },
    {
     "data": {
      "image/png": "[encoded data removed]",
      "text/plain": [
       "<Figure size 432x288 with 1 Axes>"
      ]
     },
     "metadata": {
      "needs_background": "light"
     },
     "output_type": "display_data"
    }
   ],
   "source": [
    "# Comprobation\n",
    "diff = f - samplef\n",
    "pd.Series(diff).hist(bins=25)\n",
    "print(pd.Series(diff).describe())\n",
    "print(\"Difference is centered in 0 and errors follow a normal curve\")"
   ]
  },
  {
   "cell_type": "code",
   "execution_count": 27,
   "id": "a4041909",
   "metadata": {},
   "outputs": [
    {
     "data": {
      "text/plain": [
       "10.05101721957127"
      ]
     },
     "execution_count": 27,
     "metadata": {},
     "output_type": "execute_result"
    }
   ],
   "source": [
    "scipy.stats.f.ppf(0.99,10,5)"
   ]
  },
  {
   "cell_type": "code",
   "execution_count": 28,
   "id": "bbd0bd90",
   "metadata": {},
   "outputs": [
    {
     "data": {
      "text/plain": [
       "0.01000227680994581"
      ]
     },
     "execution_count": 28,
     "metadata": {},
     "output_type": "execute_result"
    }
   ],
   "source": [
    "1-scipy.stats.f.cdf(10.05,10,5)"
   ]
  },
  {
   "cell_type": "code",
   "execution_count": 29,
   "id": "f3136cdc",
   "metadata": {},
   "outputs": [
    {
     "data": {
      "text/plain": [
       "0.9945733337151855"
      ]
     },
     "execution_count": 29,
     "metadata": {},
     "output_type": "execute_result"
    }
   ],
   "source": [
    "scipy.stats.t.cdf(2.58,148)"
   ]
  },
  {
   "cell_type": "code",
   "execution_count": null,
   "id": "9eb933a4",
   "metadata": {},
   "outputs": [],
   "source": []
  }
 ],
 "metadata": {
  "kernelspec": {
   "display_name": "Python 3",
   "language": "python",
   "name": "python3"
  },
  "language_info": {
   "codemirror_mode": {
    "name": "ipython",
    "version": 3
   },
   "file_extension": ".py",
   "mimetype": "text/x-python",
   "name": "python",
   "nbconvert_exporter": "python",
   "pygments_lexer": "ipython3",
   "version": "3.7.5"
  }
 },
 "nbformat": 4,
 "nbformat_minor": 5
}
