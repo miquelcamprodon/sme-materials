{
 "cells": [
  {
   "cell_type": "code",
   "execution_count": 1,
   "id": "8c8c9cdf",
   "metadata": {},
   "outputs": [],
   "source": [
    "# Libraries\n",
    "import numpy as np\n",
    "import pandas as pd\n",
    "from datetime import datetime as dt\n",
    "from scipy import stats\n",
    "import statsmodels.formula.api as sm_formula\n",
    "import statsmodels.api as sm\n",
    "from scipy import stats\n",
    "import scipy\n",
    "import math\n",
    "import matplotlib.pyplot as plt\n",
    "%matplotlib inline"
   ]
  },
  {
   "cell_type": "markdown",
   "id": "a7b5768d",
   "metadata": {},
   "source": [
    "### Check that the sum of squares of N(0,1) follows a chi-square distribution"
   ]
  },
  {
   "cell_type": "code",
   "execution_count": 2,
   "id": "383a86d7",
   "metadata": {},
   "outputs": [],
   "source": [
    "m=5000 # samples of N(0,1)\n",
    "n=7   # degrees of freedom"
   ]
  },
  {
   "cell_type": "code",
   "execution_count": 3,
   "id": "d50af934",
   "metadata": {},
   "outputs": [],
   "source": [
    "sample = np.random.normal(0, 1, m*n).reshape(m,n)\n",
    "sample2 = sample*sample"
   ]
  },
  {
   "cell_type": "code",
   "execution_count": 4,
   "id": "7a0f0b49",
   "metadata": {},
   "outputs": [
    {
     "data": {
      "text/plain": [
       "count    5000.000000\n",
       "mean        7.059428\n",
       "std         3.800878\n",
       "min         0.278687\n",
       "25%         4.312445\n",
       "50%         6.429937\n",
       "75%         9.127211\n",
       "max        36.319667\n",
       "dtype: float64"
      ]
     },
     "execution_count": 4,
     "metadata": {},
     "output_type": "execute_result"
    },
    {
     "data": {
      "image/png": "[encoded data removed]",
      "text/plain": [
       "<Figure size 432x288 with 1 Axes>"
      ]
     },
     "metadata": {
      "needs_background": "light"
     },
     "output_type": "display_data"
    }
   ],
   "source": [
    "sums = sample2.sum(axis=1)\n",
    "pd.Series(sums).hist(bins=25)\n",
    "pd.Series(sums).describe()"
   ]
  },
  {
   "cell_type": "code",
   "execution_count": 5,
   "id": "1925cef9",
   "metadata": {},
   "outputs": [
    {
     "data": {
      "text/plain": [
       "count    5000.000000\n",
       "mean        7.041847\n",
       "std         3.824408\n",
       "min         0.328427\n",
       "25%         4.268125\n",
       "50%         6.335174\n",
       "75%         9.089758\n",
       "max        30.014672\n",
       "dtype: float64"
      ]
     },
     "execution_count": 5,
     "metadata": {},
     "output_type": "execute_result"
    },
    {
     "data": {
      "image/png": "[encoded data removed]",
      "text/plain": [
       "<Figure size 432x288 with 1 Axes>"
      ]
     },
     "metadata": {
      "needs_background": "light"
     },
     "output_type": "display_data"
    }
   ],
   "source": [
    "sample3 = np.random.chisquare(n,m)\n",
    "pd.Series(sample3).hist(bins=25)\n",
    "pd.Series(sample3).describe()"
   ]
  },
  {
   "cell_type": "code",
   "execution_count": 6,
   "id": "650b2c05",
   "metadata": {},
   "outputs": [
    {
     "name": "stdout",
     "output_type": "stream",
     "text": [
      "count    5000.000000\n",
      "mean        0.017581\n",
      "std         5.350009\n",
      "min       -21.450166\n",
      "25%        -3.292298\n",
      "50%        -0.026712\n",
      "75%         3.343250\n",
      "max        33.256445\n",
      "dtype: float64\n",
      "Difference is centered in 0 and errors follow a normal curve\n"
     ]
    },
    {
     "data": {
      "image/png": "[encoded data removed]",
      "text/plain": [
       "<Figure size 432x288 with 1 Axes>"
      ]
     },
     "metadata": {
      "needs_background": "light"
     },
     "output_type": "display_data"
    }
   ],
   "source": [
    "# Comprobation\n",
    "diff = sums - sample3\n",
    "pd.Series(diff).hist(bins=25)\n",
    "print(pd.Series(diff).describe())\n",
    "print(\"Difference is centered in 0 and errors follow a normal curve\")"
   ]
  },
  {
   "cell_type": "markdown",
   "id": "a1679067",
   "metadata": {},
   "source": [
    "### Check that from the ratio of a z distribution and the root of a chi-square distribution we obtain a t distribution"
   ]
  },
  {
   "cell_type": "code",
   "execution_count": 7,
   "id": "770c0bba",
   "metadata": {},
   "outputs": [],
   "source": [
    "m=5000 # samples of N(0,1)\n",
    "n=7   # degrees of freedom"
   ]
  },
  {
   "cell_type": "code",
   "execution_count": 8,
   "id": "31c0605d",
   "metadata": {},
   "outputs": [],
   "source": [
    "samplez = np.random.normal(0, 1, m)\n",
    "samplechi2 = np.random.chisquare(n,m)\n",
    "samplechi2n = np.sqrt(np.random.chisquare(n,m)/n)\n",
    "t = samplez / samplechi2n"
   ]
  },
  {
   "cell_type": "code",
   "execution_count": 9,
   "id": "8ae2e6f7",
   "metadata": {},
   "outputs": [
    {
     "data": {
      "text/plain": [
       "count    5000.000000\n",
       "mean        0.007410\n",
       "std         1.189149\n",
       "min        -6.151738\n",
       "25%        -0.702340\n",
       "50%         0.008064\n",
       "75%         0.745447\n",
       "max         7.682144\n",
       "dtype: float64"
      ]
     },
     "execution_count": 9,
     "metadata": {},
     "output_type": "execute_result"
    },
    {
     "data": {
      "image/png": "[encoded data removed]",
      "text/plain": [
       "<Figure size 432x288 with 1 Axes>"
      ]
     },
     "metadata": {
      "needs_background": "light"
     },
     "output_type": "display_data"
    }
   ],
   "source": [
    "pd.Series(t).hist(bins=25)\n",
    "pd.Series(t).describe()"
   ]
  },
  {
   "cell_type": "code",
   "execution_count": 10,
   "id": "fde6a2c4",
   "metadata": {},
   "outputs": [],
   "source": [
    "samplet = np.random.standard_t(n, m)"
   ]
  },
  {
   "cell_type": "code",
   "execution_count": 11,
   "id": "bed4acdc",
   "metadata": {},
   "outputs": [
    {
     "data": {
      "text/plain": [
       "count    5000.000000\n",
       "mean       -0.037005\n",
       "std         1.156480\n",
       "min        -6.339743\n",
       "25%        -0.706783\n",
       "50%        -0.012328\n",
       "75%         0.666152\n",
       "max         6.066490\n",
       "dtype: float64"
      ]
     },
     "execution_count": 11,
     "metadata": {},
     "output_type": "execute_result"
    },
    {
     "data": {
      "image/png": "[encoded data removed]",
      "text/plain": [
       "<Figure size 432x288 with 1 Axes>"
      ]
     },
     "metadata": {
      "needs_background": "light"
     },
     "output_type": "display_data"
    }
   ],
   "source": [
    "pd.Series(samplet).hist(bins=25)\n",
    "pd.Series(samplet).describe()"
   ]
  },
  {
   "cell_type": "code",
   "execution_count": 12,
   "id": "47dd3bf1",
   "metadata": {},
   "outputs": [
    {
     "name": "stdout",
     "output_type": "stream",
     "text": [
      "count    5000.000000\n",
      "mean        0.044415\n",
      "std         1.665544\n",
      "min        -6.803847\n",
      "25%        -1.018845\n",
      "50%         0.034856\n",
      "75%         1.086013\n",
      "max         8.354617\n",
      "dtype: float64\n",
      "Difference is centered in 0 and errors follow a normal curve\n"
     ]
    },
    {
     "data": {
      "image/png": "[encoded data removed]",
      "text/plain": [
       "<Figure size 432x288 with 1 Axes>"
      ]
     },
     "metadata": {
      "needs_background": "light"
     },
     "output_type": "display_data"
    }
   ],
   "source": [
    "# Comprobation\n",
    "diff = t - samplet\n",
    "pd.Series(diff).hist(bins=25)\n",
    "print(pd.Series(diff).describe())\n",
    "print(\"Difference is centered in 0 and errors follow a normal curve\")"
   ]
  },
  {
   "cell_type": "markdown",
   "id": "46a98efa",
   "metadata": {},
   "source": [
    "### Punctual estimation"
   ]
  },
  {
   "cell_type": "code",
   "execution_count": 13,
   "id": "14ad7f0e",
   "metadata": {},
   "outputs": [],
   "source": [
    "nterm = [587,470,676,451,436,672,584,697,408]"
   ]
  },
  {
   "cell_type": "code",
   "execution_count": 14,
   "id": "0d4fb694",
   "metadata": {},
   "outputs": [
    {
     "data": {
      "text/plain": [
       "553.4444444444445"
      ]
     },
     "execution_count": 14,
     "metadata": {},
     "output_type": "execute_result"
    }
   ],
   "source": [
    "np.mean(nterm)"
   ]
  },
  {
   "cell_type": "code",
   "execution_count": 15,
   "id": "229cd726",
   "metadata": {},
   "outputs": [
    {
     "data": {
      "text/plain": [
       "114.09876326138587"
      ]
     },
     "execution_count": 15,
     "metadata": {},
     "output_type": "execute_result"
    }
   ],
   "source": [
    "np.std(nterm,ddof=1)"
   ]
  },
  {
   "cell_type": "code",
   "execution_count": 16,
   "id": "ec3f7988",
   "metadata": {},
   "outputs": [
    {
     "data": {
      "text/plain": [
       "38.03292108712862"
      ]
     },
     "execution_count": 16,
     "metadata": {},
     "output_type": "execute_result"
    }
   ],
   "source": [
    "np.std(nterm,ddof=1)/np.sqrt(len(nterm))"
   ]
  },
  {
   "cell_type": "markdown",
   "id": "bc1adf2c",
   "metadata": {},
   "source": [
    "### Confidence interval for the mean, stdev unknown"
   ]
  },
  {
   "cell_type": "code",
   "execution_count": 17,
   "id": "a45cc56a",
   "metadata": {},
   "outputs": [],
   "source": [
    "nterm = [587,470,676,451,436,672,584,697,408]\n",
    "n = 9\n",
    "sigma = 100"
   ]
  },
  {
   "cell_type": "code",
   "execution_count": 18,
   "id": "ba47a077",
   "metadata": {},
   "outputs": [
    {
     "data": {
      "text/plain": [
       "1.959963984540054"
      ]
     },
     "execution_count": 18,
     "metadata": {},
     "output_type": "execute_result"
    }
   ],
   "source": [
    "scipy.stats.norm.ppf(0.975)"
   ]
  },
  {
   "cell_type": "code",
   "execution_count": 19,
   "id": "3bbf75ff",
   "metadata": {},
   "outputs": [
    {
     "data": {
      "text/plain": [
       "618.7765772624463"
      ]
     },
     "execution_count": 19,
     "metadata": {},
     "output_type": "execute_result"
    }
   ],
   "source": [
    "np.mean(nterm) + scipy.stats.norm.ppf(0.975)*sigma/np.sqrt(n)"
   ]
  },
  {
   "cell_type": "code",
   "execution_count": 20,
   "id": "2c6309f0",
   "metadata": {},
   "outputs": [
    {
     "data": {
      "text/plain": [
       "641.1485177387609"
      ]
     },
     "execution_count": 20,
     "metadata": {},
     "output_type": "execute_result"
    }
   ],
   "source": [
    "np.mean(nterm) + scipy.stats.t.ppf(0.975,8)*np.std(nterm,ddof=1)/np.sqrt(n)"
   ]
  },
  {
   "cell_type": "code",
   "execution_count": 21,
   "id": "2dc02d64",
   "metadata": {},
   "outputs": [
    {
     "data": {
      "text/plain": [
       "0.9914641593831087"
      ]
     },
     "execution_count": 21,
     "metadata": {},
     "output_type": "execute_result"
    }
   ],
   "source": [
    "scipy.stats.t.cdf(3,8)"
   ]
  },
  {
   "cell_type": "markdown",
   "id": "4dd0c85b",
   "metadata": {},
   "source": [
    "### Check that the quotient of two chi-square distributions divided by its degrees of freedom is a F distribution"
   ]
  },
  {
   "cell_type": "code",
   "execution_count": 22,
   "id": "dd983eb6",
   "metadata": {},
   "outputs": [],
   "source": [
    "m=5000 # samples of N(0,1)\n",
    "n1=5   # degrees of freedom\n",
    "n2=7 "
   ]
  },
  {
   "cell_type": "code",
   "execution_count": 23,
   "id": "24e58810",
   "metadata": {},
   "outputs": [],
   "source": [
    "samplechi2n1 = np.random.chisquare(n1,m)\n",
    "samplechi2n2 = np.random.chisquare(n2,m)\n",
    "f = (samplechi2n1 / n1) / (samplechi2n2 / n2)"
   ]
  },
  {
   "cell_type": "code",
   "execution_count": 24,
   "id": "99b1b337",
   "metadata": {},
   "outputs": [
    {
     "data": {
      "text/plain": [
       "count    5000.000000\n",
       "mean        1.409050\n",
       "std         1.583864\n",
       "min         0.007490\n",
       "25%         0.523708\n",
       "50%         0.958402\n",
       "75%         1.715500\n",
       "max        27.298210\n",
       "dtype: float64"
      ]
     },
     "execution_count": 24,
     "metadata": {},
     "output_type": "execute_result"
    },
    {
     "data": {
      "image/png": "[encoded data removed]",
      "text/plain": [
       "<Figure size 432x288 with 1 Axes>"
      ]
     },
     "metadata": {
      "needs_background": "light"
     },
     "output_type": "display_data"
    }
   ],
   "source": [
    "pd.Series(f).hist(bins=25)\n",
    "pd.Series(f).describe()"
   ]
  },
  {
   "cell_type": "code",
   "execution_count": 25,
   "id": "210d1f96",
   "metadata": {},
   "outputs": [
    {
     "data": {
      "text/plain": [
       "count    5000.000000\n",
       "mean        1.403216\n",
       "std         1.473615\n",
       "min         0.016032\n",
       "25%         0.540155\n",
       "50%         0.966261\n",
       "75%         1.727195\n",
       "max        17.061167\n",
       "dtype: float64"
      ]
     },
     "execution_count": 25,
     "metadata": {},
     "output_type": "execute_result"
    },
    {
     "data": {
      "image/png": "[encoded data removed]",
      "text/plain": [
       "<Figure size 432x288 with 1 Axes>"
      ]
     },
     "metadata": {
      "needs_background": "light"
     },
     "output_type": "display_data"
    }
   ],
   "source": [
    "samplef = np.random.f(n1, n2, m)\n",
    "pd.Series(samplef).hist(bins=25)\n",
    "pd.Series(samplef).describe()"
   ]
  },
  {
   "cell_type": "code",
   "execution_count": 26,
   "id": "37679dee",
   "metadata": {},
   "outputs": [
    {
     "name": "stdout",
     "output_type": "stream",
     "text": [
      "count    5000.000000\n",
      "mean        0.005834\n",
      "std         2.167361\n",
      "min       -16.965925\n",
      "25%        -0.791647\n",
      "50%        -0.003428\n",
      "75%         0.777507\n",
      "max        26.697178\n",
      "dtype: float64\n",
      "Difference is centered in 0 and errors follow a normal curve\n"
     ]
    },
    {
     "data": {
      "image/png": "[encoded data removed]",
      "text/plain": [
       "<Figure size 432x288 with 1 Axes>"
      ]
     },
     "metadata": {
      "needs_background": "light"
     },
     "output_type": "display_data"
    }
   ],
   "source": [
    "# Comprobation\n",
    "diff = f - samplef\n",
    "pd.Series(diff).hist(bins=25)\n",
    "print(pd.Series(diff).describe())\n",
    "print(\"Difference is centered in 0 and errors follow a normal curve\")"
   ]
  },
  {
   "cell_type": "code",
   "execution_count": 27,
   "id": "18502f37",
   "metadata": {},
   "outputs": [
    {
     "data": {
      "text/plain": [
       "10.05101721957127"
      ]
     },
     "execution_count": 27,
     "metadata": {},
     "output_type": "execute_result"
    }
   ],
   "source": [
    "scipy.stats.f.ppf(0.99,10,5)"
   ]
  },
  {
   "cell_type": "code",
   "execution_count": 28,
   "id": "7d8124ba",
   "metadata": {},
   "outputs": [
    {
     "data": {
      "text/plain": [
       "0.01000227680994581"
      ]
     },
     "execution_count": 28,
     "metadata": {},
     "output_type": "execute_result"
    }
   ],
   "source": [
    "1-scipy.stats.f.cdf(10.05,10,5)"
   ]
  },
  {
   "cell_type": "code",
   "execution_count": 29,
   "id": "441090e9",
   "metadata": {},
   "outputs": [
    {
     "data": {
      "text/plain": [
       "0.9945733337151855"
      ]
     },
     "execution_count": 29,
     "metadata": {},
     "output_type": "execute_result"
    }
   ],
   "source": [
    "scipy.stats.t.cdf(2.58,148)"
   ]
  },
  {
   "cell_type": "code",
   "execution_count": null,
   "id": "0223eb0a",
   "metadata": {},
   "outputs": [],
   "source": []
  }
 ],
 "metadata": {
  "kernelspec": {
   "display_name": "Python 3",
   "language": "python",
   "name": "python3"
  },
  "language_info": {
   "codemirror_mode": {
    "name": "ipython",
    "version": 3
   },
   "file_extension": ".py",
   "mimetype": "text/x-python",
   "name": "python",
   "nbconvert_exporter": "python",
   "pygments_lexer": "ipython3",
   "version": "3.7.5"
  }
 },
 "nbformat": 4,
 "nbformat_minor": 5
}
