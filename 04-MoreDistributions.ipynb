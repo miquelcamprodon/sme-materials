{
 "cells": [
  {
   "cell_type": "code",
   "execution_count": 1,
   "id": "d8187506",
   "metadata": {},
   "outputs": [],
   "source": [
    "# Libraries\n",
    "import numpy as np\n",
    "import pandas as pd\n",
    "from datetime import datetime as dt\n",
    "from scipy import stats\n",
    "import statsmodels.formula.api as sm_formula\n",
    "import statsmodels.api as sm\n",
    "from scipy import stats\n",
    "import scipy\n",
    "import math\n",
    "import matplotlib.pyplot as plt\n",
    "%matplotlib inline"
   ]
  },
  {
   "cell_type": "markdown",
   "id": "f28bb83e",
   "metadata": {},
   "source": [
    "### Check that the sum of squares of N(0,1) follows a chi-square distribution"
   ]
  },
  {
   "cell_type": "code",
   "execution_count": 2,
   "id": "c104ab3d",
   "metadata": {},
   "outputs": [],
   "source": [
    "m=5000 # samples of N(0,1)\n",
    "n=7   # degrees of freedom"
   ]
  },
  {
   "cell_type": "code",
   "execution_count": 3,
   "id": "15123b8b",
   "metadata": {},
   "outputs": [],
   "source": [
    "sample = np.random.normal(0, 1, m*n).reshape(m,n)\n",
    "sample2 = sample*sample"
   ]
  },
  {
   "cell_type": "code",
   "execution_count": 4,
   "id": "892c81af",
   "metadata": {},
   "outputs": [
    {
     "data": {
      "text/plain": [
       "count    5000.000000\n",
       "mean        6.969098\n",
       "std         3.690278\n",
       "min         0.259929\n",
       "25%         4.272418\n",
       "50%         6.372767\n",
       "75%         8.980680\n",
       "max        29.927561\n",
       "dtype: float64"
      ]
     },
     "execution_count": 4,
     "metadata": {},
     "output_type": "execute_result"
    },
    {
     "data": {
      "image/png": "[encoded data removed]",
      "text/plain": [
       "<Figure size 432x288 with 1 Axes>"
      ]
     },
     "metadata": {
      "needs_background": "light"
     },
     "output_type": "display_data"
    }
   ],
   "source": [
    "sums = sample2.sum(axis=1)\n",
    "pd.Series(sums).hist(bins=25)\n",
    "pd.Series(sums).describe()"
   ]
  },
  {
   "cell_type": "code",
   "execution_count": 5,
   "id": "38eeb5a2",
   "metadata": {},
   "outputs": [
    {
     "data": {
      "text/plain": [
       "count    5000.000000\n",
       "mean        7.007258\n",
       "std         3.738802\n",
       "min         0.345842\n",
       "25%         4.268387\n",
       "50%         6.332554\n",
       "75%         9.025463\n",
       "max        37.463440\n",
       "dtype: float64"
      ]
     },
     "execution_count": 5,
     "metadata": {},
     "output_type": "execute_result"
    },
    {
     "data": {
      "image/png": "[encoded data removed]",
      "text/plain": [
       "<Figure size 432x288 with 1 Axes>"
      ]
     },
     "metadata": {
      "needs_background": "light"
     },
     "output_type": "display_data"
    }
   ],
   "source": [
    "sample3 = np.random.chisquare(n,m)\n",
    "pd.Series(sample3).hist(bins=25)\n",
    "pd.Series(sample3).describe()"
   ]
  },
  {
   "cell_type": "code",
   "execution_count": 6,
   "id": "40000e9e",
   "metadata": {},
   "outputs": [
    {
     "name": "stdout",
     "output_type": "stream",
     "text": [
      "count    5000.000000\n",
      "mean       -0.038160\n",
      "std         5.245303\n",
      "min       -25.011083\n",
      "25%        -3.264138\n",
      "50%         0.083477\n",
      "75%         3.229880\n",
      "max        26.560925\n",
      "dtype: float64\n",
      "Difference is centered in 0 and errors follow a normal curve\n"
     ]
    },
    {
     "data": {
      "image/png": "[encoded data removed]",
      "text/plain": [
       "<Figure size 432x288 with 1 Axes>"
      ]
     },
     "metadata": {
      "needs_background": "light"
     },
     "output_type": "display_data"
    }
   ],
   "source": [
    "# Comprobation\n",
    "diff = sums - sample3\n",
    "pd.Series(diff).hist(bins=25)\n",
    "print(pd.Series(diff).describe())\n",
    "print(\"Difference is centered in 0 and errors follow a normal curve\")"
   ]
  },
  {
   "cell_type": "markdown",
   "id": "bc866eac",
   "metadata": {},
   "source": [
    "### Check that from the ratio of a z distribution and the root of a chi-square distribution we obtain a t distribution"
   ]
  },
  {
   "cell_type": "code",
   "execution_count": 7,
   "id": "6d13507a",
   "metadata": {},
   "outputs": [],
   "source": [
    "m=5000 # samples of N(0,1)\n",
    "n=7   # degrees of freedom"
   ]
  },
  {
   "cell_type": "code",
   "execution_count": 8,
   "id": "098ec2fa",
   "metadata": {},
   "outputs": [],
   "source": [
    "samplez = np.random.normal(0, 1, m)\n",
    "samplechi2 = np.random.chisquare(n,m)\n",
    "samplechi2n = np.sqrt(np.random.chisquare(n,m)/n)\n",
    "t = samplez / samplechi2n"
   ]
  },
  {
   "cell_type": "code",
   "execution_count": 9,
   "id": "2f1377ab",
   "metadata": {},
   "outputs": [
    {
     "data": {
      "text/plain": [
       "count    5000.000000\n",
       "mean       -0.003890\n",
       "std         1.200341\n",
       "min        -6.035525\n",
       "25%        -0.763430\n",
       "50%        -0.006747\n",
       "75%         0.740625\n",
       "max         6.754226\n",
       "dtype: float64"
      ]
     },
     "execution_count": 9,
     "metadata": {},
     "output_type": "execute_result"
    },
    {
     "data": {
      "image/png": "[encoded data removed]",
      "text/plain": [
       "<Figure size 432x288 with 1 Axes>"
      ]
     },
     "metadata": {
      "needs_background": "light"
     },
     "output_type": "display_data"
    }
   ],
   "source": [
    "pd.Series(t).hist(bins=25)\n",
    "pd.Series(t).describe()"
   ]
  },
  {
   "cell_type": "code",
   "execution_count": 10,
   "id": "2c1fb0cc",
   "metadata": {},
   "outputs": [],
   "source": [
    "samplet = np.random.standard_t(n, m)"
   ]
  },
  {
   "cell_type": "code",
   "execution_count": 11,
   "id": "30f9b8d9",
   "metadata": {},
   "outputs": [
    {
     "data": {
      "text/plain": [
       "count    5000.000000\n",
       "mean        0.025503\n",
       "std         1.207893\n",
       "min        -6.434664\n",
       "25%        -0.684714\n",
       "50%         0.021254\n",
       "75%         0.747180\n",
       "max         9.320403\n",
       "dtype: float64"
      ]
     },
     "execution_count": 11,
     "metadata": {},
     "output_type": "execute_result"
    },
    {
     "data": {
      "image/png": "[encoded data removed]",
      "text/plain": [
       "<Figure size 432x288 with 1 Axes>"
      ]
     },
     "metadata": {
      "needs_background": "light"
     },
     "output_type": "display_data"
    }
   ],
   "source": [
    "pd.Series(samplet).hist(bins=25)\n",
    "pd.Series(samplet).describe()"
   ]
  },
  {
   "cell_type": "code",
   "execution_count": 12,
   "id": "fa3dfcbe",
   "metadata": {},
   "outputs": [
    {
     "name": "stdout",
     "output_type": "stream",
     "text": [
      "count    5000.000000\n",
      "mean       -0.029393\n",
      "std         1.710295\n",
      "min       -10.141466\n",
      "25%        -1.077626\n",
      "50%        -0.038885\n",
      "75%         1.009589\n",
      "max         7.964944\n",
      "dtype: float64\n",
      "Difference is centered in 0 and errors follow a normal curve\n"
     ]
    },
    {
     "data": {
      "image/png": "[encoded data removed]",
      "text/plain": [
       "<Figure size 432x288 with 1 Axes>"
      ]
     },
     "metadata": {
      "needs_background": "light"
     },
     "output_type": "display_data"
    }
   ],
   "source": [
    "# Comprobation\n",
    "diff = t - samplet\n",
    "pd.Series(diff).hist(bins=25)\n",
    "print(pd.Series(diff).describe())\n",
    "print(\"Difference is centered in 0 and errors follow a normal curve\")"
   ]
  },
  {
   "cell_type": "markdown",
   "id": "304b82db",
   "metadata": {},
   "source": [
    "### Punctual estimation"
   ]
  },
  {
   "cell_type": "code",
   "execution_count": 13,
   "id": "02c1de11",
   "metadata": {},
   "outputs": [],
   "source": [
    "nterm = [587,470,676,451,436,672,584,697,408]"
   ]
  },
  {
   "cell_type": "code",
   "execution_count": 14,
   "id": "d1490cbf",
   "metadata": {},
   "outputs": [
    {
     "data": {
      "text/plain": [
       "553.4444444444445"
      ]
     },
     "execution_count": 14,
     "metadata": {},
     "output_type": "execute_result"
    }
   ],
   "source": [
    "np.mean(nterm)"
   ]
  },
  {
   "cell_type": "code",
   "execution_count": 15,
   "id": "b5352bc8",
   "metadata": {},
   "outputs": [
    {
     "data": {
      "text/plain": [
       "114.09876326138587"
      ]
     },
     "execution_count": 15,
     "metadata": {},
     "output_type": "execute_result"
    }
   ],
   "source": [
    "np.std(nterm,ddof=1)"
   ]
  },
  {
   "cell_type": "code",
   "execution_count": 16,
   "id": "0dd28f27",
   "metadata": {},
   "outputs": [
    {
     "data": {
      "text/plain": [
       "38.03292108712862"
      ]
     },
     "execution_count": 16,
     "metadata": {},
     "output_type": "execute_result"
    }
   ],
   "source": [
    "np.std(nterm,ddof=1)/np.sqrt(len(nterm))"
   ]
  },
  {
   "cell_type": "markdown",
   "id": "192df2e8",
   "metadata": {},
   "source": [
    "### Confidence interval for the mean, stdev unknown"
   ]
  },
  {
   "cell_type": "code",
   "execution_count": 17,
   "id": "8937d409",
   "metadata": {},
   "outputs": [],
   "source": [
    "nterm = [587,470,676,451,436,672,584,697,408]\n",
    "n = 9\n",
    "sigma = 100"
   ]
  },
  {
   "cell_type": "code",
   "execution_count": 18,
   "id": "7a4bcedf",
   "metadata": {},
   "outputs": [
    {
     "data": {
      "text/plain": [
       "1.959963984540054"
      ]
     },
     "execution_count": 18,
     "metadata": {},
     "output_type": "execute_result"
    }
   ],
   "source": [
    "scipy.stats.norm.ppf(0.975)"
   ]
  },
  {
   "cell_type": "code",
   "execution_count": 19,
   "id": "cf50093b",
   "metadata": {},
   "outputs": [
    {
     "data": {
      "text/plain": [
       "618.7765772624463"
      ]
     },
     "execution_count": 19,
     "metadata": {},
     "output_type": "execute_result"
    }
   ],
   "source": [
    "np.mean(nterm) + scipy.stats.norm.ppf(0.975)*sigma/np.sqrt(n)"
   ]
  },
  {
   "cell_type": "code",
   "execution_count": 20,
   "id": "7b5be4b4",
   "metadata": {},
   "outputs": [
    {
     "data": {
      "text/plain": [
       "641.1485177387609"
      ]
     },
     "execution_count": 20,
     "metadata": {},
     "output_type": "execute_result"
    }
   ],
   "source": [
    "np.mean(nterm) + scipy.stats.t.ppf(0.975,8)*np.std(nterm,ddof=1)/np.sqrt(n)"
   ]
  },
  {
   "cell_type": "code",
   "execution_count": 21,
   "id": "f36771a6",
   "metadata": {},
   "outputs": [
    {
     "data": {
      "text/plain": [
       "0.9914641593831087"
      ]
     },
     "execution_count": 21,
     "metadata": {},
     "output_type": "execute_result"
    }
   ],
   "source": [
    "scipy.stats.t.cdf(3,8)"
   ]
  },
  {
   "cell_type": "markdown",
   "id": "d80b79ac",
   "metadata": {},
   "source": [
    "### Check that the quotient of two chi-square distributions divided by its degrees of freedom is a F distribution"
   ]
  },
  {
   "cell_type": "code",
   "execution_count": 22,
   "id": "89d20a1a",
   "metadata": {},
   "outputs": [],
   "source": [
    "m=5000 # samples of N(0,1)\n",
    "n1=5   # degrees of freedom\n",
    "n2=7 "
   ]
  },
  {
   "cell_type": "code",
   "execution_count": 23,
   "id": "fc4ec857",
   "metadata": {},
   "outputs": [],
   "source": [
    "samplechi2n1 = np.random.chisquare(n1,m)\n",
    "samplechi2n2 = np.random.chisquare(n2,m)\n",
    "f = (samplechi2n1 / n1) / (samplechi2n2 / n2)"
   ]
  },
  {
   "cell_type": "code",
   "execution_count": 24,
   "id": "d788f4f8",
   "metadata": {},
   "outputs": [
    {
     "data": {
      "text/plain": [
       "count    5000.000000\n",
       "mean        1.382906\n",
       "std         1.486263\n",
       "min         0.021589\n",
       "25%         0.519433\n",
       "50%         0.941343\n",
       "75%         1.695510\n",
       "max        18.214689\n",
       "dtype: float64"
      ]
     },
     "execution_count": 24,
     "metadata": {},
     "output_type": "execute_result"
    },
    {
     "data": {
      "image/png": "[encoded data removed]",
      "text/plain": [
       "<Figure size 432x288 with 1 Axes>"
      ]
     },
     "metadata": {
      "needs_background": "light"
     },
     "output_type": "display_data"
    }
   ],
   "source": [
    "pd.Series(f).hist(bins=25)\n",
    "pd.Series(f).describe()"
   ]
  },
  {
   "cell_type": "code",
   "execution_count": 25,
   "id": "03814fc4",
   "metadata": {},
   "outputs": [
    {
     "data": {
      "text/plain": [
       "count    5000.000000\n",
       "mean        1.388801\n",
       "std         1.713618\n",
       "min         0.025344\n",
       "25%         0.519819\n",
       "50%         0.938587\n",
       "75%         1.695494\n",
       "max        36.396436\n",
       "dtype: float64"
      ]
     },
     "execution_count": 25,
     "metadata": {},
     "output_type": "execute_result"
    },
    {
     "data": {
      "image/png": "[encoded data removed]",
      "text/plain": [
       "<Figure size 432x288 with 1 Axes>"
      ]
     },
     "metadata": {
      "needs_background": "light"
     },
     "output_type": "display_data"
    }
   ],
   "source": [
    "samplef = np.random.f(n1, n2, m)\n",
    "pd.Series(samplef).hist(bins=25)\n",
    "pd.Series(samplef).describe()"
   ]
  },
  {
   "cell_type": "code",
   "execution_count": 26,
   "id": "8919472b",
   "metadata": {},
   "outputs": [
    {
     "name": "stdout",
     "output_type": "stream",
     "text": [
      "count    5000.000000\n",
      "mean       -0.005895\n",
      "std         2.286340\n",
      "min       -35.810778\n",
      "25%        -0.793788\n",
      "50%        -0.004749\n",
      "75%         0.779286\n",
      "max        16.954569\n",
      "dtype: float64\n",
      "Difference is centered in 0 and errors follow a normal curve\n"
     ]
    },
    {
     "data": {
      "image/png": "[encoded data removed]",
      "text/plain": [
       "<Figure size 432x288 with 1 Axes>"
      ]
     },
     "metadata": {
      "needs_background": "light"
     },
     "output_type": "display_data"
    }
   ],
   "source": [
    "# Comprobation\n",
    "diff = f - samplef\n",
    "pd.Series(diff).hist(bins=25)\n",
    "print(pd.Series(diff).describe())\n",
    "print(\"Difference is centered in 0 and errors follow a normal curve\")"
   ]
  },
  {
   "cell_type": "code",
   "execution_count": 27,
   "id": "900323cd",
   "metadata": {},
   "outputs": [
    {
     "data": {
      "text/plain": [
       "10.05101721957127"
      ]
     },
     "execution_count": 27,
     "metadata": {},
     "output_type": "execute_result"
    }
   ],
   "source": [
    "scipy.stats.f.ppf(0.99,10,5)"
   ]
  },
  {
   "cell_type": "code",
   "execution_count": 28,
   "id": "917b29fe",
   "metadata": {},
   "outputs": [
    {
     "data": {
      "text/plain": [
       "0.01000227680994581"
      ]
     },
     "execution_count": 28,
     "metadata": {},
     "output_type": "execute_result"
    }
   ],
   "source": [
    "1-scipy.stats.f.cdf(10.05,10,5)"
   ]
  },
  {
   "cell_type": "code",
   "execution_count": 29,
   "id": "309fde4b",
   "metadata": {},
   "outputs": [
    {
     "data": {
      "text/plain": [
       "0.9945733337151855"
      ]
     },
     "execution_count": 29,
     "metadata": {},
     "output_type": "execute_result"
    }
   ],
   "source": [
    "scipy.stats.t.cdf(2.58,148)"
   ]
  },
  {
   "cell_type": "code",
   "execution_count": null,
   "id": "a87edfe1",
   "metadata": {},
   "outputs": [],
   "source": []
  }
 ],
 "metadata": {
  "kernelspec": {
   "display_name": "Python 3",
   "language": "python",
   "name": "python3"
  },
  "language_info": {
   "codemirror_mode": {
    "name": "ipython",
    "version": 3
   },
   "file_extension": ".py",
   "mimetype": "text/x-python",
   "name": "python",
   "nbconvert_exporter": "python",
   "pygments_lexer": "ipython3",
   "version": "3.7.5"
  }
 },
 "nbformat": 4,
 "nbformat_minor": 5
}
