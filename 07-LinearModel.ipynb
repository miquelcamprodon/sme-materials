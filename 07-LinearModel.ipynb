{
 "cells": [
  {
   "cell_type": "code",
   "execution_count": 1,
   "id": "b18bc8d4",
   "metadata": {},
   "outputs": [],
   "source": [
    "# Libraries\n",
    "import numpy as np\n",
    "import pandas as pd\n",
    "from datetime import datetime as dt\n",
    "from scipy import stats\n",
    "import statsmodels.formula.api as sm_formula\n",
    "import statsmodels.api as sm\n",
    "import scipy\n",
    "import math\n",
    "import matplotlib.pyplot as plt\n",
    "%matplotlib inline"
   ]
  },
  {
   "cell_type": "markdown",
   "id": "0cd27262",
   "metadata": {},
   "source": [
    "### Example: relation between beers and alcohol concentration in blood"
   ]
  },
  {
   "cell_type": "code",
   "execution_count": 2,
   "id": "632eb5ff",
   "metadata": {},
   "outputs": [],
   "source": [
    "# Prepare data\n",
    "df_cervalc = pd.DataFrame({'cerveses':[5,2,9,8,3,7,3,5,3,5,4,6,5,7,1,4],\n",
    "                          'alcohol':[0.1,0.03,0.19,0.12,0.04,0.095,0.070,\n",
    "                                     0.06,0.02,0.05,0.07,0.1,0.085,0.09,\n",
    "                                     0.01,0.05]})"
   ]
  },
  {
   "cell_type": "code",
   "execution_count": 3,
   "id": "809262e6",
   "metadata": {
    "scrolled": true
   },
   "outputs": [
    {
     "data": {
      "text/html": [
       "<div>\n",
       "<style scoped>\n",
       "    .dataframe tbody tr th:only-of-type {\n",
       "        vertical-align: middle;\n",
       "    }\n",
       "\n",
       "    .dataframe tbody tr th {\n",
       "        vertical-align: top;\n",
       "    }\n",
       "\n",
       "    .dataframe thead th {\n",
       "        text-align: right;\n",
       "    }\n",
       "</style>\n",
       "<table border=\"1\" class=\"dataframe\">\n",
       "  <thead>\n",
       "    <tr style=\"text-align: right;\">\n",
       "      <th></th>\n",
       "      <th>cerveses</th>\n",
       "      <th>alcohol</th>\n",
       "    </tr>\n",
       "  </thead>\n",
       "  <tbody>\n",
       "    <tr>\n",
       "      <th>0</th>\n",
       "      <td>5</td>\n",
       "      <td>0.100</td>\n",
       "    </tr>\n",
       "    <tr>\n",
       "      <th>1</th>\n",
       "      <td>2</td>\n",
       "      <td>0.030</td>\n",
       "    </tr>\n",
       "    <tr>\n",
       "      <th>2</th>\n",
       "      <td>9</td>\n",
       "      <td>0.190</td>\n",
       "    </tr>\n",
       "    <tr>\n",
       "      <th>3</th>\n",
       "      <td>8</td>\n",
       "      <td>0.120</td>\n",
       "    </tr>\n",
       "    <tr>\n",
       "      <th>4</th>\n",
       "      <td>3</td>\n",
       "      <td>0.040</td>\n",
       "    </tr>\n",
       "    <tr>\n",
       "      <th>5</th>\n",
       "      <td>7</td>\n",
       "      <td>0.095</td>\n",
       "    </tr>\n",
       "    <tr>\n",
       "      <th>6</th>\n",
       "      <td>3</td>\n",
       "      <td>0.070</td>\n",
       "    </tr>\n",
       "    <tr>\n",
       "      <th>7</th>\n",
       "      <td>5</td>\n",
       "      <td>0.060</td>\n",
       "    </tr>\n",
       "    <tr>\n",
       "      <th>8</th>\n",
       "      <td>3</td>\n",
       "      <td>0.020</td>\n",
       "    </tr>\n",
       "    <tr>\n",
       "      <th>9</th>\n",
       "      <td>5</td>\n",
       "      <td>0.050</td>\n",
       "    </tr>\n",
       "    <tr>\n",
       "      <th>10</th>\n",
       "      <td>4</td>\n",
       "      <td>0.070</td>\n",
       "    </tr>\n",
       "    <tr>\n",
       "      <th>11</th>\n",
       "      <td>6</td>\n",
       "      <td>0.100</td>\n",
       "    </tr>\n",
       "    <tr>\n",
       "      <th>12</th>\n",
       "      <td>5</td>\n",
       "      <td>0.085</td>\n",
       "    </tr>\n",
       "    <tr>\n",
       "      <th>13</th>\n",
       "      <td>7</td>\n",
       "      <td>0.090</td>\n",
       "    </tr>\n",
       "    <tr>\n",
       "      <th>14</th>\n",
       "      <td>1</td>\n",
       "      <td>0.010</td>\n",
       "    </tr>\n",
       "    <tr>\n",
       "      <th>15</th>\n",
       "      <td>4</td>\n",
       "      <td>0.050</td>\n",
       "    </tr>\n",
       "  </tbody>\n",
       "</table>\n",
       "</div>"
      ],
      "text/plain": [
       "    cerveses  alcohol\n",
       "0          5    0.100\n",
       "1          2    0.030\n",
       "2          9    0.190\n",
       "3          8    0.120\n",
       "4          3    0.040\n",
       "5          7    0.095\n",
       "6          3    0.070\n",
       "7          5    0.060\n",
       "8          3    0.020\n",
       "9          5    0.050\n",
       "10         4    0.070\n",
       "11         6    0.100\n",
       "12         5    0.085\n",
       "13         7    0.090\n",
       "14         1    0.010\n",
       "15         4    0.050"
      ]
     },
     "execution_count": 3,
     "metadata": {},
     "output_type": "execute_result"
    }
   ],
   "source": [
    "df_cervalc"
   ]
  },
  {
   "cell_type": "code",
   "execution_count": 4,
   "id": "545e6fde",
   "metadata": {},
   "outputs": [
    {
     "data": {
      "image/png": "[encoded data removed]",
      "text/plain": [
       "<Figure size 720x360 with 1 Axes>"
      ]
     },
     "metadata": {
      "needs_background": "light"
     },
     "output_type": "display_data"
    }
   ],
   "source": [
    "plt.figure(figsize=(10,5))\n",
    "plt.scatter(df_cervalc['cerveses'],df_cervalc['alcohol'])\n",
    "plt.title(\"Cerveses i alcohol a la sang\")\n",
    "plt.xlabel(\"Quantitat de cerveses\")\n",
    "plt.ylabel(\"Alcohol a la sang (g/l)\")\n",
    "plt.show()"
   ]
  },
  {
   "cell_type": "code",
   "execution_count": 4,
   "id": "b2f113c2",
   "metadata": {},
   "outputs": [
    {
     "name": "stdout",
     "output_type": "stream",
     "text": [
      "                            OLS Regression Results                            \n",
      "==============================================================================\n",
      "Dep. Variable:                alcohol   R-squared:                       0.800\n",
      "Model:                            OLS   Adj. R-squared:                  0.786\n",
      "Method:                 Least Squares   F-statistic:                     55.94\n",
      "Date:                Wed, 19 Jan 2022   Prob (F-statistic):           2.97e-06\n",
      "Time:                        23:08:15   Log-Likelihood:                 40.609\n",
      "No. Observations:                  16   AIC:                            -77.22\n",
      "Df Residuals:                      14   BIC:                            -75.67\n",
      "Df Model:                           1                                         \n",
      "Covariance Type:            nonrobust                                         \n",
      "==============================================================================\n",
      "                 coef    std err          t      P>|t|      [0.025      0.975]\n",
      "------------------------------------------------------------------------------\n",
      "Intercept     -0.0127      0.013     -1.005      0.332      -0.040       0.014\n",
      "cerveses       0.0180      0.002      7.480      0.000       0.013       0.023\n",
      "==============================================================================\n",
      "Omnibus:                        0.963   Durbin-Watson:                   2.100\n",
      "Prob(Omnibus):                  0.618   Jarque-Bera (JB):                0.859\n",
      "Skew:                           0.470   Prob(JB):                        0.651\n",
      "Kurtosis:                       2.364   Cond. No.                         13.4\n",
      "==============================================================================\n",
      "\n",
      "Notes:\n",
      "[1] Standard Errors assume that the covariance matrix of the errors is correctly specified.\n"
     ]
    },
    {
     "name": "stderr",
     "output_type": "stream",
     "text": [
      "/home/miquel/anaconda3/envs/bpenv37/lib/python3.7/site-packages/scipy/stats/stats.py:1604: UserWarning: kurtosistest only valid for n>=20 ... continuing anyway, n=16\n",
      "  \"anyway, n=%i\" % int(n))\n"
     ]
    }
   ],
   "source": [
    "mod = sm_formula.ols('alcohol ~ 1 + cerveses', data=df_cervalc)\n",
    "res = mod.fit()\n",
    "print(res.summary())"
   ]
  },
  {
   "cell_type": "code",
   "execution_count": 5,
   "id": "acc61383",
   "metadata": {},
   "outputs": [
    {
     "name": "stdout",
     "output_type": "stream",
     "text": [
      "Variance: 0.00041783249106372514\n",
      "Std. dev: 0.02044095132482158\n"
     ]
    }
   ],
   "source": [
    "var = sum(res.resid*res.resid)/(len(res.resid)-2)\n",
    "sd = math.sqrt(var)\n",
    "print(\"Variance: {}\".format(var))\n",
    "print(\"Std. dev: {}\".format(sd))    "
   ]
  },
  {
   "cell_type": "markdown",
   "id": "944e5378",
   "metadata": {},
   "source": [
    "### Example: relation between brightness of an screen and battery duration"
   ]
  },
  {
   "cell_type": "code",
   "execution_count": 5,
   "id": "46812d57",
   "metadata": {},
   "outputs": [],
   "source": [
    "# Prepare data\n",
    "df_screen = pd.DataFrame({'brillantor':[1,2,3,4,5,6,7,8,9,10],\n",
    "                          'duracio':[241,193,205,169,174,\n",
    "                                    134,163,124,111,92]})"
   ]
  },
  {
   "cell_type": "code",
   "execution_count": 6,
   "id": "3352f647",
   "metadata": {},
   "outputs": [
    {
     "name": "stdout",
     "output_type": "stream",
     "text": [
      "                            OLS Regression Results                            \n",
      "==============================================================================\n",
      "Dep. Variable:                duracio   R-squared:                       0.904\n",
      "Model:                            OLS   Adj. R-squared:                  0.892\n",
      "Method:                 Least Squares   F-statistic:                     75.39\n",
      "Date:                Thu, 28 Apr 2022   Prob (F-statistic):           2.41e-05\n",
      "Time:                        15:28:40   Log-Likelihood:                -40.205\n",
      "No. Observations:                  10   AIC:                             84.41\n",
      "Df Residuals:                       8   BIC:                             85.02\n",
      "Df Model:                           1                                         \n",
      "Covariance Type:            nonrobust                                         \n",
      "==============================================================================\n",
      "                 coef    std err          t      P>|t|      [0.025      0.975]\n",
      "------------------------------------------------------------------------------\n",
      "Intercept    239.8667     10.299     23.290      0.000     216.117     263.617\n",
      "brillantor   -14.4121      1.660     -8.683      0.000     -18.240     -10.584\n",
      "==============================================================================\n",
      "Omnibus:                        0.252   Durbin-Watson:                   3.209\n",
      "Prob(Omnibus):                  0.881   Jarque-Bera (JB):                0.405\n",
      "Skew:                           0.119   Prob(JB):                        0.817\n",
      "Kurtosis:                       2.044   Cond. No.                         13.7\n",
      "==============================================================================\n",
      "\n",
      "Notes:\n",
      "[1] Standard Errors assume that the covariance matrix of the errors is correctly specified.\n"
     ]
    },
    {
     "name": "stderr",
     "output_type": "stream",
     "text": [
      "/home/miquel/anaconda3/envs/bpenv37/lib/python3.7/site-packages/scipy/stats/stats.py:1604: UserWarning: kurtosistest only valid for n>=20 ... continuing anyway, n=10\n",
      "  \"anyway, n=%i\" % int(n))\n"
     ]
    }
   ],
   "source": [
    "mod = sm_formula.ols('duracio ~ 1 + brillantor', data=df_screen)\n",
    "res = mod.fit()\n",
    "print(res.summary())"
   ]
  },
  {
   "cell_type": "code",
   "execution_count": 7,
   "id": "3bdce406",
   "metadata": {},
   "outputs": [
    {
     "data": {
      "image/png": "[encoded data removed]",
      "text/plain": [
       "<Figure size 720x432 with 4 Axes>"
      ]
     },
     "metadata": {
      "needs_background": "light"
     },
     "output_type": "display_data"
    }
   ],
   "source": [
    "plt.rc(\"figure\", figsize=(10,6))\n",
    "fig = sm.graphics.plot_regress_exog(res, \"brillantor\")\n",
    "fig.tight_layout(pad=1.0)"
   ]
  },
  {
   "cell_type": "markdown",
   "id": "55067770",
   "metadata": {},
   "source": [
    "### Show confidence intervals for the forecast: for the mean or for individual observations"
   ]
  },
  {
   "cell_type": "code",
   "execution_count": 8,
   "id": "1246dee6",
   "metadata": {},
   "outputs": [],
   "source": [
    "df_screen_fct = pd.DataFrame({'brillantor':[11,12,13]})"
   ]
  },
  {
   "cell_type": "code",
   "execution_count": 9,
   "id": "ae50bb31",
   "metadata": {},
   "outputs": [
    {
     "data": {
      "text/html": [
       "<div>\n",
       "<style scoped>\n",
       "    .dataframe tbody tr th:only-of-type {\n",
       "        vertical-align: middle;\n",
       "    }\n",
       "\n",
       "    .dataframe tbody tr th {\n",
       "        vertical-align: top;\n",
       "    }\n",
       "\n",
       "    .dataframe thead th {\n",
       "        text-align: right;\n",
       "    }\n",
       "</style>\n",
       "<table border=\"1\" class=\"dataframe\">\n",
       "  <thead>\n",
       "    <tr style=\"text-align: right;\">\n",
       "      <th></th>\n",
       "      <th>mean</th>\n",
       "      <th>mean_se</th>\n",
       "      <th>mean_ci_lower</th>\n",
       "      <th>mean_ci_upper</th>\n",
       "      <th>obs_ci_lower</th>\n",
       "      <th>obs_ci_upper</th>\n",
       "    </tr>\n",
       "  </thead>\n",
       "  <tbody>\n",
       "    <tr>\n",
       "      <th>0</th>\n",
       "      <td>81.333333</td>\n",
       "      <td>10.299157</td>\n",
       "      <td>57.583436</td>\n",
       "      <td>105.083231</td>\n",
       "      <td>39.229265</td>\n",
       "      <td>123.437402</td>\n",
       "    </tr>\n",
       "    <tr>\n",
       "      <th>1</th>\n",
       "      <td>66.921212</td>\n",
       "      <td>11.795517</td>\n",
       "      <td>39.720701</td>\n",
       "      <td>94.121723</td>\n",
       "      <td>22.778684</td>\n",
       "      <td>111.063740</td>\n",
       "    </tr>\n",
       "    <tr>\n",
       "      <th>2</th>\n",
       "      <td>52.509091</td>\n",
       "      <td>13.330645</td>\n",
       "      <td>21.768569</td>\n",
       "      <td>83.249613</td>\n",
       "      <td>6.101391</td>\n",
       "      <td>98.916791</td>\n",
       "    </tr>\n",
       "  </tbody>\n",
       "</table>\n",
       "</div>"
      ],
      "text/plain": [
       "        mean    mean_se  mean_ci_lower  mean_ci_upper  obs_ci_lower  \\\n",
       "0  81.333333  10.299157      57.583436     105.083231     39.229265   \n",
       "1  66.921212  11.795517      39.720701      94.121723     22.778684   \n",
       "2  52.509091  13.330645      21.768569      83.249613      6.101391   \n",
       "\n",
       "   obs_ci_upper  \n",
       "0    123.437402  \n",
       "1    111.063740  \n",
       "2     98.916791  "
      ]
     },
     "execution_count": 9,
     "metadata": {},
     "output_type": "execute_result"
    }
   ],
   "source": [
    "res.get_prediction(df_screen_fct).summary_frame(alpha=0.05)"
   ]
  },
  {
   "cell_type": "markdown",
   "id": "276b5ebb",
   "metadata": {},
   "source": [
    "### Forecasting example"
   ]
  },
  {
   "cell_type": "code",
   "execution_count": 11,
   "id": "c6b929a0",
   "metadata": {},
   "outputs": [],
   "source": [
    "# Prepare data\n",
    "df_modem = pd.DataFrame({'Tam1Mb':[1.59129, 1.59129, 0.51858, 1.29297,\n",
    "                                   0.14062, 0.22461, 0.66895, 2.68000],\n",
    "                         'Tpo1Mb':[23.22, 14.56, 6.07, 13.50, \n",
    "                                   1.38, 2.24, 5.95, 23.45]})"
   ]
  },
  {
   "cell_type": "code",
   "execution_count": 12,
   "id": "937165e1",
   "metadata": {},
   "outputs": [
    {
     "name": "stdout",
     "output_type": "stream",
     "text": [
      "                            OLS Regression Results                            \n",
      "==============================================================================\n",
      "Dep. Variable:                 Tpo1Mb   R-squared:                       0.879\n",
      "Model:                            OLS   Adj. R-squared:                  0.859\n",
      "Method:                 Least Squares   F-statistic:                     43.49\n",
      "Date:                Sun, 02 Jan 2022   Prob (F-statistic):           0.000584\n",
      "Time:                        23:57:29   Log-Likelihood:                -19.772\n",
      "No. Observations:                   8   AIC:                             43.54\n",
      "Df Residuals:                       6   BIC:                             43.70\n",
      "Df Model:                           1                                         \n",
      "Covariance Type:            nonrobust                                         \n",
      "==============================================================================\n",
      "                 coef    std err          t      P>|t|      [0.025      0.975]\n",
      "------------------------------------------------------------------------------\n",
      "Intercept      0.9076      1.962      0.463      0.660      -3.893       5.708\n",
      "Tam1Mb         9.5436      1.447      6.595      0.001       6.003      13.085\n",
      "==============================================================================\n",
      "Omnibus:                       14.560   Durbin-Watson:                   1.256\n",
      "Prob(Omnibus):                  0.001   Jarque-Bera (JB):                5.300\n",
      "Skew:                           1.737   Prob(JB):                       0.0706\n",
      "Kurtosis:                       4.959   Cond. No.                         3.20\n",
      "==============================================================================\n",
      "\n",
      "Notes:\n",
      "[1] Standard Errors assume that the covariance matrix of the errors is correctly specified.\n"
     ]
    },
    {
     "name": "stderr",
     "output_type": "stream",
     "text": [
      "/home/miquel/anaconda3/envs/bpenv37/lib/python3.7/site-packages/scipy/stats/stats.py:1604: UserWarning: kurtosistest only valid for n>=20 ... continuing anyway, n=8\n",
      "  \"anyway, n=%i\" % int(n))\n"
     ]
    }
   ],
   "source": [
    "mod = sm_formula.ols('Tpo1Mb ~ 1 + Tam1Mb', data=df_modem)\n",
    "res = mod.fit()\n",
    "print(res.summary())"
   ]
  },
  {
   "cell_type": "code",
   "execution_count": 13,
   "id": "2e874c24",
   "metadata": {},
   "outputs": [],
   "source": [
    "df_modem['log_Tam1Mb'] = df_modem['Tam1Mb'].apply(lambda x: math.log(x))\n",
    "df_modem['log_Tpo1Mb'] = df_modem['Tpo1Mb'].apply(lambda x: math.log(x))"
   ]
  },
  {
   "cell_type": "code",
   "execution_count": 14,
   "id": "961b815a",
   "metadata": {},
   "outputs": [
    {
     "name": "stdout",
     "output_type": "stream",
     "text": [
      "                            OLS Regression Results                            \n",
      "==============================================================================\n",
      "Dep. Variable:             log_Tpo1Mb   R-squared:                       0.974\n",
      "Model:                            OLS   Adj. R-squared:                  0.970\n",
      "Method:                 Least Squares   F-statistic:                     224.2\n",
      "Date:                Sun, 02 Jan 2022   Prob (F-statistic):           5.59e-06\n",
      "Time:                        23:57:29   Log-Likelihood:                 3.3478\n",
      "No. Observations:                   8   AIC:                            -2.696\n",
      "Df Residuals:                       6   BIC:                            -2.537\n",
      "Df Model:                           1                                         \n",
      "Covariance Type:            nonrobust                                         \n",
      "==============================================================================\n",
      "                 coef    std err          t      P>|t|      [0.025      0.975]\n",
      "------------------------------------------------------------------------------\n",
      "Intercept      2.3322      0.068     34.333      0.000       2.166       2.498\n",
      "log_Tam1Mb     1.0083      0.067     14.974      0.000       0.844       1.173\n",
      "==============================================================================\n",
      "Omnibus:                        4.193   Durbin-Watson:                   1.559\n",
      "Prob(Omnibus):                  0.123   Jarque-Bera (JB):                1.426\n",
      "Skew:                           1.033   Prob(JB):                        0.490\n",
      "Kurtosis:                       3.091   Cond. No.                         1.35\n",
      "==============================================================================\n",
      "\n",
      "Notes:\n",
      "[1] Standard Errors assume that the covariance matrix of the errors is correctly specified.\n"
     ]
    },
    {
     "name": "stderr",
     "output_type": "stream",
     "text": [
      "/home/miquel/anaconda3/envs/bpenv37/lib/python3.7/site-packages/scipy/stats/stats.py:1604: UserWarning: kurtosistest only valid for n>=20 ... continuing anyway, n=8\n",
      "  \"anyway, n=%i\" % int(n))\n"
     ]
    }
   ],
   "source": [
    "mod = sm_formula.ols('log_Tpo1Mb ~ 1 + log_Tam1Mb', data=df_modem)\n",
    "res = mod.fit()\n",
    "print(res.summary())"
   ]
  },
  {
   "cell_type": "code",
   "execution_count": 15,
   "id": "0e57d6e8",
   "metadata": {},
   "outputs": [
    {
     "data": {
      "text/html": [
       "<div>\n",
       "<style scoped>\n",
       "    .dataframe tbody tr th:only-of-type {\n",
       "        vertical-align: middle;\n",
       "    }\n",
       "\n",
       "    .dataframe tbody tr th {\n",
       "        vertical-align: top;\n",
       "    }\n",
       "\n",
       "    .dataframe thead th {\n",
       "        text-align: right;\n",
       "    }\n",
       "</style>\n",
       "<table border=\"1\" class=\"dataframe\">\n",
       "  <thead>\n",
       "    <tr style=\"text-align: right;\">\n",
       "      <th></th>\n",
       "      <th>mean</th>\n",
       "      <th>mean_se</th>\n",
       "      <th>mean_ci_lower</th>\n",
       "      <th>mean_ci_upper</th>\n",
       "      <th>obs_ci_lower</th>\n",
       "      <th>obs_ci_upper</th>\n",
       "    </tr>\n",
       "  </thead>\n",
       "  <tbody>\n",
       "    <tr>\n",
       "      <th>0</th>\n",
       "      <td>2.800610</td>\n",
       "      <td>0.082620</td>\n",
       "      <td>2.598447</td>\n",
       "      <td>3.002774</td>\n",
       "      <td>2.307383</td>\n",
       "      <td>3.293837</td>\n",
       "    </tr>\n",
       "    <tr>\n",
       "      <th>1</th>\n",
       "      <td>2.800610</td>\n",
       "      <td>0.082620</td>\n",
       "      <td>2.598447</td>\n",
       "      <td>3.002774</td>\n",
       "      <td>2.307383</td>\n",
       "      <td>3.293837</td>\n",
       "    </tr>\n",
       "    <tr>\n",
       "      <th>2</th>\n",
       "      <td>1.670073</td>\n",
       "      <td>0.069470</td>\n",
       "      <td>1.500085</td>\n",
       "      <td>1.840061</td>\n",
       "      <td>1.189138</td>\n",
       "      <td>2.151009</td>\n",
       "    </tr>\n",
       "    <tr>\n",
       "      <th>3</th>\n",
       "      <td>2.591279</td>\n",
       "      <td>0.074804</td>\n",
       "      <td>2.408240</td>\n",
       "      <td>2.774319</td>\n",
       "      <td>2.105577</td>\n",
       "      <td>3.076981</td>\n",
       "    </tr>\n",
       "    <tr>\n",
       "      <th>4</th>\n",
       "      <td>0.354179</td>\n",
       "      <td>0.129830</td>\n",
       "      <td>0.036497</td>\n",
       "      <td>0.671862</td>\n",
       "      <td>-0.196570</td>\n",
       "      <td>0.904929</td>\n",
       "    </tr>\n",
       "    <tr>\n",
       "      <th>5</th>\n",
       "      <td>0.826381</td>\n",
       "      <td>0.103741</td>\n",
       "      <td>0.572536</td>\n",
       "      <td>1.080227</td>\n",
       "      <td>0.309815</td>\n",
       "      <td>1.342947</td>\n",
       "    </tr>\n",
       "    <tr>\n",
       "      <th>6</th>\n",
       "      <td>1.926807</td>\n",
       "      <td>0.065420</td>\n",
       "      <td>1.766730</td>\n",
       "      <td>2.086885</td>\n",
       "      <td>1.449285</td>\n",
       "      <td>2.404330</td>\n",
       "    </tr>\n",
       "    <tr>\n",
       "      <th>7</th>\n",
       "      <td>3.326220</td>\n",
       "      <td>0.107880</td>\n",
       "      <td>3.062247</td>\n",
       "      <td>3.590193</td>\n",
       "      <td>2.804603</td>\n",
       "      <td>3.847837</td>\n",
       "    </tr>\n",
       "  </tbody>\n",
       "</table>\n",
       "</div>"
      ],
      "text/plain": [
       "       mean   mean_se  mean_ci_lower  mean_ci_upper  obs_ci_lower  \\\n",
       "0  2.800610  0.082620       2.598447       3.002774      2.307383   \n",
       "1  2.800610  0.082620       2.598447       3.002774      2.307383   \n",
       "2  1.670073  0.069470       1.500085       1.840061      1.189138   \n",
       "3  2.591279  0.074804       2.408240       2.774319      2.105577   \n",
       "4  0.354179  0.129830       0.036497       0.671862     -0.196570   \n",
       "5  0.826381  0.103741       0.572536       1.080227      0.309815   \n",
       "6  1.926807  0.065420       1.766730       2.086885      1.449285   \n",
       "7  3.326220  0.107880       3.062247       3.590193      2.804603   \n",
       "\n",
       "   obs_ci_upper  \n",
       "0      3.293837  \n",
       "1      3.293837  \n",
       "2      2.151009  \n",
       "3      3.076981  \n",
       "4      0.904929  \n",
       "5      1.342947  \n",
       "6      2.404330  \n",
       "7      3.847837  "
      ]
     },
     "execution_count": 15,
     "metadata": {},
     "output_type": "execute_result"
    }
   ],
   "source": [
    "res.get_prediction(df_modem).summary_frame(alpha=0.05)"
   ]
  },
  {
   "cell_type": "markdown",
   "id": "94927d02",
   "metadata": {},
   "source": [
    "### Model validation"
   ]
  },
  {
   "cell_type": "code",
   "execution_count": 13,
   "id": "ca638d4f",
   "metadata": {},
   "outputs": [
    {
     "name": "stdout",
     "output_type": "stream",
     "text": [
      "                            OLS Regression Results                            \n",
      "==============================================================================\n",
      "Dep. Variable:                alcohol   R-squared:                       0.800\n",
      "Model:                            OLS   Adj. R-squared:                  0.786\n",
      "Method:                 Least Squares   F-statistic:                     55.94\n",
      "Date:                Thu, 28 Apr 2022   Prob (F-statistic):           2.97e-06\n",
      "Time:                        15:36:04   Log-Likelihood:                 40.609\n",
      "No. Observations:                  16   AIC:                            -77.22\n",
      "Df Residuals:                      14   BIC:                            -75.67\n",
      "Df Model:                           1                                         \n",
      "Covariance Type:            nonrobust                                         \n",
      "==============================================================================\n",
      "                 coef    std err          t      P>|t|      [0.025      0.975]\n",
      "------------------------------------------------------------------------------\n",
      "Intercept     -0.0127      0.013     -1.005      0.332      -0.040       0.014\n",
      "cerveses       0.0180      0.002      7.480      0.000       0.013       0.023\n",
      "==============================================================================\n",
      "Omnibus:                        0.963   Durbin-Watson:                   2.100\n",
      "Prob(Omnibus):                  0.618   Jarque-Bera (JB):                0.859\n",
      "Skew:                           0.470   Prob(JB):                        0.651\n",
      "Kurtosis:                       2.364   Cond. No.                         13.4\n",
      "==============================================================================\n",
      "\n",
      "Notes:\n",
      "[1] Standard Errors assume that the covariance matrix of the errors is correctly specified.\n"
     ]
    },
    {
     "name": "stderr",
     "output_type": "stream",
     "text": [
      "/home/miquel/anaconda3/envs/bpenv37/lib/python3.7/site-packages/scipy/stats/stats.py:1604: UserWarning: kurtosistest only valid for n>=20 ... continuing anyway, n=16\n",
      "  \"anyway, n=%i\" % int(n))\n"
     ]
    }
   ],
   "source": [
    "# Alcohol vs number of beers\n",
    "mod = sm_formula.ols('alcohol ~ 1 + cerveses', data=df_cervalc)\n",
    "res = mod.fit()\n",
    "print(res.summary())\n",
    "resid = res.resid\n",
    "influence = res.get_influence()\n",
    "\n",
    "#leverage (hat values)\n",
    "leverage = influence.hat_matrix_diag\n",
    "#Cook's D values (and p-values) as tuple of arrays\n",
    "cooks_d = influence.cooks_distance\n",
    "#standardized residuals\n",
    "standardized_residuals = influence.resid_studentized_internal\n",
    "#studentized residuals\n",
    "studentized_residuals = influence.resid_studentized_external"
   ]
  },
  {
   "cell_type": "code",
   "execution_count": 17,
   "id": "7c212bfe",
   "metadata": {},
   "outputs": [
    {
     "data": {
      "text/plain": [
       "<matplotlib.collections.PathCollection at 0x7f7395464290>"
      ]
     },
     "execution_count": 17,
     "metadata": {},
     "output_type": "execute_result"
    },
    {
     "data": {
      "image/png": "[encoded data removed]",
      "text/plain": [
       "<Figure size 720x432 with 1 Axes>"
      ]
     },
     "metadata": {
      "needs_background": "light"
     },
     "output_type": "display_data"
    }
   ],
   "source": [
    "plt.scatter(df_cervalc['alcohol'],resid)"
   ]
  },
  {
   "cell_type": "code",
   "execution_count": 18,
   "id": "2cd583a5",
   "metadata": {},
   "outputs": [
    {
     "name": "stderr",
     "output_type": "stream",
     "text": [
      "/home/miquel/anaconda3/envs/bpenv37/lib/python3.7/site-packages/statsmodels/graphics/gofplots.py:993: UserWarning: marker is redundantly defined by the 'marker' keyword argument and the fmt string \"bo\" (-> marker='o'). The keyword argument will take precedence.\n",
      "  ax.plot(x, y, fmt, **plot_style)\n"
     ]
    },
    {
     "data": {
      "image/png": "[encoded data removed]",
      "text/plain": [
       "<Figure size 720x432 with 1 Axes>"
      ]
     },
     "metadata": {
      "needs_background": "light"
     },
     "output_type": "display_data"
    }
   ],
   "source": [
    "fig = sm.qqplot(resid, stats.t, fit=True, line=\"45\")"
   ]
  },
  {
   "cell_type": "code",
   "execution_count": 16,
   "id": "0b180c95",
   "metadata": {},
   "outputs": [
    {
     "data": {
      "text/plain": [
       "<AxesSubplot:>"
      ]
     },
     "execution_count": 16,
     "metadata": {},
     "output_type": "execute_result"
    },
    {
     "data": {
      "image/png": "[encoded data removed]",
      "text/plain": [
       "<Figure size 720x432 with 1 Axes>"
      ]
     },
     "metadata": {
      "needs_background": "light"
     },
     "output_type": "display_data"
    }
   ],
   "source": [
    "resid.hist(bins=5)"
   ]
  },
  {
   "cell_type": "code",
   "execution_count": 20,
   "id": "c17197b5",
   "metadata": {},
   "outputs": [
    {
     "data": {
      "text/plain": [
       "<AxesSubplot:>"
      ]
     },
     "execution_count": 20,
     "metadata": {},
     "output_type": "execute_result"
    },
    {
     "data": {
      "image/png": "[encoded data removed]",
      "text/plain": [
       "<Figure size 720x432 with 1 Axes>"
      ]
     },
     "metadata": {
      "needs_background": "light"
     },
     "output_type": "display_data"
    }
   ],
   "source": [
    "resid.plot()"
   ]
  },
  {
   "cell_type": "code",
   "execution_count": 21,
   "id": "caa82594",
   "metadata": {},
   "outputs": [
    {
     "name": "stdout",
     "output_type": "stream",
     "text": [
      "                            OLS Regression Results                            \n",
      "==============================================================================\n",
      "Dep. Variable:                duracio   R-squared:                       0.904\n",
      "Model:                            OLS   Adj. R-squared:                  0.892\n",
      "Method:                 Least Squares   F-statistic:                     75.39\n",
      "Date:                Sun, 02 Jan 2022   Prob (F-statistic):           2.41e-05\n",
      "Time:                        23:57:30   Log-Likelihood:                -40.205\n",
      "No. Observations:                  10   AIC:                             84.41\n",
      "Df Residuals:                       8   BIC:                             85.02\n",
      "Df Model:                           1                                         \n",
      "Covariance Type:            nonrobust                                         \n",
      "==============================================================================\n",
      "                 coef    std err          t      P>|t|      [0.025      0.975]\n",
      "------------------------------------------------------------------------------\n",
      "Intercept    239.8667     10.299     23.290      0.000     216.117     263.617\n",
      "brillantor   -14.4121      1.660     -8.683      0.000     -18.240     -10.584\n",
      "==============================================================================\n",
      "Omnibus:                        0.252   Durbin-Watson:                   3.209\n",
      "Prob(Omnibus):                  0.881   Jarque-Bera (JB):                0.405\n",
      "Skew:                           0.119   Prob(JB):                        0.817\n",
      "Kurtosis:                       2.044   Cond. No.                         13.7\n",
      "==============================================================================\n",
      "\n",
      "Notes:\n",
      "[1] Standard Errors assume that the covariance matrix of the errors is correctly specified.\n"
     ]
    },
    {
     "name": "stderr",
     "output_type": "stream",
     "text": [
      "/home/miquel/anaconda3/envs/bpenv37/lib/python3.7/site-packages/scipy/stats/stats.py:1604: UserWarning: kurtosistest only valid for n>=20 ... continuing anyway, n=10\n",
      "  \"anyway, n=%i\" % int(n))\n"
     ]
    }
   ],
   "source": [
    "# battery duration vs brightness\n",
    "mod = sm_formula.ols('duracio ~ 1 + brillantor', data=df_screen)\n",
    "res = mod.fit()\n",
    "print(res.summary())\n",
    "resid = res.resid\n",
    "influence = res.get_influence()\n",
    "\n",
    "#leverage (hat values)\n",
    "leverage = influence.hat_matrix_diag\n",
    "#Cook's D values (and p-values) as tuple of arrays\n",
    "cooks_d = influence.cooks_distance\n",
    "#standardized residuals\n",
    "standardized_residuals = influence.resid_studentized_internal\n",
    "#studentized residuals\n",
    "studentized_residuals = influence.resid_studentized_external"
   ]
  },
  {
   "cell_type": "code",
   "execution_count": 22,
   "id": "f4f86329",
   "metadata": {},
   "outputs": [
    {
     "data": {
      "text/plain": [
       "<matplotlib.collections.PathCollection at 0x7f7394d8ea10>"
      ]
     },
     "execution_count": 22,
     "metadata": {},
     "output_type": "execute_result"
    },
    {
     "data": {
      "image/png": "[encoded data removed]",
      "text/plain": [
       "<Figure size 720x432 with 1 Axes>"
      ]
     },
     "metadata": {
      "needs_background": "light"
     },
     "output_type": "display_data"
    }
   ],
   "source": [
    "plt.scatter(df_screen['duracio'],resid)"
   ]
  },
  {
   "cell_type": "code",
   "execution_count": 23,
   "id": "a5dd5603",
   "metadata": {},
   "outputs": [
    {
     "name": "stderr",
     "output_type": "stream",
     "text": [
      "/home/miquel/anaconda3/envs/bpenv37/lib/python3.7/site-packages/statsmodels/graphics/gofplots.py:993: UserWarning: marker is redundantly defined by the 'marker' keyword argument and the fmt string \"bo\" (-> marker='o'). The keyword argument will take precedence.\n",
      "  ax.plot(x, y, fmt, **plot_style)\n"
     ]
    },
    {
     "data": {
      "image/png": "[encoded data removed]",
      "text/plain": [
       "<Figure size 720x432 with 1 Axes>"
      ]
     },
     "metadata": {
      "needs_background": "light"
     },
     "output_type": "display_data"
    }
   ],
   "source": [
    "resid = res.resid\n",
    "fig = sm.qqplot(resid, stats.t, fit=True, line=\"45\")"
   ]
  },
  {
   "cell_type": "code",
   "execution_count": 24,
   "id": "261eff77",
   "metadata": {},
   "outputs": [
    {
     "data": {
      "text/plain": [
       "<AxesSubplot:>"
      ]
     },
     "execution_count": 24,
     "metadata": {},
     "output_type": "execute_result"
    },
    {
     "data": {
      "image/png": "[encoded data removed]",
      "text/plain": [
       "<Figure size 720x432 with 1 Axes>"
      ]
     },
     "metadata": {
      "needs_background": "light"
     },
     "output_type": "display_data"
    }
   ],
   "source": [
    "resid.hist(bins=5)"
   ]
  },
  {
   "cell_type": "code",
   "execution_count": 25,
   "id": "7d2421f2",
   "metadata": {},
   "outputs": [
    {
     "data": {
      "text/plain": [
       "<AxesSubplot:>"
      ]
     },
     "execution_count": 25,
     "metadata": {},
     "output_type": "execute_result"
    },
    {
     "data": {
      "image/png": "[encoded data removed]",
      "text/plain": [
       "<Figure size 720x432 with 1 Axes>"
      ]
     },
     "metadata": {
      "needs_background": "light"
     },
     "output_type": "display_data"
    }
   ],
   "source": [
    "resid.plot()"
   ]
  },
  {
   "cell_type": "markdown",
   "id": "68714767",
   "metadata": {},
   "source": [
    "### Analysis of Variance - ANOVA"
   ]
  },
  {
   "cell_type": "code",
   "execution_count": 26,
   "id": "93fb372e",
   "metadata": {},
   "outputs": [
    {
     "data": {
      "text/html": [
       "<div>\n",
       "<style scoped>\n",
       "    .dataframe tbody tr th:only-of-type {\n",
       "        vertical-align: middle;\n",
       "    }\n",
       "\n",
       "    .dataframe tbody tr th {\n",
       "        vertical-align: top;\n",
       "    }\n",
       "\n",
       "    .dataframe thead th {\n",
       "        text-align: right;\n",
       "    }\n",
       "</style>\n",
       "<table border=\"1\" class=\"dataframe\">\n",
       "  <thead>\n",
       "    <tr style=\"text-align: right;\">\n",
       "      <th></th>\n",
       "      <th>sum_sq</th>\n",
       "      <th>df</th>\n",
       "      <th>F</th>\n",
       "      <th>PR(&gt;F)</th>\n",
       "    </tr>\n",
       "  </thead>\n",
       "  <tbody>\n",
       "    <tr>\n",
       "      <th>brillantor</th>\n",
       "      <td>17136.012121</td>\n",
       "      <td>1.0</td>\n",
       "      <td>75.389909</td>\n",
       "      <td>0.000024</td>\n",
       "    </tr>\n",
       "    <tr>\n",
       "      <th>Residual</th>\n",
       "      <td>1818.387879</td>\n",
       "      <td>8.0</td>\n",
       "      <td>NaN</td>\n",
       "      <td>NaN</td>\n",
       "    </tr>\n",
       "  </tbody>\n",
       "</table>\n",
       "</div>"
      ],
      "text/plain": [
       "                  sum_sq   df          F    PR(>F)\n",
       "brillantor  17136.012121  1.0  75.389909  0.000024\n",
       "Residual     1818.387879  8.0        NaN       NaN"
      ]
     },
     "execution_count": 26,
     "metadata": {},
     "output_type": "execute_result"
    }
   ],
   "source": [
    "table = sm.stats.anova_lm(res, typ=2) # Type 2 ANOVA DataFrame\n",
    "table"
   ]
  },
  {
   "cell_type": "code",
   "execution_count": 27,
   "id": "1ef5ee5f",
   "metadata": {},
   "outputs": [],
   "source": [
    "df_nodes = pd.DataFrame({\n",
    "    'nodes':[250,250,250,250,250,250,\n",
    "            500,500,500,500,500,500,\n",
    "            1000,1000,1000,1000,1000,1000],\n",
    "    'lgt':[2.31,4.48,2.59,3.06,2.10,3.95,\n",
    "            3.94,6.38,6.52,5.27,3.72,3.61,\n",
    "           6.45,7.32,6.76,6.08,8.35,6.01]})"
   ]
  },
  {
   "cell_type": "code",
   "execution_count": 28,
   "id": "ba7791a4",
   "metadata": {},
   "outputs": [
    {
     "data": {
      "text/html": [
       "<div>\n",
       "<style scoped>\n",
       "    .dataframe tbody tr th:only-of-type {\n",
       "        vertical-align: middle;\n",
       "    }\n",
       "\n",
       "    .dataframe tbody tr th {\n",
       "        vertical-align: top;\n",
       "    }\n",
       "\n",
       "    .dataframe thead th {\n",
       "        text-align: right;\n",
       "    }\n",
       "</style>\n",
       "<table border=\"1\" class=\"dataframe\">\n",
       "  <thead>\n",
       "    <tr style=\"text-align: right;\">\n",
       "      <th></th>\n",
       "      <th>sum_sq</th>\n",
       "      <th>df</th>\n",
       "      <th>F</th>\n",
       "      <th>PR(&gt;F)</th>\n",
       "    </tr>\n",
       "  </thead>\n",
       "  <tbody>\n",
       "    <tr>\n",
       "      <th>C(nodes)</th>\n",
       "      <td>42.121878</td>\n",
       "      <td>2.0</td>\n",
       "      <td>18.18221</td>\n",
       "      <td>0.000098</td>\n",
       "    </tr>\n",
       "    <tr>\n",
       "      <th>Residual</th>\n",
       "      <td>17.374900</td>\n",
       "      <td>15.0</td>\n",
       "      <td>NaN</td>\n",
       "      <td>NaN</td>\n",
       "    </tr>\n",
       "  </tbody>\n",
       "</table>\n",
       "</div>"
      ],
      "text/plain": [
       "             sum_sq    df         F    PR(>F)\n",
       "C(nodes)  42.121878   2.0  18.18221  0.000098\n",
       "Residual  17.374900  15.0       NaN       NaN"
      ]
     },
     "execution_count": 28,
     "metadata": {},
     "output_type": "execute_result"
    }
   ],
   "source": [
    "res = sm_formula.ols('lgt ~ 1 + C(nodes)', data=df_nodes).fit()\n",
    "table = sm.stats.anova_lm(res, typ=2) # Type 2 ANOVA DataFrame\n",
    "table"
   ]
  },
  {
   "cell_type": "code",
   "execution_count": 29,
   "id": "6f4744ec",
   "metadata": {},
   "outputs": [],
   "source": [
    "### Fisher distribution test"
   ]
  },
  {
   "cell_type": "code",
   "execution_count": 30,
   "id": "4fd892f4",
   "metadata": {},
   "outputs": [
    {
     "data": {
      "text/plain": [
       "0.35390381161213624"
      ]
     },
     "execution_count": 30,
     "metadata": {},
     "output_type": "execute_result"
    }
   ],
   "source": [
    "1-scipy.stats.f.cdf(1.052, 2, 82)"
   ]
  },
  {
   "cell_type": "code",
   "execution_count": 31,
   "id": "2a9469db",
   "metadata": {},
   "outputs": [
    {
     "data": {
      "text/plain": [
       "9.881075201600975e-05"
      ]
     },
     "execution_count": 31,
     "metadata": {},
     "output_type": "execute_result"
    }
   ],
   "source": [
    "1-scipy.stats.f.cdf(18.15, 2, 15)"
   ]
  },
  {
   "cell_type": "markdown",
   "id": "3073e15e",
   "metadata": {},
   "source": [
    "### Speed vs fuel"
   ]
  },
  {
   "cell_type": "code",
   "execution_count": 32,
   "id": "9bce78ac",
   "metadata": {},
   "outputs": [],
   "source": [
    "df_speed = pd.DataFrame({\n",
    "    'speed':[10,20,30,40,50,60,70,80,90,100,110,120,130,140,150],\n",
    "    'fuel':[21,13,10,8,7,5.9,6.3,6.95,7.57,8.27,9.03,9.87,10.79,11.77,12.83]      \n",
    "})"
   ]
  },
  {
   "cell_type": "code",
   "execution_count": 33,
   "id": "2c5ce10f",
   "metadata": {},
   "outputs": [
    {
     "data": {
      "text/plain": [
       "<matplotlib.collections.PathCollection at 0x7f7394d0ab10>"
      ]
     },
     "execution_count": 33,
     "metadata": {},
     "output_type": "execute_result"
    },
    {
     "data": {
      "image/png": "[encoded data removed]",
      "text/plain": [
       "<Figure size 720x432 with 1 Axes>"
      ]
     },
     "metadata": {
      "needs_background": "light"
     },
     "output_type": "display_data"
    }
   ],
   "source": [
    "plt.scatter(df_speed['speed'],df_speed['fuel'])"
   ]
  },
  {
   "cell_type": "code",
   "execution_count": 34,
   "id": "f2f80b8f",
   "metadata": {},
   "outputs": [],
   "source": [
    "# Linear model"
   ]
  },
  {
   "cell_type": "code",
   "execution_count": 35,
   "id": "24da1442",
   "metadata": {},
   "outputs": [
    {
     "name": "stdout",
     "output_type": "stream",
     "text": [
      "                            OLS Regression Results                            \n",
      "==============================================================================\n",
      "Dep. Variable:                   fuel   R-squared:                       0.029\n",
      "Model:                            OLS   Adj. R-squared:                 -0.045\n",
      "Method:                 Least Squares   F-statistic:                    0.3945\n",
      "Date:                Sun, 02 Jan 2022   Prob (F-statistic):              0.541\n",
      "Time:                        23:57:30   Log-Likelihood:                -40.644\n",
      "No. Observations:                  15   AIC:                             85.29\n",
      "Df Residuals:                      13   BIC:                             86.70\n",
      "Df Model:                           1                                         \n",
      "Covariance Type:            nonrobust                                         \n",
      "==============================================================================\n",
      "                 coef    std err          t      P>|t|      [0.025      0.975]\n",
      "------------------------------------------------------------------------------\n",
      "Intercept     11.0579      2.122      5.212      0.000       6.474      15.642\n",
      "speed         -0.0147      0.023     -0.628      0.541      -0.065       0.036\n",
      "==============================================================================\n",
      "Omnibus:                        8.789   Durbin-Watson:                   0.418\n",
      "Prob(Omnibus):                  0.012   Jarque-Bera (JB):                5.153\n",
      "Skew:                           1.257   Prob(JB):                       0.0760\n",
      "Kurtosis:                       4.386   Cond. No.                         191.\n",
      "==============================================================================\n",
      "\n",
      "Notes:\n",
      "[1] Standard Errors assume that the covariance matrix of the errors is correctly specified.\n"
     ]
    },
    {
     "name": "stderr",
     "output_type": "stream",
     "text": [
      "/home/miquel/anaconda3/envs/bpenv37/lib/python3.7/site-packages/scipy/stats/stats.py:1604: UserWarning: kurtosistest only valid for n>=20 ... continuing anyway, n=15\n",
      "  \"anyway, n=%i\" % int(n))\n"
     ]
    }
   ],
   "source": [
    "mod = sm_formula.ols('fuel ~ 1 + speed', data=df_speed)\n",
    "res = mod.fit()\n",
    "print(res.summary())"
   ]
  },
  {
   "cell_type": "code",
   "execution_count": 36,
   "id": "abdbdc40",
   "metadata": {},
   "outputs": [],
   "source": [
    "# Model is bad!"
   ]
  },
  {
   "cell_type": "code",
   "execution_count": 37,
   "id": "099388df",
   "metadata": {},
   "outputs": [
    {
     "name": "stderr",
     "output_type": "stream",
     "text": [
      "/home/miquel/anaconda3/envs/bpenv37/lib/python3.7/site-packages/statsmodels/graphics/gofplots.py:993: UserWarning: marker is redundantly defined by the 'marker' keyword argument and the fmt string \"bo\" (-> marker='o'). The keyword argument will take precedence.\n",
      "  ax.plot(x, y, fmt, **plot_style)\n"
     ]
    },
    {
     "data": {
      "image/png": "[encoded data removed]",
      "text/plain": [
       "<Figure size 720x432 with 1 Axes>"
      ]
     },
     "metadata": {
      "needs_background": "light"
     },
     "output_type": "display_data"
    }
   ],
   "source": [
    "resid = res.resid\n",
    "fig = sm.qqplot(resid, stats.t, fit=True, line=\"45\")"
   ]
  },
  {
   "cell_type": "code",
   "execution_count": 38,
   "id": "97902757",
   "metadata": {},
   "outputs": [],
   "source": [
    "# Try with a subsample"
   ]
  },
  {
   "cell_type": "code",
   "execution_count": 39,
   "id": "6fb12c21",
   "metadata": {},
   "outputs": [],
   "source": [
    "df_speed_subsample = df_speed[df_speed['speed']>60]"
   ]
  },
  {
   "cell_type": "code",
   "execution_count": 40,
   "id": "3ecfd382",
   "metadata": {},
   "outputs": [
    {
     "data": {
      "text/plain": [
       "<matplotlib.collections.PathCollection at 0x7f73955dfb90>"
      ]
     },
     "execution_count": 40,
     "metadata": {},
     "output_type": "execute_result"
    },
    {
     "data": {
      "image/png": "[encoded data removed]",
      "text/plain": [
       "<Figure size 720x432 with 1 Axes>"
      ]
     },
     "metadata": {
      "needs_background": "light"
     },
     "output_type": "display_data"
    }
   ],
   "source": [
    "plt.scatter(df_speed_subsample['speed'],df_speed_subsample['fuel'])"
   ]
  },
  {
   "cell_type": "code",
   "execution_count": 51,
   "id": "8750a0c3",
   "metadata": {},
   "outputs": [
    {
     "data": {
      "text/plain": [
       "Text(0, 0.5, 'consum de gasolina (litres/100km)')"
      ]
     },
     "execution_count": 51,
     "metadata": {},
     "output_type": "execute_result"
    },
    {
     "data": {
      "image/png": "[encoded data removed]",
      "text/plain": [
       "<Figure size 720x432 with 1 Axes>"
      ]
     },
     "metadata": {
      "needs_background": "light"
     },
     "output_type": "display_data"
    }
   ],
   "source": [
    "fig, ax = plt.subplots()\n",
    "ax.scatter(df_speed_subsample['speed'],df_speed_subsample['fuel'])\n",
    "ax.set_xlabel('velocitat (km/h)')\n",
    "ax.set_ylabel('consum de gasolina (litres/100km)')"
   ]
  },
  {
   "cell_type": "code",
   "execution_count": 41,
   "id": "ce5b339b",
   "metadata": {},
   "outputs": [
    {
     "name": "stdout",
     "output_type": "stream",
     "text": [
      "                            OLS Regression Results                            \n",
      "==============================================================================\n",
      "Dep. Variable:                   fuel   R-squared:                       0.991\n",
      "Model:                            OLS   Adj. R-squared:                  0.990\n",
      "Method:                 Least Squares   F-statistic:                     796.6\n",
      "Date:                Sun, 02 Jan 2022   Prob (F-statistic):           1.80e-08\n",
      "Time:                        23:57:30   Log-Likelihood:                 1.8902\n",
      "No. Observations:                   9   AIC:                            0.2196\n",
      "Df Residuals:                       7   BIC:                            0.6141\n",
      "Df Model:                           1                                         \n",
      "Covariance Type:            nonrobust                                         \n",
      "==============================================================================\n",
      "                 coef    std err          t      P>|t|      [0.025      0.975]\n",
      "------------------------------------------------------------------------------\n",
      "Intercept      0.3508      0.324      1.081      0.315      -0.416       1.118\n",
      "speed          0.0810      0.003     28.224      0.000       0.074       0.088\n",
      "==============================================================================\n",
      "Omnibus:                        1.463   Durbin-Watson:                   0.522\n",
      "Prob(Omnibus):                  0.481   Jarque-Bera (JB):                0.856\n",
      "Skew:                           0.417   Prob(JB):                        0.652\n",
      "Kurtosis:                       1.741   Cond. No.                         494.\n",
      "==============================================================================\n",
      "\n",
      "Notes:\n",
      "[1] Standard Errors assume that the covariance matrix of the errors is correctly specified.\n"
     ]
    },
    {
     "name": "stderr",
     "output_type": "stream",
     "text": [
      "/home/miquel/anaconda3/envs/bpenv37/lib/python3.7/site-packages/scipy/stats/stats.py:1604: UserWarning: kurtosistest only valid for n>=20 ... continuing anyway, n=9\n",
      "  \"anyway, n=%i\" % int(n))\n"
     ]
    }
   ],
   "source": [
    "mod = sm_formula.ols('fuel ~ 1 + speed', data=df_speed_subsample)\n",
    "res = mod.fit()\n",
    "print(res.summary())"
   ]
  },
  {
   "cell_type": "code",
   "execution_count": 42,
   "id": "61af0a8a",
   "metadata": {},
   "outputs": [
    {
     "name": "stderr",
     "output_type": "stream",
     "text": [
      "/home/miquel/anaconda3/envs/bpenv37/lib/python3.7/site-packages/statsmodels/graphics/gofplots.py:993: UserWarning: marker is redundantly defined by the 'marker' keyword argument and the fmt string \"bo\" (-> marker='o'). The keyword argument will take precedence.\n",
      "  ax.plot(x, y, fmt, **plot_style)\n"
     ]
    },
    {
     "data": {
      "image/png": "[encoded data removed]",
      "text/plain": [
       "<Figure size 720x432 with 1 Axes>"
      ]
     },
     "metadata": {
      "needs_background": "light"
     },
     "output_type": "display_data"
    }
   ],
   "source": [
    "resid = res.resid\n",
    "fig = sm.qqplot(resid, stats.t, fit=True, line=\"45\")"
   ]
  },
  {
   "cell_type": "markdown",
   "id": "30c6ac5d",
   "metadata": {},
   "source": [
    "### Example. Logarithmic transformations"
   ]
  },
  {
   "cell_type": "code",
   "execution_count": 18,
   "id": "99c3abe5",
   "metadata": {},
   "outputs": [],
   "source": [
    "# Prepare data\n",
    "df_modem = pd.DataFrame({'Tam1Mb':[1.59129, 1.59129, 0.51858, 1.29297, 0.14062, 0.22461, 0.66895, 2.68000],\n",
    "                         'Tpo1Mb':[23.22, 14.56, 6.07, 13.50, 1.38, 2.24, 5.95, 23.45]})"
   ]
  },
  {
   "cell_type": "code",
   "execution_count": 19,
   "id": "42b15730",
   "metadata": {},
   "outputs": [
    {
     "data": {
      "text/plain": [
       "Text(0, 0.5, 'Tpo1Mb')"
      ]
     },
     "execution_count": 19,
     "metadata": {},
     "output_type": "execute_result"
    },
    {
     "data": {
      "image/png": "[encoded data removed]",
      "text/plain": [
       "<Figure size 720x432 with 1 Axes>"
      ]
     },
     "metadata": {
      "needs_background": "light"
     },
     "output_type": "display_data"
    }
   ],
   "source": [
    "# Visual inspection of data\n",
    "fig, ax = plt.subplots()\n",
    "ax.scatter(df_modem['Tam1Mb'],df_modem['Tpo1Mb'])\n",
    "ax.set_xlabel('Tam1Mb')\n",
    "ax.set_ylabel('Tpo1Mb')"
   ]
  },
  {
   "cell_type": "code",
   "execution_count": 20,
   "id": "66c4795f",
   "metadata": {},
   "outputs": [
    {
     "name": "stdout",
     "output_type": "stream",
     "text": [
      "                            OLS Regression Results                            \n",
      "==============================================================================\n",
      "Dep. Variable:                 Tpo1Mb   R-squared:                       0.879\n",
      "Model:                            OLS   Adj. R-squared:                  0.859\n",
      "Method:                 Least Squares   F-statistic:                     43.49\n",
      "Date:                Thu, 28 Apr 2022   Prob (F-statistic):           0.000584\n",
      "Time:                        15:44:38   Log-Likelihood:                -19.772\n",
      "No. Observations:                   8   AIC:                             43.54\n",
      "Df Residuals:                       6   BIC:                             43.70\n",
      "Df Model:                           1                                         \n",
      "Covariance Type:            nonrobust                                         \n",
      "==============================================================================\n",
      "                 coef    std err          t      P>|t|      [0.025      0.975]\n",
      "------------------------------------------------------------------------------\n",
      "Intercept      0.9076      1.962      0.463      0.660      -3.893       5.708\n",
      "Tam1Mb         9.5436      1.447      6.595      0.001       6.003      13.085\n",
      "==============================================================================\n",
      "Omnibus:                       14.560   Durbin-Watson:                   1.256\n",
      "Prob(Omnibus):                  0.001   Jarque-Bera (JB):                5.300\n",
      "Skew:                           1.737   Prob(JB):                       0.0706\n",
      "Kurtosis:                       4.959   Cond. No.                         3.20\n",
      "==============================================================================\n",
      "\n",
      "Notes:\n",
      "[1] Standard Errors assume that the covariance matrix of the errors is correctly specified.\n"
     ]
    },
    {
     "name": "stderr",
     "output_type": "stream",
     "text": [
      "/home/miquel/anaconda3/envs/bpenv37/lib/python3.7/site-packages/scipy/stats/stats.py:1604: UserWarning: kurtosistest only valid for n>=20 ... continuing anyway, n=8\n",
      "  \"anyway, n=%i\" % int(n))\n"
     ]
    }
   ],
   "source": [
    "mod = sm_formula.ols('Tpo1Mb ~ 1 + Tam1Mb', data=df_modem)\n",
    "res = mod.fit()\n",
    "print(res.summary())"
   ]
  },
  {
   "cell_type": "code",
   "execution_count": 21,
   "id": "4522224e",
   "metadata": {},
   "outputs": [],
   "source": [
    "# Logarithmic transformations\n",
    "df_modem['log_Tam1Mb'] = df_modem['Tam1Mb'].apply(lambda x: math.log(x))\n",
    "df_modem['log_Tpo1Mb'] = df_modem['Tpo1Mb'].apply(lambda x: math.log(x))"
   ]
  },
  {
   "cell_type": "code",
   "execution_count": 22,
   "id": "32157f14",
   "metadata": {},
   "outputs": [
    {
     "data": {
      "text/plain": [
       "Text(0, 0.5, 'log_Tpo1Mb')"
      ]
     },
     "execution_count": 22,
     "metadata": {},
     "output_type": "execute_result"
    },
    {
     "data": {
      "image/png": "[encoded data removed]",
      "text/plain": [
       "<Figure size 720x432 with 1 Axes>"
      ]
     },
     "metadata": {
      "needs_background": "light"
     },
     "output_type": "display_data"
    }
   ],
   "source": [
    "# Visual inspection of data\n",
    "fig, ax = plt.subplots()\n",
    "ax.scatter(df_modem['log_Tam1Mb'],df_modem['log_Tpo1Mb'])\n",
    "ax.set_xlabel('log_Tam1Mb')\n",
    "ax.set_ylabel('log_Tpo1Mb')"
   ]
  },
  {
   "cell_type": "code",
   "execution_count": 23,
   "id": "9cc5709d",
   "metadata": {},
   "outputs": [
    {
     "name": "stdout",
     "output_type": "stream",
     "text": [
      "                            OLS Regression Results                            \n",
      "==============================================================================\n",
      "Dep. Variable:             log_Tpo1Mb   R-squared:                       0.974\n",
      "Model:                            OLS   Adj. R-squared:                  0.970\n",
      "Method:                 Least Squares   F-statistic:                     224.2\n",
      "Date:                Thu, 28 Apr 2022   Prob (F-statistic):           5.59e-06\n",
      "Time:                        15:44:40   Log-Likelihood:                 3.3478\n",
      "No. Observations:                   8   AIC:                            -2.696\n",
      "Df Residuals:                       6   BIC:                            -2.537\n",
      "Df Model:                           1                                         \n",
      "Covariance Type:            nonrobust                                         \n",
      "==============================================================================\n",
      "                 coef    std err          t      P>|t|      [0.025      0.975]\n",
      "------------------------------------------------------------------------------\n",
      "Intercept      2.3322      0.068     34.333      0.000       2.166       2.498\n",
      "log_Tam1Mb     1.0083      0.067     14.974      0.000       0.844       1.173\n",
      "==============================================================================\n",
      "Omnibus:                        4.193   Durbin-Watson:                   1.559\n",
      "Prob(Omnibus):                  0.123   Jarque-Bera (JB):                1.426\n",
      "Skew:                           1.033   Prob(JB):                        0.490\n",
      "Kurtosis:                       3.091   Cond. No.                         1.35\n",
      "==============================================================================\n",
      "\n",
      "Notes:\n",
      "[1] Standard Errors assume that the covariance matrix of the errors is correctly specified.\n"
     ]
    },
    {
     "name": "stderr",
     "output_type": "stream",
     "text": [
      "/home/miquel/anaconda3/envs/bpenv37/lib/python3.7/site-packages/scipy/stats/stats.py:1604: UserWarning: kurtosistest only valid for n>=20 ... continuing anyway, n=8\n",
      "  \"anyway, n=%i\" % int(n))\n"
     ]
    }
   ],
   "source": [
    "mod = sm_formula.ols('log_Tpo1Mb ~ 1 + log_Tam1Mb', data=df_modem)\n",
    "res = mod.fit()\n",
    "print(res.summary())"
   ]
  },
  {
   "cell_type": "code",
   "execution_count": 24,
   "id": "d425b211",
   "metadata": {},
   "outputs": [
    {
     "data": {
      "text/html": [
       "<div>\n",
       "<style scoped>\n",
       "    .dataframe tbody tr th:only-of-type {\n",
       "        vertical-align: middle;\n",
       "    }\n",
       "\n",
       "    .dataframe tbody tr th {\n",
       "        vertical-align: top;\n",
       "    }\n",
       "\n",
       "    .dataframe thead th {\n",
       "        text-align: right;\n",
       "    }\n",
       "</style>\n",
       "<table border=\"1\" class=\"dataframe\">\n",
       "  <thead>\n",
       "    <tr style=\"text-align: right;\">\n",
       "      <th></th>\n",
       "      <th>mean</th>\n",
       "      <th>mean_se</th>\n",
       "      <th>mean_ci_lower</th>\n",
       "      <th>mean_ci_upper</th>\n",
       "      <th>obs_ci_lower</th>\n",
       "      <th>obs_ci_upper</th>\n",
       "    </tr>\n",
       "  </thead>\n",
       "  <tbody>\n",
       "    <tr>\n",
       "      <th>0</th>\n",
       "      <td>2.800610</td>\n",
       "      <td>0.082620</td>\n",
       "      <td>2.598447</td>\n",
       "      <td>3.002774</td>\n",
       "      <td>2.307383</td>\n",
       "      <td>3.293837</td>\n",
       "    </tr>\n",
       "    <tr>\n",
       "      <th>1</th>\n",
       "      <td>2.800610</td>\n",
       "      <td>0.082620</td>\n",
       "      <td>2.598447</td>\n",
       "      <td>3.002774</td>\n",
       "      <td>2.307383</td>\n",
       "      <td>3.293837</td>\n",
       "    </tr>\n",
       "    <tr>\n",
       "      <th>2</th>\n",
       "      <td>1.670073</td>\n",
       "      <td>0.069470</td>\n",
       "      <td>1.500085</td>\n",
       "      <td>1.840061</td>\n",
       "      <td>1.189138</td>\n",
       "      <td>2.151009</td>\n",
       "    </tr>\n",
       "    <tr>\n",
       "      <th>3</th>\n",
       "      <td>2.591279</td>\n",
       "      <td>0.074804</td>\n",
       "      <td>2.408240</td>\n",
       "      <td>2.774319</td>\n",
       "      <td>2.105577</td>\n",
       "      <td>3.076981</td>\n",
       "    </tr>\n",
       "    <tr>\n",
       "      <th>4</th>\n",
       "      <td>0.354179</td>\n",
       "      <td>0.129830</td>\n",
       "      <td>0.036497</td>\n",
       "      <td>0.671862</td>\n",
       "      <td>-0.196570</td>\n",
       "      <td>0.904929</td>\n",
       "    </tr>\n",
       "    <tr>\n",
       "      <th>5</th>\n",
       "      <td>0.826381</td>\n",
       "      <td>0.103741</td>\n",
       "      <td>0.572536</td>\n",
       "      <td>1.080227</td>\n",
       "      <td>0.309815</td>\n",
       "      <td>1.342947</td>\n",
       "    </tr>\n",
       "    <tr>\n",
       "      <th>6</th>\n",
       "      <td>1.926807</td>\n",
       "      <td>0.065420</td>\n",
       "      <td>1.766730</td>\n",
       "      <td>2.086885</td>\n",
       "      <td>1.449285</td>\n",
       "      <td>2.404330</td>\n",
       "    </tr>\n",
       "    <tr>\n",
       "      <th>7</th>\n",
       "      <td>3.326220</td>\n",
       "      <td>0.107880</td>\n",
       "      <td>3.062247</td>\n",
       "      <td>3.590193</td>\n",
       "      <td>2.804603</td>\n",
       "      <td>3.847837</td>\n",
       "    </tr>\n",
       "  </tbody>\n",
       "</table>\n",
       "</div>"
      ],
      "text/plain": [
       "       mean   mean_se  mean_ci_lower  mean_ci_upper  obs_ci_lower  \\\n",
       "0  2.800610  0.082620       2.598447       3.002774      2.307383   \n",
       "1  2.800610  0.082620       2.598447       3.002774      2.307383   \n",
       "2  1.670073  0.069470       1.500085       1.840061      1.189138   \n",
       "3  2.591279  0.074804       2.408240       2.774319      2.105577   \n",
       "4  0.354179  0.129830       0.036497       0.671862     -0.196570   \n",
       "5  0.826381  0.103741       0.572536       1.080227      0.309815   \n",
       "6  1.926807  0.065420       1.766730       2.086885      1.449285   \n",
       "7  3.326220  0.107880       3.062247       3.590193      2.804603   \n",
       "\n",
       "   obs_ci_upper  \n",
       "0      3.293837  \n",
       "1      3.293837  \n",
       "2      2.151009  \n",
       "3      3.076981  \n",
       "4      0.904929  \n",
       "5      1.342947  \n",
       "6      2.404330  \n",
       "7      3.847837  "
      ]
     },
     "execution_count": 24,
     "metadata": {},
     "output_type": "execute_result"
    }
   ],
   "source": [
    "res.get_prediction(df_modem).summary_frame(alpha=0.05)"
   ]
  },
  {
   "cell_type": "markdown",
   "id": "a0b88a7b",
   "metadata": {},
   "source": [
    "## Exercises"
   ]
  },
  {
   "cell_type": "markdown",
   "id": "f17eb19e",
   "metadata": {},
   "source": [
    "- What is the R-squared metric?\n",
    "- And the adjusted R-squared?\n",
    "\n",
    "- What is the intercept?\n",
    "- What is the variable located under the intercept?\n",
    "\n",
    "- What is the meaning of the following columns:\n",
    "    - coef    \n",
    "    - std err\n",
    "    - t\n",
    "    - P>|t|\n",
    "    - [0.025      0.975]\n",
    "    \n",
    "- Why do we use logarithmic transformations of variables?"
   ]
  },
  {
   "cell_type": "code",
   "execution_count": null,
   "id": "13d6098d",
   "metadata": {},
   "outputs": [],
   "source": []
  }
 ],
 "metadata": {
  "kernelspec": {
   "display_name": "Python 3",
   "language": "python",
   "name": "python3"
  },
  "language_info": {
   "codemirror_mode": {
    "name": "ipython",
    "version": 3
   },
   "file_extension": ".py",
   "mimetype": "text/x-python",
   "name": "python",
   "nbconvert_exporter": "python",
   "pygments_lexer": "ipython3",
   "version": "3.7.5"
  }
 },
 "nbformat": 4,
 "nbformat_minor": 5
}
