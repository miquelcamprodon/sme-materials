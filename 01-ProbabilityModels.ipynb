{
 "cells": [
  {
   "cell_type": "markdown",
   "id": "e4096e02",
   "metadata": {},
   "source": [
    "# Probability Distribution Models"
   ]
  },
  {
   "cell_type": "code",
   "execution_count": 1,
   "id": "0e6807d1",
   "metadata": {},
   "outputs": [],
   "source": [
    "# Libraries\n",
    "import numpy as np\n",
    "import pandas as pd\n",
    "from datetime import datetime as dt\n",
    "from scipy import stats\n",
    "import scipy\n",
    "import matplotlib.pyplot as plt"
   ]
  },
  {
   "cell_type": "markdown",
   "id": "2490dac2",
   "metadata": {},
   "source": [
    "# Discrete distributions"
   ]
  },
  {
   "cell_type": "markdown",
   "id": "cceccc2f",
   "metadata": {},
   "source": [
    "## Binomial Distribution\n",
    "\n",
    "https://docs.scipy.org/doc/scipy/reference/reference/generated/scipy.stats.binom.html#scipy.stats.binom"
   ]
  },
  {
   "cell_type": "code",
   "execution_count": 2,
   "id": "b20f72ab",
   "metadata": {},
   "outputs": [
    {
     "data": {
      "text/plain": [
       "0.03696441650390614"
      ]
     },
     "execution_count": 2,
     "metadata": {},
     "output_type": "execute_result"
    }
   ],
   "source": [
    "# Let X be a B(n=20, p=0.5)\n",
    "\n",
    "# Probability of X = 14?\n",
    "# Probability Mass Function\n",
    "scipy.stats.binom.pmf(14, 20, 0.5)"
   ]
  },
  {
   "cell_type": "code",
   "execution_count": 3,
   "id": "7ed29e39",
   "metadata": {},
   "outputs": [
    {
     "data": {
      "text/plain": [
       "0.9793052673339844"
      ]
     },
     "execution_count": 3,
     "metadata": {},
     "output_type": "execute_result"
    }
   ],
   "source": [
    "# Probability of X <= 14?\n",
    "# Cumulative Distribution Function\n",
    "scipy.stats.binom.cdf(14, 20, 0.5)"
   ]
  },
  {
   "cell_type": "code",
   "execution_count": 4,
   "id": "5b7d53bb",
   "metadata": {},
   "outputs": [
    {
     "data": {
      "text/plain": [
       "14.0"
      ]
     },
     "execution_count": 4,
     "metadata": {},
     "output_type": "execute_result"
    }
   ],
   "source": [
    "# Quantile 0.95?\n",
    "# Minimum value of x s.t. P(X<=x)>=0.95\n",
    "# PPercent Point Function\n",
    "scipy.stats.binom.ppf(0.95, 20, 0.5)"
   ]
  },
  {
   "cell_type": "markdown",
   "id": "bae4f7f9",
   "metadata": {},
   "source": [
    "## Geometric Distribution\n",
    "\n",
    "https://docs.scipy.org/doc/scipy/reference/reference/generated/scipy.stats.geom.html#scipy.stats.geom"
   ]
  },
  {
   "cell_type": "code",
   "execution_count": 5,
   "id": "96febdac",
   "metadata": {},
   "outputs": [
    {
     "data": {
      "text/plain": [
       "0.125"
      ]
     },
     "execution_count": 5,
     "metadata": {},
     "output_type": "execute_result"
    }
   ],
   "source": [
    "# Let X be a Geom(p=0.5)\n",
    "\n",
    "# Probability of X = 3?\n",
    "# Probability Mass Function\n",
    "scipy.stats.geom.pmf(3, 0.5)"
   ]
  },
  {
   "cell_type": "code",
   "execution_count": 6,
   "id": "833a877a",
   "metadata": {},
   "outputs": [
    {
     "data": {
      "text/plain": [
       "0.875"
      ]
     },
     "execution_count": 6,
     "metadata": {},
     "output_type": "execute_result"
    }
   ],
   "source": [
    "# Probability of X <= 3?\n",
    "# Cumulative Distribution Function\n",
    "scipy.stats.geom.cdf(3, 0.5)"
   ]
  },
  {
   "cell_type": "code",
   "execution_count": 7,
   "id": "dd9ebc29",
   "metadata": {},
   "outputs": [
    {
     "data": {
      "text/plain": [
       "5.0"
      ]
     },
     "execution_count": 7,
     "metadata": {},
     "output_type": "execute_result"
    }
   ],
   "source": [
    "# Quantile 0.95?\n",
    "# Minimum value of x s.t. P(X<=x)>=0.95\n",
    "# PPercent Point Function\n",
    "scipy.stats.geom.ppf(0.95, 0.5)"
   ]
  },
  {
   "cell_type": "markdown",
   "id": "eeeacd95",
   "metadata": {},
   "source": [
    "## Negative Binomial Distribution\n",
    "\n",
    "https://docs.scipy.org/doc/scipy/reference/reference/generated/scipy.stats.nbinom.html#scipy.stats.nbinom"
   ]
  },
  {
   "cell_type": "code",
   "execution_count": 8,
   "id": "f5931fbb",
   "metadata": {},
   "outputs": [
    {
     "data": {
      "text/plain": [
       "0.04870831966400159"
      ]
     },
     "execution_count": 8,
     "metadata": {},
     "output_type": "execute_result"
    }
   ],
   "source": [
    "# Let X be a NB(r=10, p=0.5)\n",
    "\n",
    "# Probability of X = 14?\n",
    "# Probability Mass Function\n",
    "scipy.stats.nbinom.pmf(14, 10, 0.5)"
   ]
  },
  {
   "cell_type": "code",
   "execution_count": 9,
   "id": "6b311531",
   "metadata": {},
   "outputs": [
    {
     "data": {
      "text/plain": [
       "0.8462718725204468"
      ]
     },
     "execution_count": 9,
     "metadata": {},
     "output_type": "execute_result"
    }
   ],
   "source": [
    "# Probability of X <= 14?\n",
    "# Cumulative Distribution Function\n",
    "scipy.stats.nbinom.cdf(14, 10, 0.5)"
   ]
  },
  {
   "cell_type": "code",
   "execution_count": 10,
   "id": "c190d233",
   "metadata": {},
   "outputs": [
    {
     "data": {
      "text/plain": [
       "18.0"
      ]
     },
     "execution_count": 10,
     "metadata": {},
     "output_type": "execute_result"
    }
   ],
   "source": [
    "# Quantile 0.95?\n",
    "# Minimum value of x s.t. P(X<=x)>=0.95\n",
    "# PPercent Point Function\n",
    "scipy.stats.nbinom.ppf(0.95, 10, 0.5)"
   ]
  },
  {
   "cell_type": "markdown",
   "id": "773313a8",
   "metadata": {},
   "source": [
    "## Poisson Distribution\n",
    "\n",
    "https://docs.scipy.org/doc/scipy/reference/reference/generated/scipy.stats.poisson.html#scipy.stats.poisson"
   ]
  },
  {
   "cell_type": "code",
   "execution_count": 11,
   "id": "10a2013b",
   "metadata": {},
   "outputs": [
    {
     "data": {
      "text/plain": [
       "0.18044704431548356"
      ]
     },
     "execution_count": 11,
     "metadata": {},
     "output_type": "execute_result"
    }
   ],
   "source": [
    "# Let X be a Poiss(lambda = 2)\n",
    "\n",
    "# Probability of X = 3?\n",
    "scipy.stats.poisson.pmf(3,2)"
   ]
  },
  {
   "cell_type": "code",
   "execution_count": 12,
   "id": "808dfe37",
   "metadata": {},
   "outputs": [
    {
     "data": {
      "text/plain": [
       "0.857123460498547"
      ]
     },
     "execution_count": 12,
     "metadata": {},
     "output_type": "execute_result"
    }
   ],
   "source": [
    "# Probability of X <= 3?\n",
    "scipy.stats.poisson.cdf(3,2)"
   ]
  },
  {
   "cell_type": "code",
   "execution_count": 13,
   "id": "e7bbf092",
   "metadata": {},
   "outputs": [
    {
     "data": {
      "text/plain": [
       "5.0"
      ]
     },
     "execution_count": 13,
     "metadata": {},
     "output_type": "execute_result"
    }
   ],
   "source": [
    "# Quantile 0.95?\n",
    "scipy.stats.poisson.ppf(0.95,2)"
   ]
  },
  {
   "cell_type": "markdown",
   "id": "65355963",
   "metadata": {},
   "source": [
    "# Continuous Distributions"
   ]
  },
  {
   "cell_type": "markdown",
   "id": "86af2b03",
   "metadata": {},
   "source": [
    "## Exponential Distribution\n",
    "https://docs.scipy.org/doc/scipy/reference/reference/generated/scipy.stats.expon.html#scipy.stats.expon"
   ]
  },
  {
   "cell_type": "code",
   "execution_count": 14,
   "id": "724811e4",
   "metadata": {},
   "outputs": [
    {
     "data": {
      "text/plain": [
       "0.9816843611112658"
      ]
     },
     "execution_count": 14,
     "metadata": {},
     "output_type": "execute_result"
    }
   ],
   "source": [
    "# Let X be an Exp(lambda = 2)\n",
    "# Probability of X <= 2?\n",
    "scipy.stats.expon.cdf(2, 0, 1/2)"
   ]
  },
  {
   "cell_type": "code",
   "execution_count": 15,
   "id": "48ab818a",
   "metadata": {},
   "outputs": [
    {
     "data": {
      "text/plain": [
       "1.497866136776995"
      ]
     },
     "execution_count": 15,
     "metadata": {},
     "output_type": "execute_result"
    }
   ],
   "source": [
    "# Quantile 0.95?\n",
    "scipy.stats.expon.ppf(0.95, 0, 1/2)"
   ]
  },
  {
   "cell_type": "markdown",
   "id": "5f9490ea",
   "metadata": {},
   "source": [
    "## Uniform Distribution\n",
    "https://docs.scipy.org/doc/scipy/reference/reference/generated/scipy.stats.uniform.html#scipy.stats.uniform"
   ]
  },
  {
   "cell_type": "code",
   "execution_count": 16,
   "id": "6ff83927",
   "metadata": {},
   "outputs": [
    {
     "data": {
      "text/plain": [
       "0.5"
      ]
     },
     "execution_count": 16,
     "metadata": {},
     "output_type": "execute_result"
    }
   ],
   "source": [
    "# Let X be an Unif(a=1, b=3)\n",
    "# Probability of X <= 2?\n",
    "#In the standard form, the distribution is uniform on [0, 1]. \n",
    "# Using the parameters loc and scale, one obtains the uniform distribution on [loc, loc + scale].\n",
    "scipy.stats.uniform.cdf(2, 1, 2)"
   ]
  },
  {
   "cell_type": "code",
   "execution_count": 17,
   "id": "441df6b9",
   "metadata": {},
   "outputs": [
    {
     "data": {
      "text/plain": [
       "2.9"
      ]
     },
     "execution_count": 17,
     "metadata": {},
     "output_type": "execute_result"
    }
   ],
   "source": [
    "# Quantile 0.95?\n",
    "scipy.stats.uniform.ppf(0.95, 1, 2)"
   ]
  },
  {
   "cell_type": "markdown",
   "id": "5431fbdf",
   "metadata": {},
   "source": [
    "## Normal Distribution\n",
    "https://docs.scipy.org/doc/scipy/reference/reference/generated/scipy.stats.norm.html#scipy.stats.norm"
   ]
  },
  {
   "cell_type": "code",
   "execution_count": 18,
   "id": "30f2b3cd",
   "metadata": {},
   "outputs": [
    {
     "data": {
      "text/plain": [
       "0.9772498680518208"
      ]
     },
     "execution_count": 18,
     "metadata": {},
     "output_type": "execute_result"
    }
   ],
   "source": [
    "# Let X be a Norm(mu=0, sigma=1)\n",
    "# Probability of X <= 2?\n",
    "scipy.stats.norm.cdf(2, 0, 1)"
   ]
  },
  {
   "cell_type": "code",
   "execution_count": 19,
   "id": "be45983a",
   "metadata": {},
   "outputs": [
    {
     "data": {
      "text/plain": [
       "1.6448536269514722"
      ]
     },
     "execution_count": 19,
     "metadata": {},
     "output_type": "execute_result"
    }
   ],
   "source": [
    "# Quantile 0.95?\n",
    "scipy.stats.norm.ppf(0.95, 0, 1)"
   ]
  },
  {
   "cell_type": "code",
   "execution_count": null,
   "id": "85c56f78",
   "metadata": {},
   "outputs": [],
   "source": []
  }
 ],
 "metadata": {
  "kernelspec": {
   "display_name": "Python 3",
   "language": "python",
   "name": "python3"
  },
  "language_info": {
   "codemirror_mode": {
    "name": "ipython",
    "version": 3
   },
   "file_extension": ".py",
   "mimetype": "text/x-python",
   "name": "python",
   "nbconvert_exporter": "python",
   "pygments_lexer": "ipython3",
   "version": "3.7.5"
  }
 },
 "nbformat": 4,
 "nbformat_minor": 5
}
