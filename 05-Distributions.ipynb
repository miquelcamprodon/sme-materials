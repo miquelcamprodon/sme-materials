{
 "cells": [
  {
   "cell_type": "code",
   "execution_count": 1,
   "id": "4c6e566a",
   "metadata": {},
   "outputs": [],
   "source": [
    "# Libraries\n",
    "import numpy as np\n",
    "import pandas as pd\n",
    "from datetime import datetime as dt\n",
    "from scipy import stats\n",
    "import statsmodels.formula.api as sm_formula\n",
    "import statsmodels.api as sm\n",
    "from scipy import stats\n",
    "import scipy\n",
    "import math\n",
    "import matplotlib.pyplot as plt\n",
    "%matplotlib inline"
   ]
  },
  {
   "cell_type": "markdown",
   "id": "da463903",
   "metadata": {},
   "source": [
    "### Check that the sum of squares of N(0,1) follows a chi-square distribution"
   ]
  },
  {
   "cell_type": "code",
   "execution_count": 2,
   "id": "a495f2aa",
   "metadata": {},
   "outputs": [],
   "source": [
    "m=5000 # samples of N(0,1)\n",
    "n=7   # degrees of freedom"
   ]
  },
  {
   "cell_type": "code",
   "execution_count": 3,
   "id": "25d92134",
   "metadata": {},
   "outputs": [],
   "source": [
    "sample = np.random.normal(0, 1, m*n).reshape(m,n)\n",
    "sample2 = sample*sample"
   ]
  },
  {
   "cell_type": "code",
   "execution_count": 4,
   "id": "48ca6bcb",
   "metadata": {},
   "outputs": [
    {
     "data": {
      "text/plain": [
       "count    5000.000000\n",
       "mean        6.983337\n",
       "std         3.694727\n",
       "min         0.506779\n",
       "25%         4.231516\n",
       "50%         6.399403\n",
       "75%         8.972933\n",
       "max        32.253752\n",
       "dtype: float64"
      ]
     },
     "execution_count": 4,
     "metadata": {},
     "output_type": "execute_result"
    },
    {
     "data": {
      "image/png": "[encoded data removed]",
      "text/plain": [
       "<Figure size 432x288 with 1 Axes>"
      ]
     },
     "metadata": {
      "needs_background": "light"
     },
     "output_type": "display_data"
    }
   ],
   "source": [
    "sums = sample2.sum(axis=1)\n",
    "pd.Series(sums).hist(bins=25)\n",
    "pd.Series(sums).describe()"
   ]
  },
  {
   "cell_type": "code",
   "execution_count": 5,
   "id": "db9808f1",
   "metadata": {},
   "outputs": [
    {
     "data": {
      "text/plain": [
       "count    5000.000000\n",
       "mean        7.011383\n",
       "std         3.690871\n",
       "min         0.458216\n",
       "25%         4.244969\n",
       "50%         6.372626\n",
       "75%         9.065205\n",
       "max        27.844128\n",
       "dtype: float64"
      ]
     },
     "execution_count": 5,
     "metadata": {},
     "output_type": "execute_result"
    },
    {
     "data": {
      "image/png": "[encoded data removed]",
      "text/plain": [
       "<Figure size 432x288 with 1 Axes>"
      ]
     },
     "metadata": {
      "needs_background": "light"
     },
     "output_type": "display_data"
    }
   ],
   "source": [
    "sample3 = np.random.chisquare(n,m)\n",
    "pd.Series(sample3).hist(bins=25)\n",
    "pd.Series(sample3).describe()"
   ]
  },
  {
   "cell_type": "markdown",
   "id": "60c221ee",
   "metadata": {},
   "source": [
    "### Check that from the ratio of a z distribution and the root of a chi-square distribution we obtain a t distribution"
   ]
  },
  {
   "cell_type": "code",
   "execution_count": 6,
   "id": "34254d55",
   "metadata": {},
   "outputs": [],
   "source": [
    "m=5000 # samples of N(0,1)\n",
    "n=7   # degrees of freedom"
   ]
  },
  {
   "cell_type": "code",
   "execution_count": 7,
   "id": "f07b6af1",
   "metadata": {},
   "outputs": [],
   "source": [
    "samplez = np.random.normal(0, 1, m)\n",
    "samplechi2 = np.random.chisquare(n,m)\n",
    "samplechi2n = np.sqrt(np.random.chisquare(n,m)/n)\n",
    "t = samplez / samplechi2n"
   ]
  },
  {
   "cell_type": "code",
   "execution_count": 8,
   "id": "1dcd5965",
   "metadata": {},
   "outputs": [
    {
     "data": {
      "text/plain": [
       "count    5000.000000\n",
       "mean       -0.020900\n",
       "std         1.186481\n",
       "min        -7.295399\n",
       "25%        -0.747463\n",
       "50%        -0.022648\n",
       "75%         0.683989\n",
       "max         6.672230\n",
       "dtype: float64"
      ]
     },
     "execution_count": 8,
     "metadata": {},
     "output_type": "execute_result"
    },
    {
     "data": {
      "image/png": "[encoded data removed]",
      "text/plain": [
       "<Figure size 432x288 with 1 Axes>"
      ]
     },
     "metadata": {
      "needs_background": "light"
     },
     "output_type": "display_data"
    }
   ],
   "source": [
    "pd.Series(t).hist(bins=25)\n",
    "pd.Series(t).describe()"
   ]
  },
  {
   "cell_type": "code",
   "execution_count": 9,
   "id": "f469dab3",
   "metadata": {},
   "outputs": [],
   "source": [
    "samplet = np.random.standard_t(n, m)"
   ]
  },
  {
   "cell_type": "code",
   "execution_count": 10,
   "id": "5c84239f",
   "metadata": {},
   "outputs": [
    {
     "data": {
      "text/plain": [
       "count    5000.000000\n",
       "mean        0.022000\n",
       "std         1.185930\n",
       "min        -7.038098\n",
       "25%        -0.720017\n",
       "50%         0.014369\n",
       "75%         0.736370\n",
       "max         6.707767\n",
       "dtype: float64"
      ]
     },
     "execution_count": 10,
     "metadata": {},
     "output_type": "execute_result"
    },
    {
     "data": {
      "image/png": "[encoded data removed]",
      "text/plain": [
       "<Figure size 432x288 with 1 Axes>"
      ]
     },
     "metadata": {
      "needs_background": "light"
     },
     "output_type": "display_data"
    }
   ],
   "source": [
    "pd.Series(samplet).hist(bins=25)\n",
    "pd.Series(samplet).describe()"
   ]
  },
  {
   "cell_type": "markdown",
   "id": "4ee3c0cd",
   "metadata": {},
   "source": [
    "### Punctual estimation"
   ]
  },
  {
   "cell_type": "code",
   "execution_count": 11,
   "id": "cd9d8d35",
   "metadata": {},
   "outputs": [],
   "source": [
    "nterm = [587,470,676,451,436,672,584,697,408]"
   ]
  },
  {
   "cell_type": "code",
   "execution_count": 12,
   "id": "4f9a5af9",
   "metadata": {},
   "outputs": [
    {
     "data": {
      "text/plain": [
       "553.4444444444445"
      ]
     },
     "execution_count": 12,
     "metadata": {},
     "output_type": "execute_result"
    }
   ],
   "source": [
    "np.mean(nterm)"
   ]
  },
  {
   "cell_type": "code",
   "execution_count": 13,
   "id": "a62ee07d",
   "metadata": {},
   "outputs": [
    {
     "data": {
      "text/plain": [
       "114.09876326138587"
      ]
     },
     "execution_count": 13,
     "metadata": {},
     "output_type": "execute_result"
    }
   ],
   "source": [
    "np.std(nterm,ddof=1)"
   ]
  },
  {
   "cell_type": "code",
   "execution_count": 14,
   "id": "2fdc66bc",
   "metadata": {},
   "outputs": [
    {
     "data": {
      "text/plain": [
       "38.03292108712862"
      ]
     },
     "execution_count": 14,
     "metadata": {},
     "output_type": "execute_result"
    }
   ],
   "source": [
    "np.std(nterm,ddof=1)/np.sqrt(len(nterm))"
   ]
  },
  {
   "cell_type": "markdown",
   "id": "ceb86a77",
   "metadata": {},
   "source": [
    "### Confidence interval for the mean, stdev unknown"
   ]
  },
  {
   "cell_type": "code",
   "execution_count": 15,
   "id": "8e8314a5",
   "metadata": {},
   "outputs": [],
   "source": [
    "nterm = [587,470,676,451,436,672,584,697,408]\n",
    "n = 9\n",
    "sigma = 100"
   ]
  },
  {
   "cell_type": "code",
   "execution_count": 16,
   "id": "803dbc1a",
   "metadata": {},
   "outputs": [
    {
     "data": {
      "text/plain": [
       "618.7765772624463"
      ]
     },
     "execution_count": 16,
     "metadata": {},
     "output_type": "execute_result"
    }
   ],
   "source": [
    "np.mean(nterm) + scipy.stats.norm.ppf(0.975)*sigma/np.sqrt(n)"
   ]
  },
  {
   "cell_type": "code",
   "execution_count": 17,
   "id": "694df637",
   "metadata": {},
   "outputs": [
    {
     "data": {
      "text/plain": [
       "641.1485177387609"
      ]
     },
     "execution_count": 17,
     "metadata": {},
     "output_type": "execute_result"
    }
   ],
   "source": [
    "np.mean(nterm) + scipy.stats.t.ppf(0.975,8)*np.std(nterm,ddof=1)/np.sqrt(n)"
   ]
  },
  {
   "cell_type": "code",
   "execution_count": 18,
   "id": "f2ee0d13",
   "metadata": {},
   "outputs": [
    {
     "data": {
      "text/plain": [
       "0.9914641593831087"
      ]
     },
     "execution_count": 18,
     "metadata": {},
     "output_type": "execute_result"
    }
   ],
   "source": [
    "scipy.stats.t.cdf(3,8)"
   ]
  },
  {
   "cell_type": "markdown",
   "id": "3c472de2",
   "metadata": {},
   "source": [
    "### Check that the quotient of two chi-square distributions divided by its degrees of freedom is a F distribution"
   ]
  },
  {
   "cell_type": "code",
   "execution_count": 19,
   "id": "6c407eda",
   "metadata": {},
   "outputs": [],
   "source": [
    "m=5000 # samples of N(0,1)\n",
    "n1=5   # degrees of freedom\n",
    "n2=7 "
   ]
  },
  {
   "cell_type": "code",
   "execution_count": 20,
   "id": "c6dc6247",
   "metadata": {},
   "outputs": [],
   "source": [
    "samplechi2n1 = np.random.chisquare(n1,m)\n",
    "samplechi2n2 = np.random.chisquare(n2,m)\n",
    "f = (samplechi2n1 / n1) / (samplechi2n2 / n2)"
   ]
  },
  {
   "cell_type": "code",
   "execution_count": 21,
   "id": "4705303a",
   "metadata": {},
   "outputs": [
    {
     "data": {
      "text/plain": [
       "count    5000.000000\n",
       "mean        1.387932\n",
       "std         1.500368\n",
       "min         0.015112\n",
       "25%         0.530307\n",
       "50%         0.982594\n",
       "75%         1.710182\n",
       "max        23.871171\n",
       "dtype: float64"
      ]
     },
     "execution_count": 21,
     "metadata": {},
     "output_type": "execute_result"
    },
    {
     "data": {
      "image/png": "[encoded data removed]",
      "text/plain": [
       "<Figure size 432x288 with 1 Axes>"
      ]
     },
     "metadata": {
      "needs_background": "light"
     },
     "output_type": "display_data"
    }
   ],
   "source": [
    "pd.Series(f).hist(bins=25)\n",
    "pd.Series(f).describe()"
   ]
  },
  {
   "cell_type": "code",
   "execution_count": 22,
   "id": "5adc8bda",
   "metadata": {},
   "outputs": [
    {
     "data": {
      "text/plain": [
       "count    5000.000000\n",
       "mean        1.424662\n",
       "std         1.532605\n",
       "min         0.012164\n",
       "25%         0.539307\n",
       "50%         0.989867\n",
       "75%         1.759003\n",
       "max        21.189652\n",
       "dtype: float64"
      ]
     },
     "execution_count": 22,
     "metadata": {},
     "output_type": "execute_result"
    },
    {
     "data": {
      "image/png": "[encoded data removed]",
      "text/plain": [
       "<Figure size 432x288 with 1 Axes>"
      ]
     },
     "metadata": {
      "needs_background": "light"
     },
     "output_type": "display_data"
    }
   ],
   "source": [
    "samplef = np.random.f(n1, n2, m)\n",
    "pd.Series(samplef).hist(bins=25)\n",
    "pd.Series(samplef).describe()"
   ]
  },
  {
   "cell_type": "code",
   "execution_count": 23,
   "id": "151ab11b",
   "metadata": {},
   "outputs": [
    {
     "data": {
      "text/plain": [
       "10.05101721957127"
      ]
     },
     "execution_count": 23,
     "metadata": {},
     "output_type": "execute_result"
    }
   ],
   "source": [
    "scipy.stats.f.ppf(0.99,10,5)"
   ]
  },
  {
   "cell_type": "code",
   "execution_count": 24,
   "id": "92cc0060",
   "metadata": {},
   "outputs": [
    {
     "data": {
      "text/plain": [
       "0.01000227680994581"
      ]
     },
     "execution_count": 24,
     "metadata": {},
     "output_type": "execute_result"
    }
   ],
   "source": [
    "1-scipy.stats.f.cdf(10.05,10,5)"
   ]
  },
  {
   "cell_type": "code",
   "execution_count": 25,
   "id": "edd44911",
   "metadata": {},
   "outputs": [
    {
     "data": {
      "text/plain": [
       "0.9945733337151855"
      ]
     },
     "execution_count": 25,
     "metadata": {},
     "output_type": "execute_result"
    }
   ],
   "source": [
    "scipy.stats.t.cdf(2.58,148)"
   ]
  },
  {
   "cell_type": "code",
   "execution_count": null,
   "id": "7999b84f",
   "metadata": {},
   "outputs": [],
   "source": []
  }
 ],
 "metadata": {
  "kernelspec": {
   "display_name": "Python 3",
   "language": "python",
   "name": "python3"
  },
  "language_info": {
   "codemirror_mode": {
    "name": "ipython",
    "version": 3
   },
   "file_extension": ".py",
   "mimetype": "text/x-python",
   "name": "python",
   "nbconvert_exporter": "python",
   "pygments_lexer": "ipython3",
   "version": "3.7.5"
  }
 },
 "nbformat": 4,
 "nbformat_minor": 5
}
